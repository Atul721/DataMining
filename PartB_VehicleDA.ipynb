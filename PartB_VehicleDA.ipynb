{
  "cells": [
    {
      "cell_type": "markdown",
      "metadata": {
        "id": "view-in-github",
        "colab_type": "text"
      },
      "source": [
        "<a href=\"https://colab.research.google.com/github/Atul721/DataMining/blob/main/PartB_VehicleDA.ipynb\" target=\"_parent\"><img src=\"https://colab.research.google.com/assets/colab-badge.svg\" alt=\"Open In Colab\"/></a>"
      ]
    },
    {
      "cell_type": "code",
      "execution_count": null,
      "id": "84eb3763-aed4-4bea-9d3f-ec29348c223a",
      "metadata": {
        "tags": [],
        "id": "84eb3763-aed4-4bea-9d3f-ec29348c223a",
        "outputId": "79c0f470-4acc-4b62-b72e-3814653064e1"
      },
      "outputs": [
        {
          "name": "stderr",
          "output_type": "stream",
          "text": [
            "C:\\Users\\Athul\\AppData\\Local\\Temp\\ipykernel_19404\\962966135.py:3: DtypeWarning:\n",
            "\n",
            "Columns (1,2,3,6,7,8,9,10,12,13,14,15,16,17,18,19,20,22,25) have mixed types. Specify dtype option on import or set low_memory=False.\n",
            "\n"
          ]
        },
        {
          "name": "stdout",
          "output_type": "stream",
          "text": [
            "<class 'pandas.core.frame.DataFrame'>\n",
            "RangeIndex: 304771 entries, 0 to 304770\n",
            "Data columns (total 26 columns):\n",
            " #   Column        Non-Null Count  Dtype  \n",
            "---  ------        --------------  -----  \n",
            " 0   id            4208 non-null   float64\n",
            " 1   url           4208 non-null   object \n",
            " 2   region        4208 non-null   object \n",
            " 3   region_url    4208 non-null   object \n",
            " 4   price         4208 non-null   float64\n",
            " 5   year          4156 non-null   float64\n",
            " 6   manufacturer  3960 non-null   object \n",
            " 7   model         4176 non-null   object \n",
            " 8   condition     2381 non-null   object \n",
            " 9   cylinders     2658 non-null   object \n",
            " 10  fuel          4140 non-null   object \n",
            " 11  odometer      4196 non-null   float64\n",
            " 12  title_status  4075 non-null   object \n",
            " 13  transmission  4205 non-null   object \n",
            " 14  VIN           2625 non-null   object \n",
            " 15  drive         2781 non-null   object \n",
            " 16  size          1120 non-null   object \n",
            " 17  type          3091 non-null   object \n",
            " 18  paint_color   3296 non-null   object \n",
            " 19  image_url     4208 non-null   object \n",
            " 20  description   4208 non-null   object \n",
            " 21  county        0 non-null      float64\n",
            " 22  state         4208 non-null   object \n",
            " 23  lat           4171 non-null   float64\n",
            " 24  long          4171 non-null   float64\n",
            " 25  posting_date  4208 non-null   object \n",
            "dtypes: float64(7), object(19)\n",
            "memory usage: 60.5+ MB\n"
          ]
        }
      ],
      "source": [
        "import pandas as pd\n",
        "import matplotlib.pyplot as plt\n",
        "mydata = pd.read_csv('vehicles.csv')\n",
        "mydata.head(10)\n",
        "mydata.info()"
      ]
    },
    {
      "cell_type": "code",
      "execution_count": null,
      "id": "59594de4-8aa8-4edc-903e-0831c3ca584e",
      "metadata": {
        "tags": [],
        "id": "59594de4-8aa8-4edc-903e-0831c3ca584e"
      },
      "outputs": [],
      "source": [
        "mydata = mydata.iloc[:2000,:]"
      ]
    },
    {
      "cell_type": "code",
      "execution_count": null,
      "id": "4b49d8ad-4bf7-4966-acfe-8bba33ea8460",
      "metadata": {
        "tags": [],
        "id": "4b49d8ad-4bf7-4966-acfe-8bba33ea8460",
        "outputId": "3e20c12b-ff7d-4022-f56b-b53d9495b9e1"
      },
      "outputs": [
        {
          "name": "stdout",
          "output_type": "stream",
          "text": [
            "<class 'pandas.core.frame.DataFrame'>\n",
            "RangeIndex: 2000 entries, 0 to 1999\n",
            "Data columns (total 26 columns):\n",
            " #   Column        Non-Null Count  Dtype  \n",
            "---  ------        --------------  -----  \n",
            " 0   id            2000 non-null   float64\n",
            " 1   url           2000 non-null   object \n",
            " 2   region        2000 non-null   object \n",
            " 3   region_url    2000 non-null   object \n",
            " 4   price         2000 non-null   float64\n",
            " 5   year          1978 non-null   float64\n",
            " 6   manufacturer  1856 non-null   object \n",
            " 7   model         1987 non-null   object \n",
            " 8   condition     1141 non-null   object \n",
            " 9   cylinders     1270 non-null   object \n",
            " 10  fuel          1966 non-null   object \n",
            " 11  odometer      1988 non-null   float64\n",
            " 12  title_status  1897 non-null   object \n",
            " 13  transmission  1999 non-null   object \n",
            " 14  VIN           1281 non-null   object \n",
            " 15  drive         1374 non-null   object \n",
            " 16  size          496 non-null    object \n",
            " 17  type          1393 non-null   object \n",
            " 18  paint_color   1548 non-null   object \n",
            " 19  image_url     2000 non-null   object \n",
            " 20  description   2000 non-null   object \n",
            " 21  county        0 non-null      float64\n",
            " 22  state         2000 non-null   object \n",
            " 23  lat           1988 non-null   float64\n",
            " 24  long          1988 non-null   float64\n",
            " 25  posting_date  2000 non-null   object \n",
            "dtypes: float64(7), object(19)\n",
            "memory usage: 406.4+ KB\n"
          ]
        }
      ],
      "source": [
        "mydata.info()"
      ]
    },
    {
      "cell_type": "code",
      "execution_count": null,
      "id": "f4609796-a23e-473c-9ff5-84f898056fbc",
      "metadata": {
        "tags": [],
        "id": "f4609796-a23e-473c-9ff5-84f898056fbc",
        "outputId": "7a56a021-35e0-42bf-823f-5d9c9a2ad7b3"
      },
      "outputs": [
        {
          "data": {
            "text/plain": [
              "id                 0\n",
              "url                0\n",
              "region             0\n",
              "region_url         0\n",
              "price              0\n",
              "year              22\n",
              "manufacturer     144\n",
              "model             13\n",
              "condition        859\n",
              "cylinders        730\n",
              "fuel              34\n",
              "odometer          12\n",
              "title_status     103\n",
              "transmission       1\n",
              "VIN              719\n",
              "drive            626\n",
              "size            1504\n",
              "type             607\n",
              "paint_color      452\n",
              "image_url          0\n",
              "description        0\n",
              "county          2000\n",
              "state              0\n",
              "lat               12\n",
              "long              12\n",
              "posting_date       0\n",
              "dtype: int64"
            ]
          },
          "execution_count": 415,
          "metadata": {},
          "output_type": "execute_result"
        }
      ],
      "source": [
        "mydata.isnull().sum()"
      ]
    },
    {
      "cell_type": "code",
      "execution_count": null,
      "id": "e6d7cde1-88f3-4112-88dc-fca4bfa2e2bb",
      "metadata": {
        "tags": [],
        "id": "e6d7cde1-88f3-4112-88dc-fca4bfa2e2bb"
      },
      "outputs": [],
      "source": [
        "mydata.fillna(0, inplace=True)"
      ]
    },
    {
      "cell_type": "code",
      "execution_count": null,
      "id": "d8c44c08-eb76-4f07-9577-1348ef9c3336",
      "metadata": {
        "tags": [],
        "id": "d8c44c08-eb76-4f07-9577-1348ef9c3336"
      },
      "outputs": [],
      "source": [
        "def converterCategory(column):\n",
        "    if column == '8 cylinders':\n",
        "        return 8\n",
        "    elif column == '6 cylinders':\n",
        "        return 6\n",
        "    elif column == '4 cylinders':\n",
        "        return 4\n",
        "    elif column == '3 cylinders':\n",
        "        return 3\n",
        "    elif column == '10 cylinders':\n",
        "        return 10\n",
        "    elif column == '12 cylinders':\n",
        "        return 12\n",
        "    elif column == '8 cylinders':\n",
        "        return 8\n",
        "    elif column == '5 cylinders':\n",
        "        return 5\n",
        "    else:\n",
        "        return 0"
      ]
    },
    {
      "cell_type": "code",
      "execution_count": null,
      "id": "4d27d52a-f067-42cd-a8ea-26058f705c2d",
      "metadata": {
        "tags": [],
        "id": "4d27d52a-f067-42cd-a8ea-26058f705c2d"
      },
      "outputs": [],
      "source": [
        "mydata['cylinders'] = mydata['cylinders'].apply(converterCategory)"
      ]
    },
    {
      "cell_type": "code",
      "execution_count": null,
      "id": "f58d6a71-45e9-4f68-9549-e4d6bb37d6cd",
      "metadata": {
        "tags": [],
        "id": "f58d6a71-45e9-4f68-9549-e4d6bb37d6cd",
        "outputId": "df60383f-d7e7-4926-8255-44f920a7d931"
      },
      "outputs": [
        {
          "data": {
            "text/html": [
              "<div>\n",
              "<style scoped>\n",
              "    .dataframe tbody tr th:only-of-type {\n",
              "        vertical-align: middle;\n",
              "    }\n",
              "\n",
              "    .dataframe tbody tr th {\n",
              "        vertical-align: top;\n",
              "    }\n",
              "\n",
              "    .dataframe thead th {\n",
              "        text-align: right;\n",
              "    }\n",
              "</style>\n",
              "<table border=\"1\" class=\"dataframe\">\n",
              "  <thead>\n",
              "    <tr style=\"text-align: right;\">\n",
              "      <th></th>\n",
              "      <th>id</th>\n",
              "      <th>url</th>\n",
              "      <th>region</th>\n",
              "      <th>region_url</th>\n",
              "      <th>price</th>\n",
              "      <th>year</th>\n",
              "      <th>manufacturer</th>\n",
              "      <th>model</th>\n",
              "      <th>condition</th>\n",
              "      <th>cylinders</th>\n",
              "      <th>...</th>\n",
              "      <th>size</th>\n",
              "      <th>type</th>\n",
              "      <th>paint_color</th>\n",
              "      <th>image_url</th>\n",
              "      <th>description</th>\n",
              "      <th>county</th>\n",
              "      <th>state</th>\n",
              "      <th>lat</th>\n",
              "      <th>long</th>\n",
              "      <th>posting_date</th>\n",
              "    </tr>\n",
              "  </thead>\n",
              "  <tbody>\n",
              "    <tr>\n",
              "      <th>0</th>\n",
              "      <td>7.316815e+09</td>\n",
              "      <td>https://auburn.craigslist.org/ctd/d/auburn-uni...</td>\n",
              "      <td>auburn</td>\n",
              "      <td>https://auburn.craigslist.org</td>\n",
              "      <td>33590.0</td>\n",
              "      <td>2014.0</td>\n",
              "      <td>gmc</td>\n",
              "      <td>sierra 1500 crew cab slt</td>\n",
              "      <td>good</td>\n",
              "      <td>8</td>\n",
              "      <td>...</td>\n",
              "      <td>0</td>\n",
              "      <td>pickup</td>\n",
              "      <td>white</td>\n",
              "      <td>https://images.craigslist.org/00R0R_lwWjXSEWNa...</td>\n",
              "      <td>Carvana is the safer way to buy a car During t...</td>\n",
              "      <td>0.0</td>\n",
              "      <td>al</td>\n",
              "      <td>32.590000</td>\n",
              "      <td>-85.480000</td>\n",
              "      <td>2021-05-04T12:31:18-0500</td>\n",
              "    </tr>\n",
              "    <tr>\n",
              "      <th>1</th>\n",
              "      <td>7.316815e+09</td>\n",
              "      <td>https://auburn.craigslist.org/ctd/d/auburn-uni...</td>\n",
              "      <td>auburn</td>\n",
              "      <td>https://auburn.craigslist.org</td>\n",
              "      <td>22590.0</td>\n",
              "      <td>2010.0</td>\n",
              "      <td>chevrolet</td>\n",
              "      <td>silverado 1500</td>\n",
              "      <td>good</td>\n",
              "      <td>8</td>\n",
              "      <td>...</td>\n",
              "      <td>0</td>\n",
              "      <td>pickup</td>\n",
              "      <td>blue</td>\n",
              "      <td>https://images.craigslist.org/00R0R_lwWjXSEWNa...</td>\n",
              "      <td>Carvana is the safer way to buy a car During t...</td>\n",
              "      <td>0.0</td>\n",
              "      <td>al</td>\n",
              "      <td>32.590000</td>\n",
              "      <td>-85.480000</td>\n",
              "      <td>2021-05-04T12:31:08-0500</td>\n",
              "    </tr>\n",
              "    <tr>\n",
              "      <th>2</th>\n",
              "      <td>7.316815e+09</td>\n",
              "      <td>https://auburn.craigslist.org/ctd/d/auburn-uni...</td>\n",
              "      <td>auburn</td>\n",
              "      <td>https://auburn.craigslist.org</td>\n",
              "      <td>39590.0</td>\n",
              "      <td>2020.0</td>\n",
              "      <td>chevrolet</td>\n",
              "      <td>silverado 1500 crew</td>\n",
              "      <td>good</td>\n",
              "      <td>8</td>\n",
              "      <td>...</td>\n",
              "      <td>0</td>\n",
              "      <td>pickup</td>\n",
              "      <td>red</td>\n",
              "      <td>https://images.craigslist.org/01212_jjirIWa0y0...</td>\n",
              "      <td>Carvana is the safer way to buy a car During t...</td>\n",
              "      <td>0.0</td>\n",
              "      <td>al</td>\n",
              "      <td>32.590000</td>\n",
              "      <td>-85.480000</td>\n",
              "      <td>2021-05-04T12:31:25-0500</td>\n",
              "    </tr>\n",
              "    <tr>\n",
              "      <th>3</th>\n",
              "      <td>7.316743e+09</td>\n",
              "      <td>https://auburn.craigslist.org/ctd/d/auburn-uni...</td>\n",
              "      <td>auburn</td>\n",
              "      <td>https://auburn.craigslist.org</td>\n",
              "      <td>30990.0</td>\n",
              "      <td>2017.0</td>\n",
              "      <td>toyota</td>\n",
              "      <td>tundra double cab sr</td>\n",
              "      <td>good</td>\n",
              "      <td>8</td>\n",
              "      <td>...</td>\n",
              "      <td>0</td>\n",
              "      <td>pickup</td>\n",
              "      <td>red</td>\n",
              "      <td>https://images.craigslist.org/00x0x_1y9kIOzGCF...</td>\n",
              "      <td>Carvana is the safer way to buy a car During t...</td>\n",
              "      <td>0.0</td>\n",
              "      <td>al</td>\n",
              "      <td>32.590000</td>\n",
              "      <td>-85.480000</td>\n",
              "      <td>2021-05-04T10:41:31-0500</td>\n",
              "    </tr>\n",
              "    <tr>\n",
              "      <th>4</th>\n",
              "      <td>7.316356e+09</td>\n",
              "      <td>https://auburn.craigslist.org/cto/d/auburn-uni...</td>\n",
              "      <td>auburn</td>\n",
              "      <td>https://auburn.craigslist.org</td>\n",
              "      <td>15000.0</td>\n",
              "      <td>2013.0</td>\n",
              "      <td>ford</td>\n",
              "      <td>f-150 xlt</td>\n",
              "      <td>excellent</td>\n",
              "      <td>6</td>\n",
              "      <td>...</td>\n",
              "      <td>full-size</td>\n",
              "      <td>truck</td>\n",
              "      <td>black</td>\n",
              "      <td>https://images.craigslist.org/00404_l4loxHvdQe...</td>\n",
              "      <td>2013 F-150 XLT V6 4 Door. Good condition. Leve...</td>\n",
              "      <td>0.0</td>\n",
              "      <td>al</td>\n",
              "      <td>32.592000</td>\n",
              "      <td>-85.518900</td>\n",
              "      <td>2021-05-03T14:02:03-0500</td>\n",
              "    </tr>\n",
              "    <tr>\n",
              "      <th>...</th>\n",
              "      <td>...</td>\n",
              "      <td>...</td>\n",
              "      <td>...</td>\n",
              "      <td>...</td>\n",
              "      <td>...</td>\n",
              "      <td>...</td>\n",
              "      <td>...</td>\n",
              "      <td>...</td>\n",
              "      <td>...</td>\n",
              "      <td>...</td>\n",
              "      <td>...</td>\n",
              "      <td>...</td>\n",
              "      <td>...</td>\n",
              "      <td>...</td>\n",
              "      <td>...</td>\n",
              "      <td>...</td>\n",
              "      <td>...</td>\n",
              "      <td>...</td>\n",
              "      <td>...</td>\n",
              "      <td>...</td>\n",
              "      <td>...</td>\n",
              "    </tr>\n",
              "    <tr>\n",
              "      <th>1995</th>\n",
              "      <td>7.307831e+09</td>\n",
              "      <td>https://dothan.craigslist.org/ctd/d/troy-2014-...</td>\n",
              "      <td>dothan</td>\n",
              "      <td>https://dothan.craigslist.org</td>\n",
              "      <td>11998.0</td>\n",
              "      <td>2014.0</td>\n",
              "      <td>hyundai</td>\n",
              "      <td>genesis coupe 2.0t</td>\n",
              "      <td>excellent</td>\n",
              "      <td>0</td>\n",
              "      <td>...</td>\n",
              "      <td>0</td>\n",
              "      <td>0</td>\n",
              "      <td>blue</td>\n",
              "      <td>https://images.craigslist.org/00y0y_cEzsJxPZnY...</td>\n",
              "      <td>2014 Hyundai Genesis Coupe 2.0T - STOCK #: FPA...</td>\n",
              "      <td>0.0</td>\n",
              "      <td>al</td>\n",
              "      <td>31.796941</td>\n",
              "      <td>-85.980049</td>\n",
              "      <td>2021-04-16T13:05:58-0500</td>\n",
              "    </tr>\n",
              "    <tr>\n",
              "      <th>1996</th>\n",
              "      <td>7.307831e+09</td>\n",
              "      <td>https://dothan.craigslist.org/ctd/d/ozark-2006...</td>\n",
              "      <td>dothan</td>\n",
              "      <td>https://dothan.craigslist.org</td>\n",
              "      <td>4999.0</td>\n",
              "      <td>2006.0</td>\n",
              "      <td>nissan</td>\n",
              "      <td>pathfinder</td>\n",
              "      <td>0</td>\n",
              "      <td>6</td>\n",
              "      <td>...</td>\n",
              "      <td>0</td>\n",
              "      <td>0</td>\n",
              "      <td>0</td>\n",
              "      <td>https://images.craigslist.org/00T0T_d1ACDDVGJd...</td>\n",
              "      <td>Nice 2006 Nissan pathfinder. Run's and drives ...</td>\n",
              "      <td>0.0</td>\n",
              "      <td>al</td>\n",
              "      <td>31.439100</td>\n",
              "      <td>-85.643600</td>\n",
              "      <td>2021-04-16T13:05:46-0500</td>\n",
              "    </tr>\n",
              "    <tr>\n",
              "      <th>1997</th>\n",
              "      <td>7.307787e+09</td>\n",
              "      <td>https://dothan.craigslist.org/ctd/d/hartford-2...</td>\n",
              "      <td>dothan</td>\n",
              "      <td>https://dothan.craigslist.org</td>\n",
              "      <td>7250.0</td>\n",
              "      <td>2012.0</td>\n",
              "      <td>chevrolet</td>\n",
              "      <td>sonic</td>\n",
              "      <td>good</td>\n",
              "      <td>4</td>\n",
              "      <td>...</td>\n",
              "      <td>0</td>\n",
              "      <td>0</td>\n",
              "      <td>blue</td>\n",
              "      <td>https://images.craigslist.org/00J0J_hWUBpr57j4...</td>\n",
              "      <td>🤱💐Mothers day is quickly approaching come see ...</td>\n",
              "      <td>0.0</td>\n",
              "      <td>al</td>\n",
              "      <td>31.086000</td>\n",
              "      <td>-85.719200</td>\n",
              "      <td>2021-04-16T12:01:15-0500</td>\n",
              "    </tr>\n",
              "    <tr>\n",
              "      <th>1998</th>\n",
              "      <td>7.307670e+09</td>\n",
              "      <td>https://dothan.craigslist.org/ctd/d/troy-2020-...</td>\n",
              "      <td>dothan</td>\n",
              "      <td>https://dothan.craigslist.org</td>\n",
              "      <td>19998.0</td>\n",
              "      <td>2020.0</td>\n",
              "      <td>ford</td>\n",
              "      <td>escape s</td>\n",
              "      <td>excellent</td>\n",
              "      <td>0</td>\n",
              "      <td>...</td>\n",
              "      <td>0</td>\n",
              "      <td>0</td>\n",
              "      <td>0</td>\n",
              "      <td>https://images.craigslist.org/00000_lRiXsNSz53...</td>\n",
              "      <td>2020 Ford Escape S - STOCK #: FPD77811A  Avail...</td>\n",
              "      <td>0.0</td>\n",
              "      <td>al</td>\n",
              "      <td>31.796941</td>\n",
              "      <td>-85.980049</td>\n",
              "      <td>2021-04-16T09:05:01-0500</td>\n",
              "    </tr>\n",
              "    <tr>\n",
              "      <th>1999</th>\n",
              "      <td>7.307409e+09</td>\n",
              "      <td>https://dothan.craigslist.org/cto/d/new-brockt...</td>\n",
              "      <td>dothan</td>\n",
              "      <td>https://dothan.craigslist.org</td>\n",
              "      <td>4000.0</td>\n",
              "      <td>2001.0</td>\n",
              "      <td>jeep</td>\n",
              "      <td>grand cherokee</td>\n",
              "      <td>fair</td>\n",
              "      <td>6</td>\n",
              "      <td>...</td>\n",
              "      <td>mid-size</td>\n",
              "      <td>SUV</td>\n",
              "      <td>white</td>\n",
              "      <td>https://images.craigslist.org/00y0y_5hSzgUO5r8...</td>\n",
              "      <td>Up for sale is a 2001 Jeep Grand Cherokee runs...</td>\n",
              "      <td>0.0</td>\n",
              "      <td>al</td>\n",
              "      <td>31.369000</td>\n",
              "      <td>-85.940400</td>\n",
              "      <td>2021-04-15T16:03:11-0500</td>\n",
              "    </tr>\n",
              "  </tbody>\n",
              "</table>\n",
              "<p>2000 rows × 26 columns</p>\n",
              "</div>"
            ],
            "text/plain": [
              "                id                                                url  region   \n",
              "0     7.316815e+09  https://auburn.craigslist.org/ctd/d/auburn-uni...  auburn  \\\n",
              "1     7.316815e+09  https://auburn.craigslist.org/ctd/d/auburn-uni...  auburn   \n",
              "2     7.316815e+09  https://auburn.craigslist.org/ctd/d/auburn-uni...  auburn   \n",
              "3     7.316743e+09  https://auburn.craigslist.org/ctd/d/auburn-uni...  auburn   \n",
              "4     7.316356e+09  https://auburn.craigslist.org/cto/d/auburn-uni...  auburn   \n",
              "...            ...                                                ...     ...   \n",
              "1995  7.307831e+09  https://dothan.craigslist.org/ctd/d/troy-2014-...  dothan   \n",
              "1996  7.307831e+09  https://dothan.craigslist.org/ctd/d/ozark-2006...  dothan   \n",
              "1997  7.307787e+09  https://dothan.craigslist.org/ctd/d/hartford-2...  dothan   \n",
              "1998  7.307670e+09  https://dothan.craigslist.org/ctd/d/troy-2020-...  dothan   \n",
              "1999  7.307409e+09  https://dothan.craigslist.org/cto/d/new-brockt...  dothan   \n",
              "\n",
              "                         region_url    price    year manufacturer   \n",
              "0     https://auburn.craigslist.org  33590.0  2014.0          gmc  \\\n",
              "1     https://auburn.craigslist.org  22590.0  2010.0    chevrolet   \n",
              "2     https://auburn.craigslist.org  39590.0  2020.0    chevrolet   \n",
              "3     https://auburn.craigslist.org  30990.0  2017.0       toyota   \n",
              "4     https://auburn.craigslist.org  15000.0  2013.0         ford   \n",
              "...                             ...      ...     ...          ...   \n",
              "1995  https://dothan.craigslist.org  11998.0  2014.0      hyundai   \n",
              "1996  https://dothan.craigslist.org   4999.0  2006.0       nissan   \n",
              "1997  https://dothan.craigslist.org   7250.0  2012.0    chevrolet   \n",
              "1998  https://dothan.craigslist.org  19998.0  2020.0         ford   \n",
              "1999  https://dothan.craigslist.org   4000.0  2001.0         jeep   \n",
              "\n",
              "                         model  condition  cylinders  ...       size    type   \n",
              "0     sierra 1500 crew cab slt       good          8  ...          0  pickup  \\\n",
              "1               silverado 1500       good          8  ...          0  pickup   \n",
              "2          silverado 1500 crew       good          8  ...          0  pickup   \n",
              "3         tundra double cab sr       good          8  ...          0  pickup   \n",
              "4                    f-150 xlt  excellent          6  ...  full-size   truck   \n",
              "...                        ...        ...        ...  ...        ...     ...   \n",
              "1995        genesis coupe 2.0t  excellent          0  ...          0       0   \n",
              "1996                pathfinder          0          6  ...          0       0   \n",
              "1997                     sonic       good          4  ...          0       0   \n",
              "1998                  escape s  excellent          0  ...          0       0   \n",
              "1999            grand cherokee       fair          6  ...   mid-size     SUV   \n",
              "\n",
              "     paint_color                                          image_url   \n",
              "0          white  https://images.craigslist.org/00R0R_lwWjXSEWNa...  \\\n",
              "1           blue  https://images.craigslist.org/00R0R_lwWjXSEWNa...   \n",
              "2            red  https://images.craigslist.org/01212_jjirIWa0y0...   \n",
              "3            red  https://images.craigslist.org/00x0x_1y9kIOzGCF...   \n",
              "4          black  https://images.craigslist.org/00404_l4loxHvdQe...   \n",
              "...          ...                                                ...   \n",
              "1995        blue  https://images.craigslist.org/00y0y_cEzsJxPZnY...   \n",
              "1996           0  https://images.craigslist.org/00T0T_d1ACDDVGJd...   \n",
              "1997        blue  https://images.craigslist.org/00J0J_hWUBpr57j4...   \n",
              "1998           0  https://images.craigslist.org/00000_lRiXsNSz53...   \n",
              "1999       white  https://images.craigslist.org/00y0y_5hSzgUO5r8...   \n",
              "\n",
              "                                            description county state   \n",
              "0     Carvana is the safer way to buy a car During t...    0.0    al  \\\n",
              "1     Carvana is the safer way to buy a car During t...    0.0    al   \n",
              "2     Carvana is the safer way to buy a car During t...    0.0    al   \n",
              "3     Carvana is the safer way to buy a car During t...    0.0    al   \n",
              "4     2013 F-150 XLT V6 4 Door. Good condition. Leve...    0.0    al   \n",
              "...                                                 ...    ...   ...   \n",
              "1995  2014 Hyundai Genesis Coupe 2.0T - STOCK #: FPA...    0.0    al   \n",
              "1996  Nice 2006 Nissan pathfinder. Run's and drives ...    0.0    al   \n",
              "1997  🤱💐Mothers day is quickly approaching come see ...    0.0    al   \n",
              "1998  2020 Ford Escape S - STOCK #: FPD77811A  Avail...    0.0    al   \n",
              "1999  Up for sale is a 2001 Jeep Grand Cherokee runs...    0.0    al   \n",
              "\n",
              "            lat       long              posting_date  \n",
              "0     32.590000 -85.480000  2021-05-04T12:31:18-0500  \n",
              "1     32.590000 -85.480000  2021-05-04T12:31:08-0500  \n",
              "2     32.590000 -85.480000  2021-05-04T12:31:25-0500  \n",
              "3     32.590000 -85.480000  2021-05-04T10:41:31-0500  \n",
              "4     32.592000 -85.518900  2021-05-03T14:02:03-0500  \n",
              "...         ...        ...                       ...  \n",
              "1995  31.796941 -85.980049  2021-04-16T13:05:58-0500  \n",
              "1996  31.439100 -85.643600  2021-04-16T13:05:46-0500  \n",
              "1997  31.086000 -85.719200  2021-04-16T12:01:15-0500  \n",
              "1998  31.796941 -85.980049  2021-04-16T09:05:01-0500  \n",
              "1999  31.369000 -85.940400  2021-04-15T16:03:11-0500  \n",
              "\n",
              "[2000 rows x 26 columns]"
            ]
          },
          "execution_count": 378,
          "metadata": {},
          "output_type": "execute_result"
        }
      ],
      "source": [
        "mydata"
      ]
    },
    {
      "cell_type": "code",
      "execution_count": null,
      "id": "4eba40c2-d30d-480f-9e9a-aeeb481f62d1",
      "metadata": {
        "tags": [],
        "id": "4eba40c2-d30d-480f-9e9a-aeeb481f62d1"
      },
      "outputs": [],
      "source": [
        "def convertcondition(column):\n",
        "    if column == 'excellent':\n",
        "        return 6\n",
        "    elif column == 'good':\n",
        "        return 3\n",
        "    elif column == 'new':\n",
        "        return 5\n",
        "    elif column == 'like new':\n",
        "        return 4\n",
        "    elif column == 'fair':\n",
        "        return 2\n",
        "    elif column == 'salvage':\n",
        "        return 1\n",
        "    else:\n",
        "        return 0"
      ]
    },
    {
      "cell_type": "code",
      "execution_count": null,
      "id": "f15bd1a1-7a8a-4d50-a477-b44b8823087c",
      "metadata": {
        "tags": [],
        "id": "f15bd1a1-7a8a-4d50-a477-b44b8823087c"
      },
      "outputs": [],
      "source": [
        "mydata['condition'] = mydata['condition'].apply(convertcondition)"
      ]
    },
    {
      "cell_type": "code",
      "execution_count": null,
      "id": "9d8fcf37-701d-4d78-b23a-c156cf3a01b9",
      "metadata": {
        "tags": [],
        "id": "9d8fcf37-701d-4d78-b23a-c156cf3a01b9"
      },
      "outputs": [],
      "source": [
        "def convertfuel(column):\n",
        "    if column == 'diesel':\n",
        "        return 5\n",
        "    elif column == 'electric':\n",
        "        return 4\n",
        "    elif column == 'gas':\n",
        "        return 3\n",
        "    elif column == 'hybrid':\n",
        "        return 2\n",
        "    elif column == 'other':\n",
        "        return 1\n",
        "    else:\n",
        "        return 0"
      ]
    },
    {
      "cell_type": "code",
      "execution_count": null,
      "id": "8b3b4e50-ab83-4cc0-8bc8-12562e933267",
      "metadata": {
        "tags": [],
        "id": "8b3b4e50-ab83-4cc0-8bc8-12562e933267"
      },
      "outputs": [],
      "source": [
        "mydata['fuel'] = mydata['fuel'].apply(convertfuel)"
      ]
    },
    {
      "cell_type": "code",
      "execution_count": null,
      "id": "309b1bbf-022c-4044-b2f1-196b17c2627f",
      "metadata": {
        "tags": [],
        "id": "309b1bbf-022c-4044-b2f1-196b17c2627f",
        "outputId": "055e55e0-80fb-4a93-84c2-6ae4d5db3f92"
      },
      "outputs": [
        {
          "data": {
            "text/html": [
              "<div>\n",
              "<style scoped>\n",
              "    .dataframe tbody tr th:only-of-type {\n",
              "        vertical-align: middle;\n",
              "    }\n",
              "\n",
              "    .dataframe tbody tr th {\n",
              "        vertical-align: top;\n",
              "    }\n",
              "\n",
              "    .dataframe thead th {\n",
              "        text-align: right;\n",
              "    }\n",
              "</style>\n",
              "<table border=\"1\" class=\"dataframe\">\n",
              "  <thead>\n",
              "    <tr style=\"text-align: right;\">\n",
              "      <th></th>\n",
              "      <th>id</th>\n",
              "      <th>url</th>\n",
              "      <th>region</th>\n",
              "      <th>region_url</th>\n",
              "      <th>price</th>\n",
              "      <th>year</th>\n",
              "      <th>manufacturer</th>\n",
              "      <th>model</th>\n",
              "      <th>condition</th>\n",
              "      <th>cylinders</th>\n",
              "      <th>...</th>\n",
              "      <th>size</th>\n",
              "      <th>type</th>\n",
              "      <th>paint_color</th>\n",
              "      <th>image_url</th>\n",
              "      <th>description</th>\n",
              "      <th>county</th>\n",
              "      <th>state</th>\n",
              "      <th>lat</th>\n",
              "      <th>long</th>\n",
              "      <th>posting_date</th>\n",
              "    </tr>\n",
              "  </thead>\n",
              "  <tbody>\n",
              "    <tr>\n",
              "      <th>0</th>\n",
              "      <td>7.316815e+09</td>\n",
              "      <td>https://auburn.craigslist.org/ctd/d/auburn-uni...</td>\n",
              "      <td>auburn</td>\n",
              "      <td>https://auburn.craigslist.org</td>\n",
              "      <td>33590.0</td>\n",
              "      <td>2014.0</td>\n",
              "      <td>gmc</td>\n",
              "      <td>sierra 1500 crew cab slt</td>\n",
              "      <td>3</td>\n",
              "      <td>8</td>\n",
              "      <td>...</td>\n",
              "      <td>0</td>\n",
              "      <td>pickup</td>\n",
              "      <td>white</td>\n",
              "      <td>https://images.craigslist.org/00R0R_lwWjXSEWNa...</td>\n",
              "      <td>Carvana is the safer way to buy a car During t...</td>\n",
              "      <td>0.0</td>\n",
              "      <td>al</td>\n",
              "      <td>32.590000</td>\n",
              "      <td>-85.480000</td>\n",
              "      <td>2021-05-04T12:31:18-0500</td>\n",
              "    </tr>\n",
              "    <tr>\n",
              "      <th>1</th>\n",
              "      <td>7.316815e+09</td>\n",
              "      <td>https://auburn.craigslist.org/ctd/d/auburn-uni...</td>\n",
              "      <td>auburn</td>\n",
              "      <td>https://auburn.craigslist.org</td>\n",
              "      <td>22590.0</td>\n",
              "      <td>2010.0</td>\n",
              "      <td>chevrolet</td>\n",
              "      <td>silverado 1500</td>\n",
              "      <td>3</td>\n",
              "      <td>8</td>\n",
              "      <td>...</td>\n",
              "      <td>0</td>\n",
              "      <td>pickup</td>\n",
              "      <td>blue</td>\n",
              "      <td>https://images.craigslist.org/00R0R_lwWjXSEWNa...</td>\n",
              "      <td>Carvana is the safer way to buy a car During t...</td>\n",
              "      <td>0.0</td>\n",
              "      <td>al</td>\n",
              "      <td>32.590000</td>\n",
              "      <td>-85.480000</td>\n",
              "      <td>2021-05-04T12:31:08-0500</td>\n",
              "    </tr>\n",
              "    <tr>\n",
              "      <th>2</th>\n",
              "      <td>7.316815e+09</td>\n",
              "      <td>https://auburn.craigslist.org/ctd/d/auburn-uni...</td>\n",
              "      <td>auburn</td>\n",
              "      <td>https://auburn.craigslist.org</td>\n",
              "      <td>39590.0</td>\n",
              "      <td>2020.0</td>\n",
              "      <td>chevrolet</td>\n",
              "      <td>silverado 1500 crew</td>\n",
              "      <td>3</td>\n",
              "      <td>8</td>\n",
              "      <td>...</td>\n",
              "      <td>0</td>\n",
              "      <td>pickup</td>\n",
              "      <td>red</td>\n",
              "      <td>https://images.craigslist.org/01212_jjirIWa0y0...</td>\n",
              "      <td>Carvana is the safer way to buy a car During t...</td>\n",
              "      <td>0.0</td>\n",
              "      <td>al</td>\n",
              "      <td>32.590000</td>\n",
              "      <td>-85.480000</td>\n",
              "      <td>2021-05-04T12:31:25-0500</td>\n",
              "    </tr>\n",
              "    <tr>\n",
              "      <th>3</th>\n",
              "      <td>7.316743e+09</td>\n",
              "      <td>https://auburn.craigslist.org/ctd/d/auburn-uni...</td>\n",
              "      <td>auburn</td>\n",
              "      <td>https://auburn.craigslist.org</td>\n",
              "      <td>30990.0</td>\n",
              "      <td>2017.0</td>\n",
              "      <td>toyota</td>\n",
              "      <td>tundra double cab sr</td>\n",
              "      <td>3</td>\n",
              "      <td>8</td>\n",
              "      <td>...</td>\n",
              "      <td>0</td>\n",
              "      <td>pickup</td>\n",
              "      <td>red</td>\n",
              "      <td>https://images.craigslist.org/00x0x_1y9kIOzGCF...</td>\n",
              "      <td>Carvana is the safer way to buy a car During t...</td>\n",
              "      <td>0.0</td>\n",
              "      <td>al</td>\n",
              "      <td>32.590000</td>\n",
              "      <td>-85.480000</td>\n",
              "      <td>2021-05-04T10:41:31-0500</td>\n",
              "    </tr>\n",
              "    <tr>\n",
              "      <th>4</th>\n",
              "      <td>7.316356e+09</td>\n",
              "      <td>https://auburn.craigslist.org/cto/d/auburn-uni...</td>\n",
              "      <td>auburn</td>\n",
              "      <td>https://auburn.craigslist.org</td>\n",
              "      <td>15000.0</td>\n",
              "      <td>2013.0</td>\n",
              "      <td>ford</td>\n",
              "      <td>f-150 xlt</td>\n",
              "      <td>6</td>\n",
              "      <td>6</td>\n",
              "      <td>...</td>\n",
              "      <td>full-size</td>\n",
              "      <td>truck</td>\n",
              "      <td>black</td>\n",
              "      <td>https://images.craigslist.org/00404_l4loxHvdQe...</td>\n",
              "      <td>2013 F-150 XLT V6 4 Door. Good condition. Leve...</td>\n",
              "      <td>0.0</td>\n",
              "      <td>al</td>\n",
              "      <td>32.592000</td>\n",
              "      <td>-85.518900</td>\n",
              "      <td>2021-05-03T14:02:03-0500</td>\n",
              "    </tr>\n",
              "    <tr>\n",
              "      <th>...</th>\n",
              "      <td>...</td>\n",
              "      <td>...</td>\n",
              "      <td>...</td>\n",
              "      <td>...</td>\n",
              "      <td>...</td>\n",
              "      <td>...</td>\n",
              "      <td>...</td>\n",
              "      <td>...</td>\n",
              "      <td>...</td>\n",
              "      <td>...</td>\n",
              "      <td>...</td>\n",
              "      <td>...</td>\n",
              "      <td>...</td>\n",
              "      <td>...</td>\n",
              "      <td>...</td>\n",
              "      <td>...</td>\n",
              "      <td>...</td>\n",
              "      <td>...</td>\n",
              "      <td>...</td>\n",
              "      <td>...</td>\n",
              "      <td>...</td>\n",
              "    </tr>\n",
              "    <tr>\n",
              "      <th>1995</th>\n",
              "      <td>7.307831e+09</td>\n",
              "      <td>https://dothan.craigslist.org/ctd/d/troy-2014-...</td>\n",
              "      <td>dothan</td>\n",
              "      <td>https://dothan.craigslist.org</td>\n",
              "      <td>11998.0</td>\n",
              "      <td>2014.0</td>\n",
              "      <td>hyundai</td>\n",
              "      <td>genesis coupe 2.0t</td>\n",
              "      <td>6</td>\n",
              "      <td>0</td>\n",
              "      <td>...</td>\n",
              "      <td>0</td>\n",
              "      <td>0</td>\n",
              "      <td>blue</td>\n",
              "      <td>https://images.craigslist.org/00y0y_cEzsJxPZnY...</td>\n",
              "      <td>2014 Hyundai Genesis Coupe 2.0T - STOCK #: FPA...</td>\n",
              "      <td>0.0</td>\n",
              "      <td>al</td>\n",
              "      <td>31.796941</td>\n",
              "      <td>-85.980049</td>\n",
              "      <td>2021-04-16T13:05:58-0500</td>\n",
              "    </tr>\n",
              "    <tr>\n",
              "      <th>1996</th>\n",
              "      <td>7.307831e+09</td>\n",
              "      <td>https://dothan.craigslist.org/ctd/d/ozark-2006...</td>\n",
              "      <td>dothan</td>\n",
              "      <td>https://dothan.craigslist.org</td>\n",
              "      <td>4999.0</td>\n",
              "      <td>2006.0</td>\n",
              "      <td>nissan</td>\n",
              "      <td>pathfinder</td>\n",
              "      <td>0</td>\n",
              "      <td>6</td>\n",
              "      <td>...</td>\n",
              "      <td>0</td>\n",
              "      <td>0</td>\n",
              "      <td>0</td>\n",
              "      <td>https://images.craigslist.org/00T0T_d1ACDDVGJd...</td>\n",
              "      <td>Nice 2006 Nissan pathfinder. Run's and drives ...</td>\n",
              "      <td>0.0</td>\n",
              "      <td>al</td>\n",
              "      <td>31.439100</td>\n",
              "      <td>-85.643600</td>\n",
              "      <td>2021-04-16T13:05:46-0500</td>\n",
              "    </tr>\n",
              "    <tr>\n",
              "      <th>1997</th>\n",
              "      <td>7.307787e+09</td>\n",
              "      <td>https://dothan.craigslist.org/ctd/d/hartford-2...</td>\n",
              "      <td>dothan</td>\n",
              "      <td>https://dothan.craigslist.org</td>\n",
              "      <td>7250.0</td>\n",
              "      <td>2012.0</td>\n",
              "      <td>chevrolet</td>\n",
              "      <td>sonic</td>\n",
              "      <td>3</td>\n",
              "      <td>4</td>\n",
              "      <td>...</td>\n",
              "      <td>0</td>\n",
              "      <td>0</td>\n",
              "      <td>blue</td>\n",
              "      <td>https://images.craigslist.org/00J0J_hWUBpr57j4...</td>\n",
              "      <td>🤱💐Mothers day is quickly approaching come see ...</td>\n",
              "      <td>0.0</td>\n",
              "      <td>al</td>\n",
              "      <td>31.086000</td>\n",
              "      <td>-85.719200</td>\n",
              "      <td>2021-04-16T12:01:15-0500</td>\n",
              "    </tr>\n",
              "    <tr>\n",
              "      <th>1998</th>\n",
              "      <td>7.307670e+09</td>\n",
              "      <td>https://dothan.craigslist.org/ctd/d/troy-2020-...</td>\n",
              "      <td>dothan</td>\n",
              "      <td>https://dothan.craigslist.org</td>\n",
              "      <td>19998.0</td>\n",
              "      <td>2020.0</td>\n",
              "      <td>ford</td>\n",
              "      <td>escape s</td>\n",
              "      <td>6</td>\n",
              "      <td>0</td>\n",
              "      <td>...</td>\n",
              "      <td>0</td>\n",
              "      <td>0</td>\n",
              "      <td>0</td>\n",
              "      <td>https://images.craigslist.org/00000_lRiXsNSz53...</td>\n",
              "      <td>2020 Ford Escape S - STOCK #: FPD77811A  Avail...</td>\n",
              "      <td>0.0</td>\n",
              "      <td>al</td>\n",
              "      <td>31.796941</td>\n",
              "      <td>-85.980049</td>\n",
              "      <td>2021-04-16T09:05:01-0500</td>\n",
              "    </tr>\n",
              "    <tr>\n",
              "      <th>1999</th>\n",
              "      <td>7.307409e+09</td>\n",
              "      <td>https://dothan.craigslist.org/cto/d/new-brockt...</td>\n",
              "      <td>dothan</td>\n",
              "      <td>https://dothan.craigslist.org</td>\n",
              "      <td>4000.0</td>\n",
              "      <td>2001.0</td>\n",
              "      <td>jeep</td>\n",
              "      <td>grand cherokee</td>\n",
              "      <td>2</td>\n",
              "      <td>6</td>\n",
              "      <td>...</td>\n",
              "      <td>mid-size</td>\n",
              "      <td>SUV</td>\n",
              "      <td>white</td>\n",
              "      <td>https://images.craigslist.org/00y0y_5hSzgUO5r8...</td>\n",
              "      <td>Up for sale is a 2001 Jeep Grand Cherokee runs...</td>\n",
              "      <td>0.0</td>\n",
              "      <td>al</td>\n",
              "      <td>31.369000</td>\n",
              "      <td>-85.940400</td>\n",
              "      <td>2021-04-15T16:03:11-0500</td>\n",
              "    </tr>\n",
              "  </tbody>\n",
              "</table>\n",
              "<p>2000 rows × 26 columns</p>\n",
              "</div>"
            ],
            "text/plain": [
              "                id                                                url  region   \n",
              "0     7.316815e+09  https://auburn.craigslist.org/ctd/d/auburn-uni...  auburn  \\\n",
              "1     7.316815e+09  https://auburn.craigslist.org/ctd/d/auburn-uni...  auburn   \n",
              "2     7.316815e+09  https://auburn.craigslist.org/ctd/d/auburn-uni...  auburn   \n",
              "3     7.316743e+09  https://auburn.craigslist.org/ctd/d/auburn-uni...  auburn   \n",
              "4     7.316356e+09  https://auburn.craigslist.org/cto/d/auburn-uni...  auburn   \n",
              "...            ...                                                ...     ...   \n",
              "1995  7.307831e+09  https://dothan.craigslist.org/ctd/d/troy-2014-...  dothan   \n",
              "1996  7.307831e+09  https://dothan.craigslist.org/ctd/d/ozark-2006...  dothan   \n",
              "1997  7.307787e+09  https://dothan.craigslist.org/ctd/d/hartford-2...  dothan   \n",
              "1998  7.307670e+09  https://dothan.craigslist.org/ctd/d/troy-2020-...  dothan   \n",
              "1999  7.307409e+09  https://dothan.craigslist.org/cto/d/new-brockt...  dothan   \n",
              "\n",
              "                         region_url    price    year manufacturer   \n",
              "0     https://auburn.craigslist.org  33590.0  2014.0          gmc  \\\n",
              "1     https://auburn.craigslist.org  22590.0  2010.0    chevrolet   \n",
              "2     https://auburn.craigslist.org  39590.0  2020.0    chevrolet   \n",
              "3     https://auburn.craigslist.org  30990.0  2017.0       toyota   \n",
              "4     https://auburn.craigslist.org  15000.0  2013.0         ford   \n",
              "...                             ...      ...     ...          ...   \n",
              "1995  https://dothan.craigslist.org  11998.0  2014.0      hyundai   \n",
              "1996  https://dothan.craigslist.org   4999.0  2006.0       nissan   \n",
              "1997  https://dothan.craigslist.org   7250.0  2012.0    chevrolet   \n",
              "1998  https://dothan.craigslist.org  19998.0  2020.0         ford   \n",
              "1999  https://dothan.craigslist.org   4000.0  2001.0         jeep   \n",
              "\n",
              "                         model  condition  cylinders  ...       size    type   \n",
              "0     sierra 1500 crew cab slt          3          8  ...          0  pickup  \\\n",
              "1               silverado 1500          3          8  ...          0  pickup   \n",
              "2          silverado 1500 crew          3          8  ...          0  pickup   \n",
              "3         tundra double cab sr          3          8  ...          0  pickup   \n",
              "4                    f-150 xlt          6          6  ...  full-size   truck   \n",
              "...                        ...        ...        ...  ...        ...     ...   \n",
              "1995        genesis coupe 2.0t          6          0  ...          0       0   \n",
              "1996                pathfinder          0          6  ...          0       0   \n",
              "1997                     sonic          3          4  ...          0       0   \n",
              "1998                  escape s          6          0  ...          0       0   \n",
              "1999            grand cherokee          2          6  ...   mid-size     SUV   \n",
              "\n",
              "     paint_color                                          image_url   \n",
              "0          white  https://images.craigslist.org/00R0R_lwWjXSEWNa...  \\\n",
              "1           blue  https://images.craigslist.org/00R0R_lwWjXSEWNa...   \n",
              "2            red  https://images.craigslist.org/01212_jjirIWa0y0...   \n",
              "3            red  https://images.craigslist.org/00x0x_1y9kIOzGCF...   \n",
              "4          black  https://images.craigslist.org/00404_l4loxHvdQe...   \n",
              "...          ...                                                ...   \n",
              "1995        blue  https://images.craigslist.org/00y0y_cEzsJxPZnY...   \n",
              "1996           0  https://images.craigslist.org/00T0T_d1ACDDVGJd...   \n",
              "1997        blue  https://images.craigslist.org/00J0J_hWUBpr57j4...   \n",
              "1998           0  https://images.craigslist.org/00000_lRiXsNSz53...   \n",
              "1999       white  https://images.craigslist.org/00y0y_5hSzgUO5r8...   \n",
              "\n",
              "                                            description county state   \n",
              "0     Carvana is the safer way to buy a car During t...    0.0    al  \\\n",
              "1     Carvana is the safer way to buy a car During t...    0.0    al   \n",
              "2     Carvana is the safer way to buy a car During t...    0.0    al   \n",
              "3     Carvana is the safer way to buy a car During t...    0.0    al   \n",
              "4     2013 F-150 XLT V6 4 Door. Good condition. Leve...    0.0    al   \n",
              "...                                                 ...    ...   ...   \n",
              "1995  2014 Hyundai Genesis Coupe 2.0T - STOCK #: FPA...    0.0    al   \n",
              "1996  Nice 2006 Nissan pathfinder. Run's and drives ...    0.0    al   \n",
              "1997  🤱💐Mothers day is quickly approaching come see ...    0.0    al   \n",
              "1998  2020 Ford Escape S - STOCK #: FPD77811A  Avail...    0.0    al   \n",
              "1999  Up for sale is a 2001 Jeep Grand Cherokee runs...    0.0    al   \n",
              "\n",
              "            lat       long              posting_date  \n",
              "0     32.590000 -85.480000  2021-05-04T12:31:18-0500  \n",
              "1     32.590000 -85.480000  2021-05-04T12:31:08-0500  \n",
              "2     32.590000 -85.480000  2021-05-04T12:31:25-0500  \n",
              "3     32.590000 -85.480000  2021-05-04T10:41:31-0500  \n",
              "4     32.592000 -85.518900  2021-05-03T14:02:03-0500  \n",
              "...         ...        ...                       ...  \n",
              "1995  31.796941 -85.980049  2021-04-16T13:05:58-0500  \n",
              "1996  31.439100 -85.643600  2021-04-16T13:05:46-0500  \n",
              "1997  31.086000 -85.719200  2021-04-16T12:01:15-0500  \n",
              "1998  31.796941 -85.980049  2021-04-16T09:05:01-0500  \n",
              "1999  31.369000 -85.940400  2021-04-15T16:03:11-0500  \n",
              "\n",
              "[2000 rows x 26 columns]"
            ]
          },
          "execution_count": 383,
          "metadata": {},
          "output_type": "execute_result"
        }
      ],
      "source": [
        "mydata"
      ]
    },
    {
      "cell_type": "code",
      "execution_count": null,
      "id": "1ff47596-1e8a-4737-a8a7-0b70a874e774",
      "metadata": {
        "tags": [],
        "id": "1ff47596-1e8a-4737-a8a7-0b70a874e774"
      },
      "outputs": [],
      "source": [
        "def convertstatus(column):\n",
        "    if column == 'clean':\n",
        "        return 6\n",
        "    elif column == 'lien':\n",
        "        return 5\n",
        "    elif column == 'missing':\n",
        "        return 4\n",
        "    elif column == 'parts only':\n",
        "        return 3\n",
        "    elif column == 'rebuilt':\n",
        "        return 2\n",
        "    elif column == 'salvage':\n",
        "        return 1\n",
        "    else:\n",
        "        return 0"
      ]
    },
    {
      "cell_type": "code",
      "execution_count": null,
      "id": "3c3f8e65-7616-409a-a9d4-3db855370a99",
      "metadata": {
        "tags": [],
        "id": "3c3f8e65-7616-409a-a9d4-3db855370a99"
      },
      "outputs": [],
      "source": [
        "mydata['title_status'] = mydata['title_status'].apply(convertstatus)"
      ]
    },
    {
      "cell_type": "code",
      "execution_count": null,
      "id": "f6a2112b-ec18-4ea5-bbe7-b0d4eee87f76",
      "metadata": {
        "tags": [],
        "id": "f6a2112b-ec18-4ea5-bbe7-b0d4eee87f76",
        "outputId": "0d10762d-dd6d-4b45-f5f9-faa283923086"
      },
      "outputs": [
        {
          "data": {
            "text/html": [
              "<div>\n",
              "<style scoped>\n",
              "    .dataframe tbody tr th:only-of-type {\n",
              "        vertical-align: middle;\n",
              "    }\n",
              "\n",
              "    .dataframe tbody tr th {\n",
              "        vertical-align: top;\n",
              "    }\n",
              "\n",
              "    .dataframe thead th {\n",
              "        text-align: right;\n",
              "    }\n",
              "</style>\n",
              "<table border=\"1\" class=\"dataframe\">\n",
              "  <thead>\n",
              "    <tr style=\"text-align: right;\">\n",
              "      <th></th>\n",
              "      <th>id</th>\n",
              "      <th>url</th>\n",
              "      <th>region</th>\n",
              "      <th>region_url</th>\n",
              "      <th>price</th>\n",
              "      <th>year</th>\n",
              "      <th>manufacturer</th>\n",
              "      <th>model</th>\n",
              "      <th>condition</th>\n",
              "      <th>cylinders</th>\n",
              "      <th>...</th>\n",
              "      <th>size</th>\n",
              "      <th>type</th>\n",
              "      <th>paint_color</th>\n",
              "      <th>image_url</th>\n",
              "      <th>description</th>\n",
              "      <th>county</th>\n",
              "      <th>state</th>\n",
              "      <th>lat</th>\n",
              "      <th>long</th>\n",
              "      <th>posting_date</th>\n",
              "    </tr>\n",
              "  </thead>\n",
              "  <tbody>\n",
              "    <tr>\n",
              "      <th>0</th>\n",
              "      <td>7.316815e+09</td>\n",
              "      <td>https://auburn.craigslist.org/ctd/d/auburn-uni...</td>\n",
              "      <td>auburn</td>\n",
              "      <td>https://auburn.craigslist.org</td>\n",
              "      <td>33590.0</td>\n",
              "      <td>2014.0</td>\n",
              "      <td>gmc</td>\n",
              "      <td>sierra 1500 crew cab slt</td>\n",
              "      <td>3</td>\n",
              "      <td>8</td>\n",
              "      <td>...</td>\n",
              "      <td>0</td>\n",
              "      <td>pickup</td>\n",
              "      <td>white</td>\n",
              "      <td>https://images.craigslist.org/00R0R_lwWjXSEWNa...</td>\n",
              "      <td>Carvana is the safer way to buy a car During t...</td>\n",
              "      <td>0.0</td>\n",
              "      <td>al</td>\n",
              "      <td>32.590000</td>\n",
              "      <td>-85.480000</td>\n",
              "      <td>2021-05-04T12:31:18-0500</td>\n",
              "    </tr>\n",
              "    <tr>\n",
              "      <th>1</th>\n",
              "      <td>7.316815e+09</td>\n",
              "      <td>https://auburn.craigslist.org/ctd/d/auburn-uni...</td>\n",
              "      <td>auburn</td>\n",
              "      <td>https://auburn.craigslist.org</td>\n",
              "      <td>22590.0</td>\n",
              "      <td>2010.0</td>\n",
              "      <td>chevrolet</td>\n",
              "      <td>silverado 1500</td>\n",
              "      <td>3</td>\n",
              "      <td>8</td>\n",
              "      <td>...</td>\n",
              "      <td>0</td>\n",
              "      <td>pickup</td>\n",
              "      <td>blue</td>\n",
              "      <td>https://images.craigslist.org/00R0R_lwWjXSEWNa...</td>\n",
              "      <td>Carvana is the safer way to buy a car During t...</td>\n",
              "      <td>0.0</td>\n",
              "      <td>al</td>\n",
              "      <td>32.590000</td>\n",
              "      <td>-85.480000</td>\n",
              "      <td>2021-05-04T12:31:08-0500</td>\n",
              "    </tr>\n",
              "    <tr>\n",
              "      <th>2</th>\n",
              "      <td>7.316815e+09</td>\n",
              "      <td>https://auburn.craigslist.org/ctd/d/auburn-uni...</td>\n",
              "      <td>auburn</td>\n",
              "      <td>https://auburn.craigslist.org</td>\n",
              "      <td>39590.0</td>\n",
              "      <td>2020.0</td>\n",
              "      <td>chevrolet</td>\n",
              "      <td>silverado 1500 crew</td>\n",
              "      <td>3</td>\n",
              "      <td>8</td>\n",
              "      <td>...</td>\n",
              "      <td>0</td>\n",
              "      <td>pickup</td>\n",
              "      <td>red</td>\n",
              "      <td>https://images.craigslist.org/01212_jjirIWa0y0...</td>\n",
              "      <td>Carvana is the safer way to buy a car During t...</td>\n",
              "      <td>0.0</td>\n",
              "      <td>al</td>\n",
              "      <td>32.590000</td>\n",
              "      <td>-85.480000</td>\n",
              "      <td>2021-05-04T12:31:25-0500</td>\n",
              "    </tr>\n",
              "    <tr>\n",
              "      <th>3</th>\n",
              "      <td>7.316743e+09</td>\n",
              "      <td>https://auburn.craigslist.org/ctd/d/auburn-uni...</td>\n",
              "      <td>auburn</td>\n",
              "      <td>https://auburn.craigslist.org</td>\n",
              "      <td>30990.0</td>\n",
              "      <td>2017.0</td>\n",
              "      <td>toyota</td>\n",
              "      <td>tundra double cab sr</td>\n",
              "      <td>3</td>\n",
              "      <td>8</td>\n",
              "      <td>...</td>\n",
              "      <td>0</td>\n",
              "      <td>pickup</td>\n",
              "      <td>red</td>\n",
              "      <td>https://images.craigslist.org/00x0x_1y9kIOzGCF...</td>\n",
              "      <td>Carvana is the safer way to buy a car During t...</td>\n",
              "      <td>0.0</td>\n",
              "      <td>al</td>\n",
              "      <td>32.590000</td>\n",
              "      <td>-85.480000</td>\n",
              "      <td>2021-05-04T10:41:31-0500</td>\n",
              "    </tr>\n",
              "    <tr>\n",
              "      <th>4</th>\n",
              "      <td>7.316356e+09</td>\n",
              "      <td>https://auburn.craigslist.org/cto/d/auburn-uni...</td>\n",
              "      <td>auburn</td>\n",
              "      <td>https://auburn.craigslist.org</td>\n",
              "      <td>15000.0</td>\n",
              "      <td>2013.0</td>\n",
              "      <td>ford</td>\n",
              "      <td>f-150 xlt</td>\n",
              "      <td>6</td>\n",
              "      <td>6</td>\n",
              "      <td>...</td>\n",
              "      <td>full-size</td>\n",
              "      <td>truck</td>\n",
              "      <td>black</td>\n",
              "      <td>https://images.craigslist.org/00404_l4loxHvdQe...</td>\n",
              "      <td>2013 F-150 XLT V6 4 Door. Good condition. Leve...</td>\n",
              "      <td>0.0</td>\n",
              "      <td>al</td>\n",
              "      <td>32.592000</td>\n",
              "      <td>-85.518900</td>\n",
              "      <td>2021-05-03T14:02:03-0500</td>\n",
              "    </tr>\n",
              "    <tr>\n",
              "      <th>...</th>\n",
              "      <td>...</td>\n",
              "      <td>...</td>\n",
              "      <td>...</td>\n",
              "      <td>...</td>\n",
              "      <td>...</td>\n",
              "      <td>...</td>\n",
              "      <td>...</td>\n",
              "      <td>...</td>\n",
              "      <td>...</td>\n",
              "      <td>...</td>\n",
              "      <td>...</td>\n",
              "      <td>...</td>\n",
              "      <td>...</td>\n",
              "      <td>...</td>\n",
              "      <td>...</td>\n",
              "      <td>...</td>\n",
              "      <td>...</td>\n",
              "      <td>...</td>\n",
              "      <td>...</td>\n",
              "      <td>...</td>\n",
              "      <td>...</td>\n",
              "    </tr>\n",
              "    <tr>\n",
              "      <th>1995</th>\n",
              "      <td>7.307831e+09</td>\n",
              "      <td>https://dothan.craigslist.org/ctd/d/troy-2014-...</td>\n",
              "      <td>dothan</td>\n",
              "      <td>https://dothan.craigslist.org</td>\n",
              "      <td>11998.0</td>\n",
              "      <td>2014.0</td>\n",
              "      <td>hyundai</td>\n",
              "      <td>genesis coupe 2.0t</td>\n",
              "      <td>6</td>\n",
              "      <td>0</td>\n",
              "      <td>...</td>\n",
              "      <td>0</td>\n",
              "      <td>0</td>\n",
              "      <td>blue</td>\n",
              "      <td>https://images.craigslist.org/00y0y_cEzsJxPZnY...</td>\n",
              "      <td>2014 Hyundai Genesis Coupe 2.0T - STOCK #: FPA...</td>\n",
              "      <td>0.0</td>\n",
              "      <td>al</td>\n",
              "      <td>31.796941</td>\n",
              "      <td>-85.980049</td>\n",
              "      <td>2021-04-16T13:05:58-0500</td>\n",
              "    </tr>\n",
              "    <tr>\n",
              "      <th>1996</th>\n",
              "      <td>7.307831e+09</td>\n",
              "      <td>https://dothan.craigslist.org/ctd/d/ozark-2006...</td>\n",
              "      <td>dothan</td>\n",
              "      <td>https://dothan.craigslist.org</td>\n",
              "      <td>4999.0</td>\n",
              "      <td>2006.0</td>\n",
              "      <td>nissan</td>\n",
              "      <td>pathfinder</td>\n",
              "      <td>0</td>\n",
              "      <td>6</td>\n",
              "      <td>...</td>\n",
              "      <td>0</td>\n",
              "      <td>0</td>\n",
              "      <td>0</td>\n",
              "      <td>https://images.craigslist.org/00T0T_d1ACDDVGJd...</td>\n",
              "      <td>Nice 2006 Nissan pathfinder. Run's and drives ...</td>\n",
              "      <td>0.0</td>\n",
              "      <td>al</td>\n",
              "      <td>31.439100</td>\n",
              "      <td>-85.643600</td>\n",
              "      <td>2021-04-16T13:05:46-0500</td>\n",
              "    </tr>\n",
              "    <tr>\n",
              "      <th>1997</th>\n",
              "      <td>7.307787e+09</td>\n",
              "      <td>https://dothan.craigslist.org/ctd/d/hartford-2...</td>\n",
              "      <td>dothan</td>\n",
              "      <td>https://dothan.craigslist.org</td>\n",
              "      <td>7250.0</td>\n",
              "      <td>2012.0</td>\n",
              "      <td>chevrolet</td>\n",
              "      <td>sonic</td>\n",
              "      <td>3</td>\n",
              "      <td>4</td>\n",
              "      <td>...</td>\n",
              "      <td>0</td>\n",
              "      <td>0</td>\n",
              "      <td>blue</td>\n",
              "      <td>https://images.craigslist.org/00J0J_hWUBpr57j4...</td>\n",
              "      <td>🤱💐Mothers day is quickly approaching come see ...</td>\n",
              "      <td>0.0</td>\n",
              "      <td>al</td>\n",
              "      <td>31.086000</td>\n",
              "      <td>-85.719200</td>\n",
              "      <td>2021-04-16T12:01:15-0500</td>\n",
              "    </tr>\n",
              "    <tr>\n",
              "      <th>1998</th>\n",
              "      <td>7.307670e+09</td>\n",
              "      <td>https://dothan.craigslist.org/ctd/d/troy-2020-...</td>\n",
              "      <td>dothan</td>\n",
              "      <td>https://dothan.craigslist.org</td>\n",
              "      <td>19998.0</td>\n",
              "      <td>2020.0</td>\n",
              "      <td>ford</td>\n",
              "      <td>escape s</td>\n",
              "      <td>6</td>\n",
              "      <td>0</td>\n",
              "      <td>...</td>\n",
              "      <td>0</td>\n",
              "      <td>0</td>\n",
              "      <td>0</td>\n",
              "      <td>https://images.craigslist.org/00000_lRiXsNSz53...</td>\n",
              "      <td>2020 Ford Escape S - STOCK #: FPD77811A  Avail...</td>\n",
              "      <td>0.0</td>\n",
              "      <td>al</td>\n",
              "      <td>31.796941</td>\n",
              "      <td>-85.980049</td>\n",
              "      <td>2021-04-16T09:05:01-0500</td>\n",
              "    </tr>\n",
              "    <tr>\n",
              "      <th>1999</th>\n",
              "      <td>7.307409e+09</td>\n",
              "      <td>https://dothan.craigslist.org/cto/d/new-brockt...</td>\n",
              "      <td>dothan</td>\n",
              "      <td>https://dothan.craigslist.org</td>\n",
              "      <td>4000.0</td>\n",
              "      <td>2001.0</td>\n",
              "      <td>jeep</td>\n",
              "      <td>grand cherokee</td>\n",
              "      <td>2</td>\n",
              "      <td>6</td>\n",
              "      <td>...</td>\n",
              "      <td>mid-size</td>\n",
              "      <td>SUV</td>\n",
              "      <td>white</td>\n",
              "      <td>https://images.craigslist.org/00y0y_5hSzgUO5r8...</td>\n",
              "      <td>Up for sale is a 2001 Jeep Grand Cherokee runs...</td>\n",
              "      <td>0.0</td>\n",
              "      <td>al</td>\n",
              "      <td>31.369000</td>\n",
              "      <td>-85.940400</td>\n",
              "      <td>2021-04-15T16:03:11-0500</td>\n",
              "    </tr>\n",
              "  </tbody>\n",
              "</table>\n",
              "<p>2000 rows × 26 columns</p>\n",
              "</div>"
            ],
            "text/plain": [
              "                id                                                url  region   \n",
              "0     7.316815e+09  https://auburn.craigslist.org/ctd/d/auburn-uni...  auburn  \\\n",
              "1     7.316815e+09  https://auburn.craigslist.org/ctd/d/auburn-uni...  auburn   \n",
              "2     7.316815e+09  https://auburn.craigslist.org/ctd/d/auburn-uni...  auburn   \n",
              "3     7.316743e+09  https://auburn.craigslist.org/ctd/d/auburn-uni...  auburn   \n",
              "4     7.316356e+09  https://auburn.craigslist.org/cto/d/auburn-uni...  auburn   \n",
              "...            ...                                                ...     ...   \n",
              "1995  7.307831e+09  https://dothan.craigslist.org/ctd/d/troy-2014-...  dothan   \n",
              "1996  7.307831e+09  https://dothan.craigslist.org/ctd/d/ozark-2006...  dothan   \n",
              "1997  7.307787e+09  https://dothan.craigslist.org/ctd/d/hartford-2...  dothan   \n",
              "1998  7.307670e+09  https://dothan.craigslist.org/ctd/d/troy-2020-...  dothan   \n",
              "1999  7.307409e+09  https://dothan.craigslist.org/cto/d/new-brockt...  dothan   \n",
              "\n",
              "                         region_url    price    year manufacturer   \n",
              "0     https://auburn.craigslist.org  33590.0  2014.0          gmc  \\\n",
              "1     https://auburn.craigslist.org  22590.0  2010.0    chevrolet   \n",
              "2     https://auburn.craigslist.org  39590.0  2020.0    chevrolet   \n",
              "3     https://auburn.craigslist.org  30990.0  2017.0       toyota   \n",
              "4     https://auburn.craigslist.org  15000.0  2013.0         ford   \n",
              "...                             ...      ...     ...          ...   \n",
              "1995  https://dothan.craigslist.org  11998.0  2014.0      hyundai   \n",
              "1996  https://dothan.craigslist.org   4999.0  2006.0       nissan   \n",
              "1997  https://dothan.craigslist.org   7250.0  2012.0    chevrolet   \n",
              "1998  https://dothan.craigslist.org  19998.0  2020.0         ford   \n",
              "1999  https://dothan.craigslist.org   4000.0  2001.0         jeep   \n",
              "\n",
              "                         model  condition  cylinders  ...       size    type   \n",
              "0     sierra 1500 crew cab slt          3          8  ...          0  pickup  \\\n",
              "1               silverado 1500          3          8  ...          0  pickup   \n",
              "2          silverado 1500 crew          3          8  ...          0  pickup   \n",
              "3         tundra double cab sr          3          8  ...          0  pickup   \n",
              "4                    f-150 xlt          6          6  ...  full-size   truck   \n",
              "...                        ...        ...        ...  ...        ...     ...   \n",
              "1995        genesis coupe 2.0t          6          0  ...          0       0   \n",
              "1996                pathfinder          0          6  ...          0       0   \n",
              "1997                     sonic          3          4  ...          0       0   \n",
              "1998                  escape s          6          0  ...          0       0   \n",
              "1999            grand cherokee          2          6  ...   mid-size     SUV   \n",
              "\n",
              "      paint_color                                          image_url   \n",
              "0           white  https://images.craigslist.org/00R0R_lwWjXSEWNa...  \\\n",
              "1            blue  https://images.craigslist.org/00R0R_lwWjXSEWNa...   \n",
              "2             red  https://images.craigslist.org/01212_jjirIWa0y0...   \n",
              "3             red  https://images.craigslist.org/00x0x_1y9kIOzGCF...   \n",
              "4           black  https://images.craigslist.org/00404_l4loxHvdQe...   \n",
              "...           ...                                                ...   \n",
              "1995         blue  https://images.craigslist.org/00y0y_cEzsJxPZnY...   \n",
              "1996            0  https://images.craigslist.org/00T0T_d1ACDDVGJd...   \n",
              "1997         blue  https://images.craigslist.org/00J0J_hWUBpr57j4...   \n",
              "1998            0  https://images.craigslist.org/00000_lRiXsNSz53...   \n",
              "1999        white  https://images.craigslist.org/00y0y_5hSzgUO5r8...   \n",
              "\n",
              "                                            description county state   \n",
              "0     Carvana is the safer way to buy a car During t...    0.0    al  \\\n",
              "1     Carvana is the safer way to buy a car During t...    0.0    al   \n",
              "2     Carvana is the safer way to buy a car During t...    0.0    al   \n",
              "3     Carvana is the safer way to buy a car During t...    0.0    al   \n",
              "4     2013 F-150 XLT V6 4 Door. Good condition. Leve...    0.0    al   \n",
              "...                                                 ...    ...   ...   \n",
              "1995  2014 Hyundai Genesis Coupe 2.0T - STOCK #: FPA...    0.0    al   \n",
              "1996  Nice 2006 Nissan pathfinder. Run's and drives ...    0.0    al   \n",
              "1997  🤱💐Mothers day is quickly approaching come see ...    0.0    al   \n",
              "1998  2020 Ford Escape S - STOCK #: FPD77811A  Avail...    0.0    al   \n",
              "1999  Up for sale is a 2001 Jeep Grand Cherokee runs...    0.0    al   \n",
              "\n",
              "            lat       long              posting_date  \n",
              "0     32.590000 -85.480000  2021-05-04T12:31:18-0500  \n",
              "1     32.590000 -85.480000  2021-05-04T12:31:08-0500  \n",
              "2     32.590000 -85.480000  2021-05-04T12:31:25-0500  \n",
              "3     32.590000 -85.480000  2021-05-04T10:41:31-0500  \n",
              "4     32.592000 -85.518900  2021-05-03T14:02:03-0500  \n",
              "...         ...        ...                       ...  \n",
              "1995  31.796941 -85.980049  2021-04-16T13:05:58-0500  \n",
              "1996  31.439100 -85.643600  2021-04-16T13:05:46-0500  \n",
              "1997  31.086000 -85.719200  2021-04-16T12:01:15-0500  \n",
              "1998  31.796941 -85.980049  2021-04-16T09:05:01-0500  \n",
              "1999  31.369000 -85.940400  2021-04-15T16:03:11-0500  \n",
              "\n",
              "[2000 rows x 26 columns]"
            ]
          },
          "execution_count": 386,
          "metadata": {},
          "output_type": "execute_result"
        }
      ],
      "source": [
        "mydata"
      ]
    },
    {
      "cell_type": "code",
      "execution_count": null,
      "id": "a9b44b6f-ad81-46e5-905c-fa6c453d3401",
      "metadata": {
        "tags": [],
        "id": "a9b44b6f-ad81-46e5-905c-fa6c453d3401"
      },
      "outputs": [],
      "source": [
        "def converttransmission(column):\n",
        "    if column == 'automatic':\n",
        "        return 3\n",
        "    elif column == 'manual':\n",
        "        return 2\n",
        "    elif column == 'other':\n",
        "        return 1\n",
        "    else:\n",
        "        return 0"
      ]
    },
    {
      "cell_type": "code",
      "execution_count": null,
      "id": "ee85bc9b-2950-4a3d-b661-f13d705e1e24",
      "metadata": {
        "tags": [],
        "id": "ee85bc9b-2950-4a3d-b661-f13d705e1e24"
      },
      "outputs": [],
      "source": [
        "mydata['transmission'] = mydata['transmission'].apply(converttransmission)"
      ]
    },
    {
      "cell_type": "code",
      "execution_count": null,
      "id": "973594d6-df83-42bf-83c3-5cc76f8e2f29",
      "metadata": {
        "tags": [],
        "id": "973594d6-df83-42bf-83c3-5cc76f8e2f29",
        "outputId": "b3ff4986-8931-4cfd-e158-a6aaa6530dfa"
      },
      "outputs": [
        {
          "data": {
            "text/html": [
              "<div>\n",
              "<style scoped>\n",
              "    .dataframe tbody tr th:only-of-type {\n",
              "        vertical-align: middle;\n",
              "    }\n",
              "\n",
              "    .dataframe tbody tr th {\n",
              "        vertical-align: top;\n",
              "    }\n",
              "\n",
              "    .dataframe thead th {\n",
              "        text-align: right;\n",
              "    }\n",
              "</style>\n",
              "<table border=\"1\" class=\"dataframe\">\n",
              "  <thead>\n",
              "    <tr style=\"text-align: right;\">\n",
              "      <th></th>\n",
              "      <th>id</th>\n",
              "      <th>url</th>\n",
              "      <th>region</th>\n",
              "      <th>region_url</th>\n",
              "      <th>price</th>\n",
              "      <th>year</th>\n",
              "      <th>manufacturer</th>\n",
              "      <th>model</th>\n",
              "      <th>condition</th>\n",
              "      <th>cylinders</th>\n",
              "      <th>...</th>\n",
              "      <th>size</th>\n",
              "      <th>type</th>\n",
              "      <th>paint_color</th>\n",
              "      <th>image_url</th>\n",
              "      <th>description</th>\n",
              "      <th>county</th>\n",
              "      <th>state</th>\n",
              "      <th>lat</th>\n",
              "      <th>long</th>\n",
              "      <th>posting_date</th>\n",
              "    </tr>\n",
              "  </thead>\n",
              "  <tbody>\n",
              "    <tr>\n",
              "      <th>0</th>\n",
              "      <td>7.316815e+09</td>\n",
              "      <td>https://auburn.craigslist.org/ctd/d/auburn-uni...</td>\n",
              "      <td>auburn</td>\n",
              "      <td>https://auburn.craigslist.org</td>\n",
              "      <td>33590.0</td>\n",
              "      <td>2014.0</td>\n",
              "      <td>gmc</td>\n",
              "      <td>sierra 1500 crew cab slt</td>\n",
              "      <td>3</td>\n",
              "      <td>8</td>\n",
              "      <td>...</td>\n",
              "      <td>0</td>\n",
              "      <td>pickup</td>\n",
              "      <td>white</td>\n",
              "      <td>https://images.craigslist.org/00R0R_lwWjXSEWNa...</td>\n",
              "      <td>Carvana is the safer way to buy a car During t...</td>\n",
              "      <td>0.0</td>\n",
              "      <td>al</td>\n",
              "      <td>32.590000</td>\n",
              "      <td>-85.480000</td>\n",
              "      <td>2021-05-04T12:31:18-0500</td>\n",
              "    </tr>\n",
              "    <tr>\n",
              "      <th>1</th>\n",
              "      <td>7.316815e+09</td>\n",
              "      <td>https://auburn.craigslist.org/ctd/d/auburn-uni...</td>\n",
              "      <td>auburn</td>\n",
              "      <td>https://auburn.craigslist.org</td>\n",
              "      <td>22590.0</td>\n",
              "      <td>2010.0</td>\n",
              "      <td>chevrolet</td>\n",
              "      <td>silverado 1500</td>\n",
              "      <td>3</td>\n",
              "      <td>8</td>\n",
              "      <td>...</td>\n",
              "      <td>0</td>\n",
              "      <td>pickup</td>\n",
              "      <td>blue</td>\n",
              "      <td>https://images.craigslist.org/00R0R_lwWjXSEWNa...</td>\n",
              "      <td>Carvana is the safer way to buy a car During t...</td>\n",
              "      <td>0.0</td>\n",
              "      <td>al</td>\n",
              "      <td>32.590000</td>\n",
              "      <td>-85.480000</td>\n",
              "      <td>2021-05-04T12:31:08-0500</td>\n",
              "    </tr>\n",
              "    <tr>\n",
              "      <th>2</th>\n",
              "      <td>7.316815e+09</td>\n",
              "      <td>https://auburn.craigslist.org/ctd/d/auburn-uni...</td>\n",
              "      <td>auburn</td>\n",
              "      <td>https://auburn.craigslist.org</td>\n",
              "      <td>39590.0</td>\n",
              "      <td>2020.0</td>\n",
              "      <td>chevrolet</td>\n",
              "      <td>silverado 1500 crew</td>\n",
              "      <td>3</td>\n",
              "      <td>8</td>\n",
              "      <td>...</td>\n",
              "      <td>0</td>\n",
              "      <td>pickup</td>\n",
              "      <td>red</td>\n",
              "      <td>https://images.craigslist.org/01212_jjirIWa0y0...</td>\n",
              "      <td>Carvana is the safer way to buy a car During t...</td>\n",
              "      <td>0.0</td>\n",
              "      <td>al</td>\n",
              "      <td>32.590000</td>\n",
              "      <td>-85.480000</td>\n",
              "      <td>2021-05-04T12:31:25-0500</td>\n",
              "    </tr>\n",
              "    <tr>\n",
              "      <th>3</th>\n",
              "      <td>7.316743e+09</td>\n",
              "      <td>https://auburn.craigslist.org/ctd/d/auburn-uni...</td>\n",
              "      <td>auburn</td>\n",
              "      <td>https://auburn.craigslist.org</td>\n",
              "      <td>30990.0</td>\n",
              "      <td>2017.0</td>\n",
              "      <td>toyota</td>\n",
              "      <td>tundra double cab sr</td>\n",
              "      <td>3</td>\n",
              "      <td>8</td>\n",
              "      <td>...</td>\n",
              "      <td>0</td>\n",
              "      <td>pickup</td>\n",
              "      <td>red</td>\n",
              "      <td>https://images.craigslist.org/00x0x_1y9kIOzGCF...</td>\n",
              "      <td>Carvana is the safer way to buy a car During t...</td>\n",
              "      <td>0.0</td>\n",
              "      <td>al</td>\n",
              "      <td>32.590000</td>\n",
              "      <td>-85.480000</td>\n",
              "      <td>2021-05-04T10:41:31-0500</td>\n",
              "    </tr>\n",
              "    <tr>\n",
              "      <th>4</th>\n",
              "      <td>7.316356e+09</td>\n",
              "      <td>https://auburn.craigslist.org/cto/d/auburn-uni...</td>\n",
              "      <td>auburn</td>\n",
              "      <td>https://auburn.craigslist.org</td>\n",
              "      <td>15000.0</td>\n",
              "      <td>2013.0</td>\n",
              "      <td>ford</td>\n",
              "      <td>f-150 xlt</td>\n",
              "      <td>6</td>\n",
              "      <td>6</td>\n",
              "      <td>...</td>\n",
              "      <td>full-size</td>\n",
              "      <td>truck</td>\n",
              "      <td>black</td>\n",
              "      <td>https://images.craigslist.org/00404_l4loxHvdQe...</td>\n",
              "      <td>2013 F-150 XLT V6 4 Door. Good condition. Leve...</td>\n",
              "      <td>0.0</td>\n",
              "      <td>al</td>\n",
              "      <td>32.592000</td>\n",
              "      <td>-85.518900</td>\n",
              "      <td>2021-05-03T14:02:03-0500</td>\n",
              "    </tr>\n",
              "    <tr>\n",
              "      <th>...</th>\n",
              "      <td>...</td>\n",
              "      <td>...</td>\n",
              "      <td>...</td>\n",
              "      <td>...</td>\n",
              "      <td>...</td>\n",
              "      <td>...</td>\n",
              "      <td>...</td>\n",
              "      <td>...</td>\n",
              "      <td>...</td>\n",
              "      <td>...</td>\n",
              "      <td>...</td>\n",
              "      <td>...</td>\n",
              "      <td>...</td>\n",
              "      <td>...</td>\n",
              "      <td>...</td>\n",
              "      <td>...</td>\n",
              "      <td>...</td>\n",
              "      <td>...</td>\n",
              "      <td>...</td>\n",
              "      <td>...</td>\n",
              "      <td>...</td>\n",
              "    </tr>\n",
              "    <tr>\n",
              "      <th>1995</th>\n",
              "      <td>7.307831e+09</td>\n",
              "      <td>https://dothan.craigslist.org/ctd/d/troy-2014-...</td>\n",
              "      <td>dothan</td>\n",
              "      <td>https://dothan.craigslist.org</td>\n",
              "      <td>11998.0</td>\n",
              "      <td>2014.0</td>\n",
              "      <td>hyundai</td>\n",
              "      <td>genesis coupe 2.0t</td>\n",
              "      <td>6</td>\n",
              "      <td>0</td>\n",
              "      <td>...</td>\n",
              "      <td>0</td>\n",
              "      <td>0</td>\n",
              "      <td>blue</td>\n",
              "      <td>https://images.craigslist.org/00y0y_cEzsJxPZnY...</td>\n",
              "      <td>2014 Hyundai Genesis Coupe 2.0T - STOCK #: FPA...</td>\n",
              "      <td>0.0</td>\n",
              "      <td>al</td>\n",
              "      <td>31.796941</td>\n",
              "      <td>-85.980049</td>\n",
              "      <td>2021-04-16T13:05:58-0500</td>\n",
              "    </tr>\n",
              "    <tr>\n",
              "      <th>1996</th>\n",
              "      <td>7.307831e+09</td>\n",
              "      <td>https://dothan.craigslist.org/ctd/d/ozark-2006...</td>\n",
              "      <td>dothan</td>\n",
              "      <td>https://dothan.craigslist.org</td>\n",
              "      <td>4999.0</td>\n",
              "      <td>2006.0</td>\n",
              "      <td>nissan</td>\n",
              "      <td>pathfinder</td>\n",
              "      <td>0</td>\n",
              "      <td>6</td>\n",
              "      <td>...</td>\n",
              "      <td>0</td>\n",
              "      <td>0</td>\n",
              "      <td>0</td>\n",
              "      <td>https://images.craigslist.org/00T0T_d1ACDDVGJd...</td>\n",
              "      <td>Nice 2006 Nissan pathfinder. Run's and drives ...</td>\n",
              "      <td>0.0</td>\n",
              "      <td>al</td>\n",
              "      <td>31.439100</td>\n",
              "      <td>-85.643600</td>\n",
              "      <td>2021-04-16T13:05:46-0500</td>\n",
              "    </tr>\n",
              "    <tr>\n",
              "      <th>1997</th>\n",
              "      <td>7.307787e+09</td>\n",
              "      <td>https://dothan.craigslist.org/ctd/d/hartford-2...</td>\n",
              "      <td>dothan</td>\n",
              "      <td>https://dothan.craigslist.org</td>\n",
              "      <td>7250.0</td>\n",
              "      <td>2012.0</td>\n",
              "      <td>chevrolet</td>\n",
              "      <td>sonic</td>\n",
              "      <td>3</td>\n",
              "      <td>4</td>\n",
              "      <td>...</td>\n",
              "      <td>0</td>\n",
              "      <td>0</td>\n",
              "      <td>blue</td>\n",
              "      <td>https://images.craigslist.org/00J0J_hWUBpr57j4...</td>\n",
              "      <td>🤱💐Mothers day is quickly approaching come see ...</td>\n",
              "      <td>0.0</td>\n",
              "      <td>al</td>\n",
              "      <td>31.086000</td>\n",
              "      <td>-85.719200</td>\n",
              "      <td>2021-04-16T12:01:15-0500</td>\n",
              "    </tr>\n",
              "    <tr>\n",
              "      <th>1998</th>\n",
              "      <td>7.307670e+09</td>\n",
              "      <td>https://dothan.craigslist.org/ctd/d/troy-2020-...</td>\n",
              "      <td>dothan</td>\n",
              "      <td>https://dothan.craigslist.org</td>\n",
              "      <td>19998.0</td>\n",
              "      <td>2020.0</td>\n",
              "      <td>ford</td>\n",
              "      <td>escape s</td>\n",
              "      <td>6</td>\n",
              "      <td>0</td>\n",
              "      <td>...</td>\n",
              "      <td>0</td>\n",
              "      <td>0</td>\n",
              "      <td>0</td>\n",
              "      <td>https://images.craigslist.org/00000_lRiXsNSz53...</td>\n",
              "      <td>2020 Ford Escape S - STOCK #: FPD77811A  Avail...</td>\n",
              "      <td>0.0</td>\n",
              "      <td>al</td>\n",
              "      <td>31.796941</td>\n",
              "      <td>-85.980049</td>\n",
              "      <td>2021-04-16T09:05:01-0500</td>\n",
              "    </tr>\n",
              "    <tr>\n",
              "      <th>1999</th>\n",
              "      <td>7.307409e+09</td>\n",
              "      <td>https://dothan.craigslist.org/cto/d/new-brockt...</td>\n",
              "      <td>dothan</td>\n",
              "      <td>https://dothan.craigslist.org</td>\n",
              "      <td>4000.0</td>\n",
              "      <td>2001.0</td>\n",
              "      <td>jeep</td>\n",
              "      <td>grand cherokee</td>\n",
              "      <td>2</td>\n",
              "      <td>6</td>\n",
              "      <td>...</td>\n",
              "      <td>mid-size</td>\n",
              "      <td>SUV</td>\n",
              "      <td>white</td>\n",
              "      <td>https://images.craigslist.org/00y0y_5hSzgUO5r8...</td>\n",
              "      <td>Up for sale is a 2001 Jeep Grand Cherokee runs...</td>\n",
              "      <td>0.0</td>\n",
              "      <td>al</td>\n",
              "      <td>31.369000</td>\n",
              "      <td>-85.940400</td>\n",
              "      <td>2021-04-15T16:03:11-0500</td>\n",
              "    </tr>\n",
              "  </tbody>\n",
              "</table>\n",
              "<p>2000 rows × 26 columns</p>\n",
              "</div>"
            ],
            "text/plain": [
              "                id                                                url  region   \n",
              "0     7.316815e+09  https://auburn.craigslist.org/ctd/d/auburn-uni...  auburn  \\\n",
              "1     7.316815e+09  https://auburn.craigslist.org/ctd/d/auburn-uni...  auburn   \n",
              "2     7.316815e+09  https://auburn.craigslist.org/ctd/d/auburn-uni...  auburn   \n",
              "3     7.316743e+09  https://auburn.craigslist.org/ctd/d/auburn-uni...  auburn   \n",
              "4     7.316356e+09  https://auburn.craigslist.org/cto/d/auburn-uni...  auburn   \n",
              "...            ...                                                ...     ...   \n",
              "1995  7.307831e+09  https://dothan.craigslist.org/ctd/d/troy-2014-...  dothan   \n",
              "1996  7.307831e+09  https://dothan.craigslist.org/ctd/d/ozark-2006...  dothan   \n",
              "1997  7.307787e+09  https://dothan.craigslist.org/ctd/d/hartford-2...  dothan   \n",
              "1998  7.307670e+09  https://dothan.craigslist.org/ctd/d/troy-2020-...  dothan   \n",
              "1999  7.307409e+09  https://dothan.craigslist.org/cto/d/new-brockt...  dothan   \n",
              "\n",
              "                         region_url    price    year manufacturer   \n",
              "0     https://auburn.craigslist.org  33590.0  2014.0          gmc  \\\n",
              "1     https://auburn.craigslist.org  22590.0  2010.0    chevrolet   \n",
              "2     https://auburn.craigslist.org  39590.0  2020.0    chevrolet   \n",
              "3     https://auburn.craigslist.org  30990.0  2017.0       toyota   \n",
              "4     https://auburn.craigslist.org  15000.0  2013.0         ford   \n",
              "...                             ...      ...     ...          ...   \n",
              "1995  https://dothan.craigslist.org  11998.0  2014.0      hyundai   \n",
              "1996  https://dothan.craigslist.org   4999.0  2006.0       nissan   \n",
              "1997  https://dothan.craigslist.org   7250.0  2012.0    chevrolet   \n",
              "1998  https://dothan.craigslist.org  19998.0  2020.0         ford   \n",
              "1999  https://dothan.craigslist.org   4000.0  2001.0         jeep   \n",
              "\n",
              "                         model  condition  cylinders  ...       size    type   \n",
              "0     sierra 1500 crew cab slt          3          8  ...          0  pickup  \\\n",
              "1               silverado 1500          3          8  ...          0  pickup   \n",
              "2          silverado 1500 crew          3          8  ...          0  pickup   \n",
              "3         tundra double cab sr          3          8  ...          0  pickup   \n",
              "4                    f-150 xlt          6          6  ...  full-size   truck   \n",
              "...                        ...        ...        ...  ...        ...     ...   \n",
              "1995        genesis coupe 2.0t          6          0  ...          0       0   \n",
              "1996                pathfinder          0          6  ...          0       0   \n",
              "1997                     sonic          3          4  ...          0       0   \n",
              "1998                  escape s          6          0  ...          0       0   \n",
              "1999            grand cherokee          2          6  ...   mid-size     SUV   \n",
              "\n",
              "      paint_color                                          image_url   \n",
              "0           white  https://images.craigslist.org/00R0R_lwWjXSEWNa...  \\\n",
              "1            blue  https://images.craigslist.org/00R0R_lwWjXSEWNa...   \n",
              "2             red  https://images.craigslist.org/01212_jjirIWa0y0...   \n",
              "3             red  https://images.craigslist.org/00x0x_1y9kIOzGCF...   \n",
              "4           black  https://images.craigslist.org/00404_l4loxHvdQe...   \n",
              "...           ...                                                ...   \n",
              "1995         blue  https://images.craigslist.org/00y0y_cEzsJxPZnY...   \n",
              "1996            0  https://images.craigslist.org/00T0T_d1ACDDVGJd...   \n",
              "1997         blue  https://images.craigslist.org/00J0J_hWUBpr57j4...   \n",
              "1998            0  https://images.craigslist.org/00000_lRiXsNSz53...   \n",
              "1999        white  https://images.craigslist.org/00y0y_5hSzgUO5r8...   \n",
              "\n",
              "                                            description county state   \n",
              "0     Carvana is the safer way to buy a car During t...    0.0    al  \\\n",
              "1     Carvana is the safer way to buy a car During t...    0.0    al   \n",
              "2     Carvana is the safer way to buy a car During t...    0.0    al   \n",
              "3     Carvana is the safer way to buy a car During t...    0.0    al   \n",
              "4     2013 F-150 XLT V6 4 Door. Good condition. Leve...    0.0    al   \n",
              "...                                                 ...    ...   ...   \n",
              "1995  2014 Hyundai Genesis Coupe 2.0T - STOCK #: FPA...    0.0    al   \n",
              "1996  Nice 2006 Nissan pathfinder. Run's and drives ...    0.0    al   \n",
              "1997  🤱💐Mothers day is quickly approaching come see ...    0.0    al   \n",
              "1998  2020 Ford Escape S - STOCK #: FPD77811A  Avail...    0.0    al   \n",
              "1999  Up for sale is a 2001 Jeep Grand Cherokee runs...    0.0    al   \n",
              "\n",
              "            lat       long              posting_date  \n",
              "0     32.590000 -85.480000  2021-05-04T12:31:18-0500  \n",
              "1     32.590000 -85.480000  2021-05-04T12:31:08-0500  \n",
              "2     32.590000 -85.480000  2021-05-04T12:31:25-0500  \n",
              "3     32.590000 -85.480000  2021-05-04T10:41:31-0500  \n",
              "4     32.592000 -85.518900  2021-05-03T14:02:03-0500  \n",
              "...         ...        ...                       ...  \n",
              "1995  31.796941 -85.980049  2021-04-16T13:05:58-0500  \n",
              "1996  31.439100 -85.643600  2021-04-16T13:05:46-0500  \n",
              "1997  31.086000 -85.719200  2021-04-16T12:01:15-0500  \n",
              "1998  31.796941 -85.980049  2021-04-16T09:05:01-0500  \n",
              "1999  31.369000 -85.940400  2021-04-15T16:03:11-0500  \n",
              "\n",
              "[2000 rows x 26 columns]"
            ]
          },
          "execution_count": 389,
          "metadata": {},
          "output_type": "execute_result"
        }
      ],
      "source": [
        "mydata"
      ]
    },
    {
      "cell_type": "code",
      "execution_count": null,
      "id": "5b257785-6631-41d1-b508-ab1307bc451c",
      "metadata": {
        "tags": [],
        "id": "5b257785-6631-41d1-b508-ab1307bc451c"
      },
      "outputs": [],
      "source": [
        "def convertdrive(column):\n",
        "    if column == '4wd':\n",
        "        return 3\n",
        "    elif column == 'fwd':\n",
        "        return 2\n",
        "    elif column == 'rwd':\n",
        "        return 1\n",
        "    else:\n",
        "        return 0"
      ]
    },
    {
      "cell_type": "code",
      "execution_count": null,
      "id": "ef156534-013e-4fad-a664-70d3787a290c",
      "metadata": {
        "tags": [],
        "id": "ef156534-013e-4fad-a664-70d3787a290c"
      },
      "outputs": [],
      "source": [
        "mydata['drive'] = mydata['drive'].apply(convertdrive)"
      ]
    },
    {
      "cell_type": "code",
      "execution_count": null,
      "id": "0904b9e8-8fac-4d5d-806d-37c53ff20141",
      "metadata": {
        "tags": [],
        "id": "0904b9e8-8fac-4d5d-806d-37c53ff20141",
        "outputId": "71d5caa2-4ab6-4d58-99eb-a6ab777f6796"
      },
      "outputs": [
        {
          "data": {
            "text/html": [
              "<div>\n",
              "<style scoped>\n",
              "    .dataframe tbody tr th:only-of-type {\n",
              "        vertical-align: middle;\n",
              "    }\n",
              "\n",
              "    .dataframe tbody tr th {\n",
              "        vertical-align: top;\n",
              "    }\n",
              "\n",
              "    .dataframe thead th {\n",
              "        text-align: right;\n",
              "    }\n",
              "</style>\n",
              "<table border=\"1\" class=\"dataframe\">\n",
              "  <thead>\n",
              "    <tr style=\"text-align: right;\">\n",
              "      <th></th>\n",
              "      <th>id</th>\n",
              "      <th>url</th>\n",
              "      <th>region</th>\n",
              "      <th>region_url</th>\n",
              "      <th>price</th>\n",
              "      <th>year</th>\n",
              "      <th>manufacturer</th>\n",
              "      <th>model</th>\n",
              "      <th>condition</th>\n",
              "      <th>cylinders</th>\n",
              "      <th>...</th>\n",
              "      <th>size</th>\n",
              "      <th>type</th>\n",
              "      <th>paint_color</th>\n",
              "      <th>image_url</th>\n",
              "      <th>description</th>\n",
              "      <th>county</th>\n",
              "      <th>state</th>\n",
              "      <th>lat</th>\n",
              "      <th>long</th>\n",
              "      <th>posting_date</th>\n",
              "    </tr>\n",
              "  </thead>\n",
              "  <tbody>\n",
              "    <tr>\n",
              "      <th>0</th>\n",
              "      <td>7.316815e+09</td>\n",
              "      <td>https://auburn.craigslist.org/ctd/d/auburn-uni...</td>\n",
              "      <td>auburn</td>\n",
              "      <td>https://auburn.craigslist.org</td>\n",
              "      <td>33590.0</td>\n",
              "      <td>2014.0</td>\n",
              "      <td>gmc</td>\n",
              "      <td>sierra 1500 crew cab slt</td>\n",
              "      <td>3</td>\n",
              "      <td>8</td>\n",
              "      <td>...</td>\n",
              "      <td>0</td>\n",
              "      <td>pickup</td>\n",
              "      <td>white</td>\n",
              "      <td>https://images.craigslist.org/00R0R_lwWjXSEWNa...</td>\n",
              "      <td>Carvana is the safer way to buy a car During t...</td>\n",
              "      <td>0.0</td>\n",
              "      <td>al</td>\n",
              "      <td>32.590000</td>\n",
              "      <td>-85.480000</td>\n",
              "      <td>2021-05-04T12:31:18-0500</td>\n",
              "    </tr>\n",
              "    <tr>\n",
              "      <th>1</th>\n",
              "      <td>7.316815e+09</td>\n",
              "      <td>https://auburn.craigslist.org/ctd/d/auburn-uni...</td>\n",
              "      <td>auburn</td>\n",
              "      <td>https://auburn.craigslist.org</td>\n",
              "      <td>22590.0</td>\n",
              "      <td>2010.0</td>\n",
              "      <td>chevrolet</td>\n",
              "      <td>silverado 1500</td>\n",
              "      <td>3</td>\n",
              "      <td>8</td>\n",
              "      <td>...</td>\n",
              "      <td>0</td>\n",
              "      <td>pickup</td>\n",
              "      <td>blue</td>\n",
              "      <td>https://images.craigslist.org/00R0R_lwWjXSEWNa...</td>\n",
              "      <td>Carvana is the safer way to buy a car During t...</td>\n",
              "      <td>0.0</td>\n",
              "      <td>al</td>\n",
              "      <td>32.590000</td>\n",
              "      <td>-85.480000</td>\n",
              "      <td>2021-05-04T12:31:08-0500</td>\n",
              "    </tr>\n",
              "    <tr>\n",
              "      <th>2</th>\n",
              "      <td>7.316815e+09</td>\n",
              "      <td>https://auburn.craigslist.org/ctd/d/auburn-uni...</td>\n",
              "      <td>auburn</td>\n",
              "      <td>https://auburn.craigslist.org</td>\n",
              "      <td>39590.0</td>\n",
              "      <td>2020.0</td>\n",
              "      <td>chevrolet</td>\n",
              "      <td>silverado 1500 crew</td>\n",
              "      <td>3</td>\n",
              "      <td>8</td>\n",
              "      <td>...</td>\n",
              "      <td>0</td>\n",
              "      <td>pickup</td>\n",
              "      <td>red</td>\n",
              "      <td>https://images.craigslist.org/01212_jjirIWa0y0...</td>\n",
              "      <td>Carvana is the safer way to buy a car During t...</td>\n",
              "      <td>0.0</td>\n",
              "      <td>al</td>\n",
              "      <td>32.590000</td>\n",
              "      <td>-85.480000</td>\n",
              "      <td>2021-05-04T12:31:25-0500</td>\n",
              "    </tr>\n",
              "    <tr>\n",
              "      <th>3</th>\n",
              "      <td>7.316743e+09</td>\n",
              "      <td>https://auburn.craigslist.org/ctd/d/auburn-uni...</td>\n",
              "      <td>auburn</td>\n",
              "      <td>https://auburn.craigslist.org</td>\n",
              "      <td>30990.0</td>\n",
              "      <td>2017.0</td>\n",
              "      <td>toyota</td>\n",
              "      <td>tundra double cab sr</td>\n",
              "      <td>3</td>\n",
              "      <td>8</td>\n",
              "      <td>...</td>\n",
              "      <td>0</td>\n",
              "      <td>pickup</td>\n",
              "      <td>red</td>\n",
              "      <td>https://images.craigslist.org/00x0x_1y9kIOzGCF...</td>\n",
              "      <td>Carvana is the safer way to buy a car During t...</td>\n",
              "      <td>0.0</td>\n",
              "      <td>al</td>\n",
              "      <td>32.590000</td>\n",
              "      <td>-85.480000</td>\n",
              "      <td>2021-05-04T10:41:31-0500</td>\n",
              "    </tr>\n",
              "    <tr>\n",
              "      <th>4</th>\n",
              "      <td>7.316356e+09</td>\n",
              "      <td>https://auburn.craigslist.org/cto/d/auburn-uni...</td>\n",
              "      <td>auburn</td>\n",
              "      <td>https://auburn.craigslist.org</td>\n",
              "      <td>15000.0</td>\n",
              "      <td>2013.0</td>\n",
              "      <td>ford</td>\n",
              "      <td>f-150 xlt</td>\n",
              "      <td>6</td>\n",
              "      <td>6</td>\n",
              "      <td>...</td>\n",
              "      <td>full-size</td>\n",
              "      <td>truck</td>\n",
              "      <td>black</td>\n",
              "      <td>https://images.craigslist.org/00404_l4loxHvdQe...</td>\n",
              "      <td>2013 F-150 XLT V6 4 Door. Good condition. Leve...</td>\n",
              "      <td>0.0</td>\n",
              "      <td>al</td>\n",
              "      <td>32.592000</td>\n",
              "      <td>-85.518900</td>\n",
              "      <td>2021-05-03T14:02:03-0500</td>\n",
              "    </tr>\n",
              "    <tr>\n",
              "      <th>...</th>\n",
              "      <td>...</td>\n",
              "      <td>...</td>\n",
              "      <td>...</td>\n",
              "      <td>...</td>\n",
              "      <td>...</td>\n",
              "      <td>...</td>\n",
              "      <td>...</td>\n",
              "      <td>...</td>\n",
              "      <td>...</td>\n",
              "      <td>...</td>\n",
              "      <td>...</td>\n",
              "      <td>...</td>\n",
              "      <td>...</td>\n",
              "      <td>...</td>\n",
              "      <td>...</td>\n",
              "      <td>...</td>\n",
              "      <td>...</td>\n",
              "      <td>...</td>\n",
              "      <td>...</td>\n",
              "      <td>...</td>\n",
              "      <td>...</td>\n",
              "    </tr>\n",
              "    <tr>\n",
              "      <th>1995</th>\n",
              "      <td>7.307831e+09</td>\n",
              "      <td>https://dothan.craigslist.org/ctd/d/troy-2014-...</td>\n",
              "      <td>dothan</td>\n",
              "      <td>https://dothan.craigslist.org</td>\n",
              "      <td>11998.0</td>\n",
              "      <td>2014.0</td>\n",
              "      <td>hyundai</td>\n",
              "      <td>genesis coupe 2.0t</td>\n",
              "      <td>6</td>\n",
              "      <td>0</td>\n",
              "      <td>...</td>\n",
              "      <td>0</td>\n",
              "      <td>0</td>\n",
              "      <td>blue</td>\n",
              "      <td>https://images.craigslist.org/00y0y_cEzsJxPZnY...</td>\n",
              "      <td>2014 Hyundai Genesis Coupe 2.0T - STOCK #: FPA...</td>\n",
              "      <td>0.0</td>\n",
              "      <td>al</td>\n",
              "      <td>31.796941</td>\n",
              "      <td>-85.980049</td>\n",
              "      <td>2021-04-16T13:05:58-0500</td>\n",
              "    </tr>\n",
              "    <tr>\n",
              "      <th>1996</th>\n",
              "      <td>7.307831e+09</td>\n",
              "      <td>https://dothan.craigslist.org/ctd/d/ozark-2006...</td>\n",
              "      <td>dothan</td>\n",
              "      <td>https://dothan.craigslist.org</td>\n",
              "      <td>4999.0</td>\n",
              "      <td>2006.0</td>\n",
              "      <td>nissan</td>\n",
              "      <td>pathfinder</td>\n",
              "      <td>0</td>\n",
              "      <td>6</td>\n",
              "      <td>...</td>\n",
              "      <td>0</td>\n",
              "      <td>0</td>\n",
              "      <td>0</td>\n",
              "      <td>https://images.craigslist.org/00T0T_d1ACDDVGJd...</td>\n",
              "      <td>Nice 2006 Nissan pathfinder. Run's and drives ...</td>\n",
              "      <td>0.0</td>\n",
              "      <td>al</td>\n",
              "      <td>31.439100</td>\n",
              "      <td>-85.643600</td>\n",
              "      <td>2021-04-16T13:05:46-0500</td>\n",
              "    </tr>\n",
              "    <tr>\n",
              "      <th>1997</th>\n",
              "      <td>7.307787e+09</td>\n",
              "      <td>https://dothan.craigslist.org/ctd/d/hartford-2...</td>\n",
              "      <td>dothan</td>\n",
              "      <td>https://dothan.craigslist.org</td>\n",
              "      <td>7250.0</td>\n",
              "      <td>2012.0</td>\n",
              "      <td>chevrolet</td>\n",
              "      <td>sonic</td>\n",
              "      <td>3</td>\n",
              "      <td>4</td>\n",
              "      <td>...</td>\n",
              "      <td>0</td>\n",
              "      <td>0</td>\n",
              "      <td>blue</td>\n",
              "      <td>https://images.craigslist.org/00J0J_hWUBpr57j4...</td>\n",
              "      <td>🤱💐Mothers day is quickly approaching come see ...</td>\n",
              "      <td>0.0</td>\n",
              "      <td>al</td>\n",
              "      <td>31.086000</td>\n",
              "      <td>-85.719200</td>\n",
              "      <td>2021-04-16T12:01:15-0500</td>\n",
              "    </tr>\n",
              "    <tr>\n",
              "      <th>1998</th>\n",
              "      <td>7.307670e+09</td>\n",
              "      <td>https://dothan.craigslist.org/ctd/d/troy-2020-...</td>\n",
              "      <td>dothan</td>\n",
              "      <td>https://dothan.craigslist.org</td>\n",
              "      <td>19998.0</td>\n",
              "      <td>2020.0</td>\n",
              "      <td>ford</td>\n",
              "      <td>escape s</td>\n",
              "      <td>6</td>\n",
              "      <td>0</td>\n",
              "      <td>...</td>\n",
              "      <td>0</td>\n",
              "      <td>0</td>\n",
              "      <td>0</td>\n",
              "      <td>https://images.craigslist.org/00000_lRiXsNSz53...</td>\n",
              "      <td>2020 Ford Escape S - STOCK #: FPD77811A  Avail...</td>\n",
              "      <td>0.0</td>\n",
              "      <td>al</td>\n",
              "      <td>31.796941</td>\n",
              "      <td>-85.980049</td>\n",
              "      <td>2021-04-16T09:05:01-0500</td>\n",
              "    </tr>\n",
              "    <tr>\n",
              "      <th>1999</th>\n",
              "      <td>7.307409e+09</td>\n",
              "      <td>https://dothan.craigslist.org/cto/d/new-brockt...</td>\n",
              "      <td>dothan</td>\n",
              "      <td>https://dothan.craigslist.org</td>\n",
              "      <td>4000.0</td>\n",
              "      <td>2001.0</td>\n",
              "      <td>jeep</td>\n",
              "      <td>grand cherokee</td>\n",
              "      <td>2</td>\n",
              "      <td>6</td>\n",
              "      <td>...</td>\n",
              "      <td>mid-size</td>\n",
              "      <td>SUV</td>\n",
              "      <td>white</td>\n",
              "      <td>https://images.craigslist.org/00y0y_5hSzgUO5r8...</td>\n",
              "      <td>Up for sale is a 2001 Jeep Grand Cherokee runs...</td>\n",
              "      <td>0.0</td>\n",
              "      <td>al</td>\n",
              "      <td>31.369000</td>\n",
              "      <td>-85.940400</td>\n",
              "      <td>2021-04-15T16:03:11-0500</td>\n",
              "    </tr>\n",
              "  </tbody>\n",
              "</table>\n",
              "<p>2000 rows × 26 columns</p>\n",
              "</div>"
            ],
            "text/plain": [
              "                id                                                url  region   \n",
              "0     7.316815e+09  https://auburn.craigslist.org/ctd/d/auburn-uni...  auburn  \\\n",
              "1     7.316815e+09  https://auburn.craigslist.org/ctd/d/auburn-uni...  auburn   \n",
              "2     7.316815e+09  https://auburn.craigslist.org/ctd/d/auburn-uni...  auburn   \n",
              "3     7.316743e+09  https://auburn.craigslist.org/ctd/d/auburn-uni...  auburn   \n",
              "4     7.316356e+09  https://auburn.craigslist.org/cto/d/auburn-uni...  auburn   \n",
              "...            ...                                                ...     ...   \n",
              "1995  7.307831e+09  https://dothan.craigslist.org/ctd/d/troy-2014-...  dothan   \n",
              "1996  7.307831e+09  https://dothan.craigslist.org/ctd/d/ozark-2006...  dothan   \n",
              "1997  7.307787e+09  https://dothan.craigslist.org/ctd/d/hartford-2...  dothan   \n",
              "1998  7.307670e+09  https://dothan.craigslist.org/ctd/d/troy-2020-...  dothan   \n",
              "1999  7.307409e+09  https://dothan.craigslist.org/cto/d/new-brockt...  dothan   \n",
              "\n",
              "                         region_url    price    year manufacturer   \n",
              "0     https://auburn.craigslist.org  33590.0  2014.0          gmc  \\\n",
              "1     https://auburn.craigslist.org  22590.0  2010.0    chevrolet   \n",
              "2     https://auburn.craigslist.org  39590.0  2020.0    chevrolet   \n",
              "3     https://auburn.craigslist.org  30990.0  2017.0       toyota   \n",
              "4     https://auburn.craigslist.org  15000.0  2013.0         ford   \n",
              "...                             ...      ...     ...          ...   \n",
              "1995  https://dothan.craigslist.org  11998.0  2014.0      hyundai   \n",
              "1996  https://dothan.craigslist.org   4999.0  2006.0       nissan   \n",
              "1997  https://dothan.craigslist.org   7250.0  2012.0    chevrolet   \n",
              "1998  https://dothan.craigslist.org  19998.0  2020.0         ford   \n",
              "1999  https://dothan.craigslist.org   4000.0  2001.0         jeep   \n",
              "\n",
              "                         model  condition  cylinders  ...       size    type   \n",
              "0     sierra 1500 crew cab slt          3          8  ...          0  pickup  \\\n",
              "1               silverado 1500          3          8  ...          0  pickup   \n",
              "2          silverado 1500 crew          3          8  ...          0  pickup   \n",
              "3         tundra double cab sr          3          8  ...          0  pickup   \n",
              "4                    f-150 xlt          6          6  ...  full-size   truck   \n",
              "...                        ...        ...        ...  ...        ...     ...   \n",
              "1995        genesis coupe 2.0t          6          0  ...          0       0   \n",
              "1996                pathfinder          0          6  ...          0       0   \n",
              "1997                     sonic          3          4  ...          0       0   \n",
              "1998                  escape s          6          0  ...          0       0   \n",
              "1999            grand cherokee          2          6  ...   mid-size     SUV   \n",
              "\n",
              "      paint_color                                          image_url   \n",
              "0           white  https://images.craigslist.org/00R0R_lwWjXSEWNa...  \\\n",
              "1            blue  https://images.craigslist.org/00R0R_lwWjXSEWNa...   \n",
              "2             red  https://images.craigslist.org/01212_jjirIWa0y0...   \n",
              "3             red  https://images.craigslist.org/00x0x_1y9kIOzGCF...   \n",
              "4           black  https://images.craigslist.org/00404_l4loxHvdQe...   \n",
              "...           ...                                                ...   \n",
              "1995         blue  https://images.craigslist.org/00y0y_cEzsJxPZnY...   \n",
              "1996            0  https://images.craigslist.org/00T0T_d1ACDDVGJd...   \n",
              "1997         blue  https://images.craigslist.org/00J0J_hWUBpr57j4...   \n",
              "1998            0  https://images.craigslist.org/00000_lRiXsNSz53...   \n",
              "1999        white  https://images.craigslist.org/00y0y_5hSzgUO5r8...   \n",
              "\n",
              "                                            description  county state   \n",
              "0     Carvana is the safer way to buy a car During t...     0.0    al  \\\n",
              "1     Carvana is the safer way to buy a car During t...     0.0    al   \n",
              "2     Carvana is the safer way to buy a car During t...     0.0    al   \n",
              "3     Carvana is the safer way to buy a car During t...     0.0    al   \n",
              "4     2013 F-150 XLT V6 4 Door. Good condition. Leve...     0.0    al   \n",
              "...                                                 ...     ...   ...   \n",
              "1995  2014 Hyundai Genesis Coupe 2.0T - STOCK #: FPA...     0.0    al   \n",
              "1996  Nice 2006 Nissan pathfinder. Run's and drives ...     0.0    al   \n",
              "1997  🤱💐Mothers day is quickly approaching come see ...     0.0    al   \n",
              "1998  2020 Ford Escape S - STOCK #: FPD77811A  Avail...     0.0    al   \n",
              "1999  Up for sale is a 2001 Jeep Grand Cherokee runs...     0.0    al   \n",
              "\n",
              "            lat       long              posting_date  \n",
              "0     32.590000 -85.480000  2021-05-04T12:31:18-0500  \n",
              "1     32.590000 -85.480000  2021-05-04T12:31:08-0500  \n",
              "2     32.590000 -85.480000  2021-05-04T12:31:25-0500  \n",
              "3     32.590000 -85.480000  2021-05-04T10:41:31-0500  \n",
              "4     32.592000 -85.518900  2021-05-03T14:02:03-0500  \n",
              "...         ...        ...                       ...  \n",
              "1995  31.796941 -85.980049  2021-04-16T13:05:58-0500  \n",
              "1996  31.439100 -85.643600  2021-04-16T13:05:46-0500  \n",
              "1997  31.086000 -85.719200  2021-04-16T12:01:15-0500  \n",
              "1998  31.796941 -85.980049  2021-04-16T09:05:01-0500  \n",
              "1999  31.369000 -85.940400  2021-04-15T16:03:11-0500  \n",
              "\n",
              "[2000 rows x 26 columns]"
            ]
          },
          "execution_count": 392,
          "metadata": {},
          "output_type": "execute_result"
        }
      ],
      "source": [
        "mydata"
      ]
    },
    {
      "cell_type": "code",
      "execution_count": null,
      "id": "008355a6-de9b-4128-aaeb-a3619cc27b12",
      "metadata": {
        "tags": [],
        "id": "008355a6-de9b-4128-aaeb-a3619cc27b12"
      },
      "outputs": [],
      "source": [
        "def converttype(column):\n",
        "    if column == 'bus':\n",
        "        return 13\n",
        "    elif column == 'convertible':\n",
        "        return 12\n",
        "    elif column == 'coupe':\n",
        "        return 11\n",
        "    elif column == 'hatchback':\n",
        "        return 10\n",
        "    elif column == 'mini-van':\n",
        "        return 9\n",
        "    elif column == 'offroad':\n",
        "        return 8\n",
        "    elif column == 'other':\n",
        "        return 7\n",
        "    elif column == 'pickup':\n",
        "        return 6\n",
        "    elif column == 'sedan':\n",
        "        return 5\n",
        "    elif column == 'SUV':\n",
        "        return 4\n",
        "    elif column == 'truck':\n",
        "        return 3\n",
        "    elif column == 'van':\n",
        "        return 2\n",
        "    elif column == 'wagon':\n",
        "        return 1\n",
        "    else:\n",
        "        return 0"
      ]
    },
    {
      "cell_type": "code",
      "execution_count": null,
      "id": "7b6bbda6-00b0-43f9-ae5d-70bcc9a73817",
      "metadata": {
        "tags": [],
        "id": "7b6bbda6-00b0-43f9-ae5d-70bcc9a73817"
      },
      "outputs": [],
      "source": [
        "mydata['type'] = mydata['type'].apply(converttype)"
      ]
    },
    {
      "cell_type": "code",
      "execution_count": null,
      "id": "b039ca9e-52ec-42c0-839d-0b60deb0fb88",
      "metadata": {
        "tags": [],
        "id": "b039ca9e-52ec-42c0-839d-0b60deb0fb88",
        "outputId": "1d9df656-ae14-4a83-9a67-771326bcba19"
      },
      "outputs": [
        {
          "data": {
            "text/html": [
              "<div>\n",
              "<style scoped>\n",
              "    .dataframe tbody tr th:only-of-type {\n",
              "        vertical-align: middle;\n",
              "    }\n",
              "\n",
              "    .dataframe tbody tr th {\n",
              "        vertical-align: top;\n",
              "    }\n",
              "\n",
              "    .dataframe thead th {\n",
              "        text-align: right;\n",
              "    }\n",
              "</style>\n",
              "<table border=\"1\" class=\"dataframe\">\n",
              "  <thead>\n",
              "    <tr style=\"text-align: right;\">\n",
              "      <th></th>\n",
              "      <th>id</th>\n",
              "      <th>url</th>\n",
              "      <th>region</th>\n",
              "      <th>region_url</th>\n",
              "      <th>price</th>\n",
              "      <th>year</th>\n",
              "      <th>manufacturer</th>\n",
              "      <th>model</th>\n",
              "      <th>condition</th>\n",
              "      <th>cylinders</th>\n",
              "      <th>...</th>\n",
              "      <th>size</th>\n",
              "      <th>type</th>\n",
              "      <th>paint_color</th>\n",
              "      <th>image_url</th>\n",
              "      <th>description</th>\n",
              "      <th>county</th>\n",
              "      <th>state</th>\n",
              "      <th>lat</th>\n",
              "      <th>long</th>\n",
              "      <th>posting_date</th>\n",
              "    </tr>\n",
              "  </thead>\n",
              "  <tbody>\n",
              "    <tr>\n",
              "      <th>0</th>\n",
              "      <td>7.316815e+09</td>\n",
              "      <td>https://auburn.craigslist.org/ctd/d/auburn-uni...</td>\n",
              "      <td>auburn</td>\n",
              "      <td>https://auburn.craigslist.org</td>\n",
              "      <td>33590.0</td>\n",
              "      <td>2014.0</td>\n",
              "      <td>gmc</td>\n",
              "      <td>sierra 1500 crew cab slt</td>\n",
              "      <td>3</td>\n",
              "      <td>8</td>\n",
              "      <td>...</td>\n",
              "      <td>0</td>\n",
              "      <td>6</td>\n",
              "      <td>white</td>\n",
              "      <td>https://images.craigslist.org/00R0R_lwWjXSEWNa...</td>\n",
              "      <td>Carvana is the safer way to buy a car During t...</td>\n",
              "      <td>0.0</td>\n",
              "      <td>al</td>\n",
              "      <td>32.590000</td>\n",
              "      <td>-85.480000</td>\n",
              "      <td>2021-05-04T12:31:18-0500</td>\n",
              "    </tr>\n",
              "    <tr>\n",
              "      <th>1</th>\n",
              "      <td>7.316815e+09</td>\n",
              "      <td>https://auburn.craigslist.org/ctd/d/auburn-uni...</td>\n",
              "      <td>auburn</td>\n",
              "      <td>https://auburn.craigslist.org</td>\n",
              "      <td>22590.0</td>\n",
              "      <td>2010.0</td>\n",
              "      <td>chevrolet</td>\n",
              "      <td>silverado 1500</td>\n",
              "      <td>3</td>\n",
              "      <td>8</td>\n",
              "      <td>...</td>\n",
              "      <td>0</td>\n",
              "      <td>6</td>\n",
              "      <td>blue</td>\n",
              "      <td>https://images.craigslist.org/00R0R_lwWjXSEWNa...</td>\n",
              "      <td>Carvana is the safer way to buy a car During t...</td>\n",
              "      <td>0.0</td>\n",
              "      <td>al</td>\n",
              "      <td>32.590000</td>\n",
              "      <td>-85.480000</td>\n",
              "      <td>2021-05-04T12:31:08-0500</td>\n",
              "    </tr>\n",
              "    <tr>\n",
              "      <th>2</th>\n",
              "      <td>7.316815e+09</td>\n",
              "      <td>https://auburn.craigslist.org/ctd/d/auburn-uni...</td>\n",
              "      <td>auburn</td>\n",
              "      <td>https://auburn.craigslist.org</td>\n",
              "      <td>39590.0</td>\n",
              "      <td>2020.0</td>\n",
              "      <td>chevrolet</td>\n",
              "      <td>silverado 1500 crew</td>\n",
              "      <td>3</td>\n",
              "      <td>8</td>\n",
              "      <td>...</td>\n",
              "      <td>0</td>\n",
              "      <td>6</td>\n",
              "      <td>red</td>\n",
              "      <td>https://images.craigslist.org/01212_jjirIWa0y0...</td>\n",
              "      <td>Carvana is the safer way to buy a car During t...</td>\n",
              "      <td>0.0</td>\n",
              "      <td>al</td>\n",
              "      <td>32.590000</td>\n",
              "      <td>-85.480000</td>\n",
              "      <td>2021-05-04T12:31:25-0500</td>\n",
              "    </tr>\n",
              "    <tr>\n",
              "      <th>3</th>\n",
              "      <td>7.316743e+09</td>\n",
              "      <td>https://auburn.craigslist.org/ctd/d/auburn-uni...</td>\n",
              "      <td>auburn</td>\n",
              "      <td>https://auburn.craigslist.org</td>\n",
              "      <td>30990.0</td>\n",
              "      <td>2017.0</td>\n",
              "      <td>toyota</td>\n",
              "      <td>tundra double cab sr</td>\n",
              "      <td>3</td>\n",
              "      <td>8</td>\n",
              "      <td>...</td>\n",
              "      <td>0</td>\n",
              "      <td>6</td>\n",
              "      <td>red</td>\n",
              "      <td>https://images.craigslist.org/00x0x_1y9kIOzGCF...</td>\n",
              "      <td>Carvana is the safer way to buy a car During t...</td>\n",
              "      <td>0.0</td>\n",
              "      <td>al</td>\n",
              "      <td>32.590000</td>\n",
              "      <td>-85.480000</td>\n",
              "      <td>2021-05-04T10:41:31-0500</td>\n",
              "    </tr>\n",
              "    <tr>\n",
              "      <th>4</th>\n",
              "      <td>7.316356e+09</td>\n",
              "      <td>https://auburn.craigslist.org/cto/d/auburn-uni...</td>\n",
              "      <td>auburn</td>\n",
              "      <td>https://auburn.craigslist.org</td>\n",
              "      <td>15000.0</td>\n",
              "      <td>2013.0</td>\n",
              "      <td>ford</td>\n",
              "      <td>f-150 xlt</td>\n",
              "      <td>6</td>\n",
              "      <td>6</td>\n",
              "      <td>...</td>\n",
              "      <td>full-size</td>\n",
              "      <td>3</td>\n",
              "      <td>black</td>\n",
              "      <td>https://images.craigslist.org/00404_l4loxHvdQe...</td>\n",
              "      <td>2013 F-150 XLT V6 4 Door. Good condition. Leve...</td>\n",
              "      <td>0.0</td>\n",
              "      <td>al</td>\n",
              "      <td>32.592000</td>\n",
              "      <td>-85.518900</td>\n",
              "      <td>2021-05-03T14:02:03-0500</td>\n",
              "    </tr>\n",
              "    <tr>\n",
              "      <th>...</th>\n",
              "      <td>...</td>\n",
              "      <td>...</td>\n",
              "      <td>...</td>\n",
              "      <td>...</td>\n",
              "      <td>...</td>\n",
              "      <td>...</td>\n",
              "      <td>...</td>\n",
              "      <td>...</td>\n",
              "      <td>...</td>\n",
              "      <td>...</td>\n",
              "      <td>...</td>\n",
              "      <td>...</td>\n",
              "      <td>...</td>\n",
              "      <td>...</td>\n",
              "      <td>...</td>\n",
              "      <td>...</td>\n",
              "      <td>...</td>\n",
              "      <td>...</td>\n",
              "      <td>...</td>\n",
              "      <td>...</td>\n",
              "      <td>...</td>\n",
              "    </tr>\n",
              "    <tr>\n",
              "      <th>1995</th>\n",
              "      <td>7.307831e+09</td>\n",
              "      <td>https://dothan.craigslist.org/ctd/d/troy-2014-...</td>\n",
              "      <td>dothan</td>\n",
              "      <td>https://dothan.craigslist.org</td>\n",
              "      <td>11998.0</td>\n",
              "      <td>2014.0</td>\n",
              "      <td>hyundai</td>\n",
              "      <td>genesis coupe 2.0t</td>\n",
              "      <td>6</td>\n",
              "      <td>0</td>\n",
              "      <td>...</td>\n",
              "      <td>0</td>\n",
              "      <td>0</td>\n",
              "      <td>blue</td>\n",
              "      <td>https://images.craigslist.org/00y0y_cEzsJxPZnY...</td>\n",
              "      <td>2014 Hyundai Genesis Coupe 2.0T - STOCK #: FPA...</td>\n",
              "      <td>0.0</td>\n",
              "      <td>al</td>\n",
              "      <td>31.796941</td>\n",
              "      <td>-85.980049</td>\n",
              "      <td>2021-04-16T13:05:58-0500</td>\n",
              "    </tr>\n",
              "    <tr>\n",
              "      <th>1996</th>\n",
              "      <td>7.307831e+09</td>\n",
              "      <td>https://dothan.craigslist.org/ctd/d/ozark-2006...</td>\n",
              "      <td>dothan</td>\n",
              "      <td>https://dothan.craigslist.org</td>\n",
              "      <td>4999.0</td>\n",
              "      <td>2006.0</td>\n",
              "      <td>nissan</td>\n",
              "      <td>pathfinder</td>\n",
              "      <td>0</td>\n",
              "      <td>6</td>\n",
              "      <td>...</td>\n",
              "      <td>0</td>\n",
              "      <td>0</td>\n",
              "      <td>0</td>\n",
              "      <td>https://images.craigslist.org/00T0T_d1ACDDVGJd...</td>\n",
              "      <td>Nice 2006 Nissan pathfinder. Run's and drives ...</td>\n",
              "      <td>0.0</td>\n",
              "      <td>al</td>\n",
              "      <td>31.439100</td>\n",
              "      <td>-85.643600</td>\n",
              "      <td>2021-04-16T13:05:46-0500</td>\n",
              "    </tr>\n",
              "    <tr>\n",
              "      <th>1997</th>\n",
              "      <td>7.307787e+09</td>\n",
              "      <td>https://dothan.craigslist.org/ctd/d/hartford-2...</td>\n",
              "      <td>dothan</td>\n",
              "      <td>https://dothan.craigslist.org</td>\n",
              "      <td>7250.0</td>\n",
              "      <td>2012.0</td>\n",
              "      <td>chevrolet</td>\n",
              "      <td>sonic</td>\n",
              "      <td>3</td>\n",
              "      <td>4</td>\n",
              "      <td>...</td>\n",
              "      <td>0</td>\n",
              "      <td>0</td>\n",
              "      <td>blue</td>\n",
              "      <td>https://images.craigslist.org/00J0J_hWUBpr57j4...</td>\n",
              "      <td>🤱💐Mothers day is quickly approaching come see ...</td>\n",
              "      <td>0.0</td>\n",
              "      <td>al</td>\n",
              "      <td>31.086000</td>\n",
              "      <td>-85.719200</td>\n",
              "      <td>2021-04-16T12:01:15-0500</td>\n",
              "    </tr>\n",
              "    <tr>\n",
              "      <th>1998</th>\n",
              "      <td>7.307670e+09</td>\n",
              "      <td>https://dothan.craigslist.org/ctd/d/troy-2020-...</td>\n",
              "      <td>dothan</td>\n",
              "      <td>https://dothan.craigslist.org</td>\n",
              "      <td>19998.0</td>\n",
              "      <td>2020.0</td>\n",
              "      <td>ford</td>\n",
              "      <td>escape s</td>\n",
              "      <td>6</td>\n",
              "      <td>0</td>\n",
              "      <td>...</td>\n",
              "      <td>0</td>\n",
              "      <td>0</td>\n",
              "      <td>0</td>\n",
              "      <td>https://images.craigslist.org/00000_lRiXsNSz53...</td>\n",
              "      <td>2020 Ford Escape S - STOCK #: FPD77811A  Avail...</td>\n",
              "      <td>0.0</td>\n",
              "      <td>al</td>\n",
              "      <td>31.796941</td>\n",
              "      <td>-85.980049</td>\n",
              "      <td>2021-04-16T09:05:01-0500</td>\n",
              "    </tr>\n",
              "    <tr>\n",
              "      <th>1999</th>\n",
              "      <td>7.307409e+09</td>\n",
              "      <td>https://dothan.craigslist.org/cto/d/new-brockt...</td>\n",
              "      <td>dothan</td>\n",
              "      <td>https://dothan.craigslist.org</td>\n",
              "      <td>4000.0</td>\n",
              "      <td>2001.0</td>\n",
              "      <td>jeep</td>\n",
              "      <td>grand cherokee</td>\n",
              "      <td>2</td>\n",
              "      <td>6</td>\n",
              "      <td>...</td>\n",
              "      <td>mid-size</td>\n",
              "      <td>4</td>\n",
              "      <td>white</td>\n",
              "      <td>https://images.craigslist.org/00y0y_5hSzgUO5r8...</td>\n",
              "      <td>Up for sale is a 2001 Jeep Grand Cherokee runs...</td>\n",
              "      <td>0.0</td>\n",
              "      <td>al</td>\n",
              "      <td>31.369000</td>\n",
              "      <td>-85.940400</td>\n",
              "      <td>2021-04-15T16:03:11-0500</td>\n",
              "    </tr>\n",
              "  </tbody>\n",
              "</table>\n",
              "<p>2000 rows × 26 columns</p>\n",
              "</div>"
            ],
            "text/plain": [
              "                id                                                url  region   \n",
              "0     7.316815e+09  https://auburn.craigslist.org/ctd/d/auburn-uni...  auburn  \\\n",
              "1     7.316815e+09  https://auburn.craigslist.org/ctd/d/auburn-uni...  auburn   \n",
              "2     7.316815e+09  https://auburn.craigslist.org/ctd/d/auburn-uni...  auburn   \n",
              "3     7.316743e+09  https://auburn.craigslist.org/ctd/d/auburn-uni...  auburn   \n",
              "4     7.316356e+09  https://auburn.craigslist.org/cto/d/auburn-uni...  auburn   \n",
              "...            ...                                                ...     ...   \n",
              "1995  7.307831e+09  https://dothan.craigslist.org/ctd/d/troy-2014-...  dothan   \n",
              "1996  7.307831e+09  https://dothan.craigslist.org/ctd/d/ozark-2006...  dothan   \n",
              "1997  7.307787e+09  https://dothan.craigslist.org/ctd/d/hartford-2...  dothan   \n",
              "1998  7.307670e+09  https://dothan.craigslist.org/ctd/d/troy-2020-...  dothan   \n",
              "1999  7.307409e+09  https://dothan.craigslist.org/cto/d/new-brockt...  dothan   \n",
              "\n",
              "                         region_url    price    year manufacturer   \n",
              "0     https://auburn.craigslist.org  33590.0  2014.0          gmc  \\\n",
              "1     https://auburn.craigslist.org  22590.0  2010.0    chevrolet   \n",
              "2     https://auburn.craigslist.org  39590.0  2020.0    chevrolet   \n",
              "3     https://auburn.craigslist.org  30990.0  2017.0       toyota   \n",
              "4     https://auburn.craigslist.org  15000.0  2013.0         ford   \n",
              "...                             ...      ...     ...          ...   \n",
              "1995  https://dothan.craigslist.org  11998.0  2014.0      hyundai   \n",
              "1996  https://dothan.craigslist.org   4999.0  2006.0       nissan   \n",
              "1997  https://dothan.craigslist.org   7250.0  2012.0    chevrolet   \n",
              "1998  https://dothan.craigslist.org  19998.0  2020.0         ford   \n",
              "1999  https://dothan.craigslist.org   4000.0  2001.0         jeep   \n",
              "\n",
              "                         model  condition  cylinders  ...       size  type   \n",
              "0     sierra 1500 crew cab slt          3          8  ...          0     6  \\\n",
              "1               silverado 1500          3          8  ...          0     6   \n",
              "2          silverado 1500 crew          3          8  ...          0     6   \n",
              "3         tundra double cab sr          3          8  ...          0     6   \n",
              "4                    f-150 xlt          6          6  ...  full-size     3   \n",
              "...                        ...        ...        ...  ...        ...   ...   \n",
              "1995        genesis coupe 2.0t          6          0  ...          0     0   \n",
              "1996                pathfinder          0          6  ...          0     0   \n",
              "1997                     sonic          3          4  ...          0     0   \n",
              "1998                  escape s          6          0  ...          0     0   \n",
              "1999            grand cherokee          2          6  ...   mid-size     4   \n",
              "\n",
              "      paint_color                                          image_url   \n",
              "0           white  https://images.craigslist.org/00R0R_lwWjXSEWNa...  \\\n",
              "1            blue  https://images.craigslist.org/00R0R_lwWjXSEWNa...   \n",
              "2             red  https://images.craigslist.org/01212_jjirIWa0y0...   \n",
              "3             red  https://images.craigslist.org/00x0x_1y9kIOzGCF...   \n",
              "4           black  https://images.craigslist.org/00404_l4loxHvdQe...   \n",
              "...           ...                                                ...   \n",
              "1995         blue  https://images.craigslist.org/00y0y_cEzsJxPZnY...   \n",
              "1996            0  https://images.craigslist.org/00T0T_d1ACDDVGJd...   \n",
              "1997         blue  https://images.craigslist.org/00J0J_hWUBpr57j4...   \n",
              "1998            0  https://images.craigslist.org/00000_lRiXsNSz53...   \n",
              "1999        white  https://images.craigslist.org/00y0y_5hSzgUO5r8...   \n",
              "\n",
              "                                            description  county state   \n",
              "0     Carvana is the safer way to buy a car During t...     0.0    al  \\\n",
              "1     Carvana is the safer way to buy a car During t...     0.0    al   \n",
              "2     Carvana is the safer way to buy a car During t...     0.0    al   \n",
              "3     Carvana is the safer way to buy a car During t...     0.0    al   \n",
              "4     2013 F-150 XLT V6 4 Door. Good condition. Leve...     0.0    al   \n",
              "...                                                 ...     ...   ...   \n",
              "1995  2014 Hyundai Genesis Coupe 2.0T - STOCK #: FPA...     0.0    al   \n",
              "1996  Nice 2006 Nissan pathfinder. Run's and drives ...     0.0    al   \n",
              "1997  🤱💐Mothers day is quickly approaching come see ...     0.0    al   \n",
              "1998  2020 Ford Escape S - STOCK #: FPD77811A  Avail...     0.0    al   \n",
              "1999  Up for sale is a 2001 Jeep Grand Cherokee runs...     0.0    al   \n",
              "\n",
              "            lat       long              posting_date  \n",
              "0     32.590000 -85.480000  2021-05-04T12:31:18-0500  \n",
              "1     32.590000 -85.480000  2021-05-04T12:31:08-0500  \n",
              "2     32.590000 -85.480000  2021-05-04T12:31:25-0500  \n",
              "3     32.590000 -85.480000  2021-05-04T10:41:31-0500  \n",
              "4     32.592000 -85.518900  2021-05-03T14:02:03-0500  \n",
              "...         ...        ...                       ...  \n",
              "1995  31.796941 -85.980049  2021-04-16T13:05:58-0500  \n",
              "1996  31.439100 -85.643600  2021-04-16T13:05:46-0500  \n",
              "1997  31.086000 -85.719200  2021-04-16T12:01:15-0500  \n",
              "1998  31.796941 -85.980049  2021-04-16T09:05:01-0500  \n",
              "1999  31.369000 -85.940400  2021-04-15T16:03:11-0500  \n",
              "\n",
              "[2000 rows x 26 columns]"
            ]
          },
          "execution_count": 395,
          "metadata": {},
          "output_type": "execute_result"
        }
      ],
      "source": [
        "mydata"
      ]
    },
    {
      "cell_type": "code",
      "execution_count": null,
      "id": "ed23c5c1-e04f-4fd6-854c-4af31e3c451c",
      "metadata": {
        "tags": [],
        "id": "ed23c5c1-e04f-4fd6-854c-4af31e3c451c"
      },
      "outputs": [],
      "source": [
        "mydata1 = mydata.drop([\"long\",\"posting_date\",\"lat\",\"description\",\"image_url\",\"size\",\"VIN\",\"region_url\",\"id\",\"url\",\"region\",\"paint_color\",\"manufacturer\",\"county\",\"model\",\"state\",\"price\"], axis = 1)"
      ]
    },
    {
      "cell_type": "code",
      "execution_count": null,
      "id": "e8432788-4bc7-4078-9718-2bdaf0b75f04",
      "metadata": {
        "tags": [],
        "id": "e8432788-4bc7-4078-9718-2bdaf0b75f04",
        "outputId": "f6b62ca9-a11e-44ab-d369-f1b83673034a"
      },
      "outputs": [
        {
          "data": {
            "text/html": [
              "<div>\n",
              "<style scoped>\n",
              "    .dataframe tbody tr th:only-of-type {\n",
              "        vertical-align: middle;\n",
              "    }\n",
              "\n",
              "    .dataframe tbody tr th {\n",
              "        vertical-align: top;\n",
              "    }\n",
              "\n",
              "    .dataframe thead th {\n",
              "        text-align: right;\n",
              "    }\n",
              "</style>\n",
              "<table border=\"1\" class=\"dataframe\">\n",
              "  <thead>\n",
              "    <tr style=\"text-align: right;\">\n",
              "      <th></th>\n",
              "      <th>year</th>\n",
              "      <th>condition</th>\n",
              "      <th>cylinders</th>\n",
              "      <th>fuel</th>\n",
              "      <th>odometer</th>\n",
              "      <th>title_status</th>\n",
              "      <th>transmission</th>\n",
              "      <th>drive</th>\n",
              "      <th>type</th>\n",
              "    </tr>\n",
              "  </thead>\n",
              "  <tbody>\n",
              "    <tr>\n",
              "      <th>year</th>\n",
              "      <td>1.000000</td>\n",
              "      <td>0.110008</td>\n",
              "      <td>-0.051730</td>\n",
              "      <td>-0.010858</td>\n",
              "      <td>0.016307</td>\n",
              "      <td>0.074405</td>\n",
              "      <td>-0.047763</td>\n",
              "      <td>-0.009618</td>\n",
              "      <td>-0.047253</td>\n",
              "    </tr>\n",
              "    <tr>\n",
              "      <th>condition</th>\n",
              "      <td>0.110008</td>\n",
              "      <td>1.000000</td>\n",
              "      <td>0.319384</td>\n",
              "      <td>0.074594</td>\n",
              "      <td>0.077972</td>\n",
              "      <td>0.240813</td>\n",
              "      <td>-0.140340</td>\n",
              "      <td>0.117342</td>\n",
              "      <td>0.275493</td>\n",
              "    </tr>\n",
              "    <tr>\n",
              "      <th>cylinders</th>\n",
              "      <td>-0.051730</td>\n",
              "      <td>0.319384</td>\n",
              "      <td>1.000000</td>\n",
              "      <td>0.156307</td>\n",
              "      <td>0.128267</td>\n",
              "      <td>-0.082019</td>\n",
              "      <td>0.080826</td>\n",
              "      <td>0.330972</td>\n",
              "      <td>0.223648</td>\n",
              "    </tr>\n",
              "    <tr>\n",
              "      <th>fuel</th>\n",
              "      <td>-0.010858</td>\n",
              "      <td>0.074594</td>\n",
              "      <td>0.156307</td>\n",
              "      <td>1.000000</td>\n",
              "      <td>0.113842</td>\n",
              "      <td>0.127481</td>\n",
              "      <td>0.281568</td>\n",
              "      <td>0.086189</td>\n",
              "      <td>-0.253280</td>\n",
              "    </tr>\n",
              "    <tr>\n",
              "      <th>odometer</th>\n",
              "      <td>0.016307</td>\n",
              "      <td>0.077972</td>\n",
              "      <td>0.128267</td>\n",
              "      <td>0.113842</td>\n",
              "      <td>1.000000</td>\n",
              "      <td>0.016714</td>\n",
              "      <td>0.090743</td>\n",
              "      <td>0.119214</td>\n",
              "      <td>-0.038357</td>\n",
              "    </tr>\n",
              "    <tr>\n",
              "      <th>title_status</th>\n",
              "      <td>0.074405</td>\n",
              "      <td>0.240813</td>\n",
              "      <td>-0.082019</td>\n",
              "      <td>0.127481</td>\n",
              "      <td>0.016714</td>\n",
              "      <td>1.000000</td>\n",
              "      <td>-0.051049</td>\n",
              "      <td>-0.049411</td>\n",
              "      <td>-0.058469</td>\n",
              "    </tr>\n",
              "    <tr>\n",
              "      <th>transmission</th>\n",
              "      <td>-0.047763</td>\n",
              "      <td>-0.140340</td>\n",
              "      <td>0.080826</td>\n",
              "      <td>0.281568</td>\n",
              "      <td>0.090743</td>\n",
              "      <td>-0.051049</td>\n",
              "      <td>1.000000</td>\n",
              "      <td>0.065325</td>\n",
              "      <td>-0.433948</td>\n",
              "    </tr>\n",
              "    <tr>\n",
              "      <th>drive</th>\n",
              "      <td>-0.009618</td>\n",
              "      <td>0.117342</td>\n",
              "      <td>0.330972</td>\n",
              "      <td>0.086189</td>\n",
              "      <td>0.119214</td>\n",
              "      <td>-0.049411</td>\n",
              "      <td>0.065325</td>\n",
              "      <td>1.000000</td>\n",
              "      <td>0.044182</td>\n",
              "    </tr>\n",
              "    <tr>\n",
              "      <th>type</th>\n",
              "      <td>-0.047253</td>\n",
              "      <td>0.275493</td>\n",
              "      <td>0.223648</td>\n",
              "      <td>-0.253280</td>\n",
              "      <td>-0.038357</td>\n",
              "      <td>-0.058469</td>\n",
              "      <td>-0.433948</td>\n",
              "      <td>0.044182</td>\n",
              "      <td>1.000000</td>\n",
              "    </tr>\n",
              "  </tbody>\n",
              "</table>\n",
              "</div>"
            ],
            "text/plain": [
              "                  year  condition  cylinders      fuel  odometer   \n",
              "year          1.000000   0.110008  -0.051730 -0.010858  0.016307  \\\n",
              "condition     0.110008   1.000000   0.319384  0.074594  0.077972   \n",
              "cylinders    -0.051730   0.319384   1.000000  0.156307  0.128267   \n",
              "fuel         -0.010858   0.074594   0.156307  1.000000  0.113842   \n",
              "odometer      0.016307   0.077972   0.128267  0.113842  1.000000   \n",
              "title_status  0.074405   0.240813  -0.082019  0.127481  0.016714   \n",
              "transmission -0.047763  -0.140340   0.080826  0.281568  0.090743   \n",
              "drive        -0.009618   0.117342   0.330972  0.086189  0.119214   \n",
              "type         -0.047253   0.275493   0.223648 -0.253280 -0.038357   \n",
              "\n",
              "              title_status  transmission     drive      type  \n",
              "year              0.074405     -0.047763 -0.009618 -0.047253  \n",
              "condition         0.240813     -0.140340  0.117342  0.275493  \n",
              "cylinders        -0.082019      0.080826  0.330972  0.223648  \n",
              "fuel              0.127481      0.281568  0.086189 -0.253280  \n",
              "odometer          0.016714      0.090743  0.119214 -0.038357  \n",
              "title_status      1.000000     -0.051049 -0.049411 -0.058469  \n",
              "transmission     -0.051049      1.000000  0.065325 -0.433948  \n",
              "drive            -0.049411      0.065325  1.000000  0.044182  \n",
              "type             -0.058469     -0.433948  0.044182  1.000000  "
            ]
          },
          "execution_count": 432,
          "metadata": {},
          "output_type": "execute_result"
        }
      ],
      "source": [
        "corrs = mydata1.corr()\n",
        "corrs"
      ]
    },
    {
      "cell_type": "code",
      "execution_count": null,
      "id": "c12063ee-e29f-4156-828c-449e9c6cb854",
      "metadata": {
        "tags": [],
        "id": "c12063ee-e29f-4156-828c-449e9c6cb854",
        "outputId": "f868322d-a575-4c80-d0ab-c0efbbdf56eb"
      },
      "outputs": [
        {
          "data": {
            "application/vnd.plotly.v1+json": {
              "config": {
                "plotlyServerURL": "https://plot.ly"
              },
              "data": [
                {
                  "colorscale": [
                    [
                      0,
                      "#0d0887"
                    ],
                    [
                      0.1111111111111111,
                      "#46039f"
                    ],
                    [
                      0.2222222222222222,
                      "#7201a8"
                    ],
                    [
                      0.3333333333333333,
                      "#9c179e"
                    ],
                    [
                      0.4444444444444444,
                      "#bd3786"
                    ],
                    [
                      0.5555555555555556,
                      "#d8576b"
                    ],
                    [
                      0.6666666666666666,
                      "#ed7953"
                    ],
                    [
                      0.7777777777777778,
                      "#fb9f3a"
                    ],
                    [
                      0.8888888888888888,
                      "#fdca26"
                    ],
                    [
                      1,
                      "#f0f921"
                    ]
                  ],
                  "reversescale": false,
                  "showscale": true,
                  "type": "heatmap",
                  "x": [
                    "year",
                    "condition",
                    "cylinders",
                    "fuel",
                    "odometer",
                    "title_status",
                    "transmission",
                    "drive",
                    "type"
                  ],
                  "y": [
                    "year",
                    "condition",
                    "cylinders",
                    "fuel",
                    "odometer",
                    "title_status",
                    "transmission",
                    "drive",
                    "type"
                  ],
                  "z": [
                    [
                      1,
                      0.11000788313962533,
                      -0.05172977677598049,
                      -0.010858322562008598,
                      0.01630674863237507,
                      0.07440451800416878,
                      -0.04776287054580213,
                      -0.009617914217700061,
                      -0.04725284796173822
                    ],
                    [
                      0.11000788313962533,
                      1,
                      0.3193835259692561,
                      0.07459351505473757,
                      0.07797175600978173,
                      0.24081322466964172,
                      -0.14034023074565144,
                      0.11734220012886613,
                      0.27549251954849624
                    ],
                    [
                      -0.05172977677598049,
                      0.3193835259692561,
                      1,
                      0.15630656353946304,
                      0.12826708517813915,
                      -0.08201914974539919,
                      0.08082620073859821,
                      0.330971789309317,
                      0.2236483181027857
                    ],
                    [
                      -0.010858322562008598,
                      0.07459351505473757,
                      0.15630656353946304,
                      1,
                      0.11384218993085711,
                      0.1274811289065457,
                      0.281567991261937,
                      0.08618880342048146,
                      -0.25327988839986726
                    ],
                    [
                      0.01630674863237507,
                      0.07797175600978173,
                      0.12826708517813915,
                      0.11384218993085711,
                      1,
                      0.016714083047590127,
                      0.09074305595131493,
                      0.11921443708080111,
                      -0.038356753831499044
                    ],
                    [
                      0.07440451800416878,
                      0.24081322466964172,
                      -0.08201914974539919,
                      0.1274811289065457,
                      0.016714083047590127,
                      1,
                      -0.05104908068563312,
                      -0.04941081554012826,
                      -0.05846851864420187
                    ],
                    [
                      -0.04776287054580213,
                      -0.14034023074565144,
                      0.08082620073859821,
                      0.281567991261937,
                      0.09074305595131493,
                      -0.05104908068563312,
                      1,
                      0.06532530858789358,
                      -0.4339480202257178
                    ],
                    [
                      -0.009617914217700061,
                      0.11734220012886613,
                      0.330971789309317,
                      0.08618880342048146,
                      0.11921443708080111,
                      -0.04941081554012826,
                      0.06532530858789358,
                      1,
                      0.04418204880889444
                    ],
                    [
                      -0.04725284796173822,
                      0.27549251954849624,
                      0.2236483181027857,
                      -0.25327988839986726,
                      -0.038356753831499044,
                      -0.05846851864420187,
                      -0.4339480202257178,
                      0.04418204880889444,
                      1
                    ]
                  ]
                }
              ],
              "layout": {
                "annotations": [
                  {
                    "font": {
                      "color": "#000000"
                    },
                    "showarrow": false,
                    "text": "1.0",
                    "x": "year",
                    "xref": "x",
                    "y": "year",
                    "yref": "y"
                  },
                  {
                    "font": {
                      "color": "#FFFFFF"
                    },
                    "showarrow": false,
                    "text": "0.11",
                    "x": "condition",
                    "xref": "x",
                    "y": "year",
                    "yref": "y"
                  },
                  {
                    "font": {
                      "color": "#FFFFFF"
                    },
                    "showarrow": false,
                    "text": "-0.05",
                    "x": "cylinders",
                    "xref": "x",
                    "y": "year",
                    "yref": "y"
                  },
                  {
                    "font": {
                      "color": "#FFFFFF"
                    },
                    "showarrow": false,
                    "text": "-0.01",
                    "x": "fuel",
                    "xref": "x",
                    "y": "year",
                    "yref": "y"
                  },
                  {
                    "font": {
                      "color": "#FFFFFF"
                    },
                    "showarrow": false,
                    "text": "0.02",
                    "x": "odometer",
                    "xref": "x",
                    "y": "year",
                    "yref": "y"
                  },
                  {
                    "font": {
                      "color": "#FFFFFF"
                    },
                    "showarrow": false,
                    "text": "0.07",
                    "x": "title_status",
                    "xref": "x",
                    "y": "year",
                    "yref": "y"
                  },
                  {
                    "font": {
                      "color": "#FFFFFF"
                    },
                    "showarrow": false,
                    "text": "-0.05",
                    "x": "transmission",
                    "xref": "x",
                    "y": "year",
                    "yref": "y"
                  },
                  {
                    "font": {
                      "color": "#FFFFFF"
                    },
                    "showarrow": false,
                    "text": "-0.01",
                    "x": "drive",
                    "xref": "x",
                    "y": "year",
                    "yref": "y"
                  },
                  {
                    "font": {
                      "color": "#FFFFFF"
                    },
                    "showarrow": false,
                    "text": "-0.05",
                    "x": "type",
                    "xref": "x",
                    "y": "year",
                    "yref": "y"
                  },
                  {
                    "font": {
                      "color": "#FFFFFF"
                    },
                    "showarrow": false,
                    "text": "0.11",
                    "x": "year",
                    "xref": "x",
                    "y": "condition",
                    "yref": "y"
                  },
                  {
                    "font": {
                      "color": "#000000"
                    },
                    "showarrow": false,
                    "text": "1.0",
                    "x": "condition",
                    "xref": "x",
                    "y": "condition",
                    "yref": "y"
                  },
                  {
                    "font": {
                      "color": "#000000"
                    },
                    "showarrow": false,
                    "text": "0.32",
                    "x": "cylinders",
                    "xref": "x",
                    "y": "condition",
                    "yref": "y"
                  },
                  {
                    "font": {
                      "color": "#FFFFFF"
                    },
                    "showarrow": false,
                    "text": "0.07",
                    "x": "fuel",
                    "xref": "x",
                    "y": "condition",
                    "yref": "y"
                  },
                  {
                    "font": {
                      "color": "#FFFFFF"
                    },
                    "showarrow": false,
                    "text": "0.08",
                    "x": "odometer",
                    "xref": "x",
                    "y": "condition",
                    "yref": "y"
                  },
                  {
                    "font": {
                      "color": "#FFFFFF"
                    },
                    "showarrow": false,
                    "text": "0.24",
                    "x": "title_status",
                    "xref": "x",
                    "y": "condition",
                    "yref": "y"
                  },
                  {
                    "font": {
                      "color": "#FFFFFF"
                    },
                    "showarrow": false,
                    "text": "-0.14",
                    "x": "transmission",
                    "xref": "x",
                    "y": "condition",
                    "yref": "y"
                  },
                  {
                    "font": {
                      "color": "#FFFFFF"
                    },
                    "showarrow": false,
                    "text": "0.12",
                    "x": "drive",
                    "xref": "x",
                    "y": "condition",
                    "yref": "y"
                  },
                  {
                    "font": {
                      "color": "#FFFFFF"
                    },
                    "showarrow": false,
                    "text": "0.28",
                    "x": "type",
                    "xref": "x",
                    "y": "condition",
                    "yref": "y"
                  },
                  {
                    "font": {
                      "color": "#FFFFFF"
                    },
                    "showarrow": false,
                    "text": "-0.05",
                    "x": "year",
                    "xref": "x",
                    "y": "cylinders",
                    "yref": "y"
                  },
                  {
                    "font": {
                      "color": "#000000"
                    },
                    "showarrow": false,
                    "text": "0.32",
                    "x": "condition",
                    "xref": "x",
                    "y": "cylinders",
                    "yref": "y"
                  },
                  {
                    "font": {
                      "color": "#000000"
                    },
                    "showarrow": false,
                    "text": "1.0",
                    "x": "cylinders",
                    "xref": "x",
                    "y": "cylinders",
                    "yref": "y"
                  },
                  {
                    "font": {
                      "color": "#FFFFFF"
                    },
                    "showarrow": false,
                    "text": "0.16",
                    "x": "fuel",
                    "xref": "x",
                    "y": "cylinders",
                    "yref": "y"
                  },
                  {
                    "font": {
                      "color": "#FFFFFF"
                    },
                    "showarrow": false,
                    "text": "0.13",
                    "x": "odometer",
                    "xref": "x",
                    "y": "cylinders",
                    "yref": "y"
                  },
                  {
                    "font": {
                      "color": "#FFFFFF"
                    },
                    "showarrow": false,
                    "text": "-0.08",
                    "x": "title_status",
                    "xref": "x",
                    "y": "cylinders",
                    "yref": "y"
                  },
                  {
                    "font": {
                      "color": "#FFFFFF"
                    },
                    "showarrow": false,
                    "text": "0.08",
                    "x": "transmission",
                    "xref": "x",
                    "y": "cylinders",
                    "yref": "y"
                  },
                  {
                    "font": {
                      "color": "#000000"
                    },
                    "showarrow": false,
                    "text": "0.33",
                    "x": "drive",
                    "xref": "x",
                    "y": "cylinders",
                    "yref": "y"
                  },
                  {
                    "font": {
                      "color": "#FFFFFF"
                    },
                    "showarrow": false,
                    "text": "0.22",
                    "x": "type",
                    "xref": "x",
                    "y": "cylinders",
                    "yref": "y"
                  },
                  {
                    "font": {
                      "color": "#FFFFFF"
                    },
                    "showarrow": false,
                    "text": "-0.01",
                    "x": "year",
                    "xref": "x",
                    "y": "fuel",
                    "yref": "y"
                  },
                  {
                    "font": {
                      "color": "#FFFFFF"
                    },
                    "showarrow": false,
                    "text": "0.07",
                    "x": "condition",
                    "xref": "x",
                    "y": "fuel",
                    "yref": "y"
                  },
                  {
                    "font": {
                      "color": "#FFFFFF"
                    },
                    "showarrow": false,
                    "text": "0.16",
                    "x": "cylinders",
                    "xref": "x",
                    "y": "fuel",
                    "yref": "y"
                  },
                  {
                    "font": {
                      "color": "#000000"
                    },
                    "showarrow": false,
                    "text": "1.0",
                    "x": "fuel",
                    "xref": "x",
                    "y": "fuel",
                    "yref": "y"
                  },
                  {
                    "font": {
                      "color": "#FFFFFF"
                    },
                    "showarrow": false,
                    "text": "0.11",
                    "x": "odometer",
                    "xref": "x",
                    "y": "fuel",
                    "yref": "y"
                  },
                  {
                    "font": {
                      "color": "#FFFFFF"
                    },
                    "showarrow": false,
                    "text": "0.13",
                    "x": "title_status",
                    "xref": "x",
                    "y": "fuel",
                    "yref": "y"
                  },
                  {
                    "font": {
                      "color": "#FFFFFF"
                    },
                    "showarrow": false,
                    "text": "0.28",
                    "x": "transmission",
                    "xref": "x",
                    "y": "fuel",
                    "yref": "y"
                  },
                  {
                    "font": {
                      "color": "#FFFFFF"
                    },
                    "showarrow": false,
                    "text": "0.09",
                    "x": "drive",
                    "xref": "x",
                    "y": "fuel",
                    "yref": "y"
                  },
                  {
                    "font": {
                      "color": "#FFFFFF"
                    },
                    "showarrow": false,
                    "text": "-0.25",
                    "x": "type",
                    "xref": "x",
                    "y": "fuel",
                    "yref": "y"
                  },
                  {
                    "font": {
                      "color": "#FFFFFF"
                    },
                    "showarrow": false,
                    "text": "0.02",
                    "x": "year",
                    "xref": "x",
                    "y": "odometer",
                    "yref": "y"
                  },
                  {
                    "font": {
                      "color": "#FFFFFF"
                    },
                    "showarrow": false,
                    "text": "0.08",
                    "x": "condition",
                    "xref": "x",
                    "y": "odometer",
                    "yref": "y"
                  },
                  {
                    "font": {
                      "color": "#FFFFFF"
                    },
                    "showarrow": false,
                    "text": "0.13",
                    "x": "cylinders",
                    "xref": "x",
                    "y": "odometer",
                    "yref": "y"
                  },
                  {
                    "font": {
                      "color": "#FFFFFF"
                    },
                    "showarrow": false,
                    "text": "0.11",
                    "x": "fuel",
                    "xref": "x",
                    "y": "odometer",
                    "yref": "y"
                  },
                  {
                    "font": {
                      "color": "#000000"
                    },
                    "showarrow": false,
                    "text": "1.0",
                    "x": "odometer",
                    "xref": "x",
                    "y": "odometer",
                    "yref": "y"
                  },
                  {
                    "font": {
                      "color": "#FFFFFF"
                    },
                    "showarrow": false,
                    "text": "0.02",
                    "x": "title_status",
                    "xref": "x",
                    "y": "odometer",
                    "yref": "y"
                  },
                  {
                    "font": {
                      "color": "#FFFFFF"
                    },
                    "showarrow": false,
                    "text": "0.09",
                    "x": "transmission",
                    "xref": "x",
                    "y": "odometer",
                    "yref": "y"
                  },
                  {
                    "font": {
                      "color": "#FFFFFF"
                    },
                    "showarrow": false,
                    "text": "0.12",
                    "x": "drive",
                    "xref": "x",
                    "y": "odometer",
                    "yref": "y"
                  },
                  {
                    "font": {
                      "color": "#FFFFFF"
                    },
                    "showarrow": false,
                    "text": "-0.04",
                    "x": "type",
                    "xref": "x",
                    "y": "odometer",
                    "yref": "y"
                  },
                  {
                    "font": {
                      "color": "#FFFFFF"
                    },
                    "showarrow": false,
                    "text": "0.07",
                    "x": "year",
                    "xref": "x",
                    "y": "title_status",
                    "yref": "y"
                  },
                  {
                    "font": {
                      "color": "#FFFFFF"
                    },
                    "showarrow": false,
                    "text": "0.24",
                    "x": "condition",
                    "xref": "x",
                    "y": "title_status",
                    "yref": "y"
                  },
                  {
                    "font": {
                      "color": "#FFFFFF"
                    },
                    "showarrow": false,
                    "text": "-0.08",
                    "x": "cylinders",
                    "xref": "x",
                    "y": "title_status",
                    "yref": "y"
                  },
                  {
                    "font": {
                      "color": "#FFFFFF"
                    },
                    "showarrow": false,
                    "text": "0.13",
                    "x": "fuel",
                    "xref": "x",
                    "y": "title_status",
                    "yref": "y"
                  },
                  {
                    "font": {
                      "color": "#FFFFFF"
                    },
                    "showarrow": false,
                    "text": "0.02",
                    "x": "odometer",
                    "xref": "x",
                    "y": "title_status",
                    "yref": "y"
                  },
                  {
                    "font": {
                      "color": "#000000"
                    },
                    "showarrow": false,
                    "text": "1.0",
                    "x": "title_status",
                    "xref": "x",
                    "y": "title_status",
                    "yref": "y"
                  },
                  {
                    "font": {
                      "color": "#FFFFFF"
                    },
                    "showarrow": false,
                    "text": "-0.05",
                    "x": "transmission",
                    "xref": "x",
                    "y": "title_status",
                    "yref": "y"
                  },
                  {
                    "font": {
                      "color": "#FFFFFF"
                    },
                    "showarrow": false,
                    "text": "-0.05",
                    "x": "drive",
                    "xref": "x",
                    "y": "title_status",
                    "yref": "y"
                  },
                  {
                    "font": {
                      "color": "#FFFFFF"
                    },
                    "showarrow": false,
                    "text": "-0.06",
                    "x": "type",
                    "xref": "x",
                    "y": "title_status",
                    "yref": "y"
                  },
                  {
                    "font": {
                      "color": "#FFFFFF"
                    },
                    "showarrow": false,
                    "text": "-0.05",
                    "x": "year",
                    "xref": "x",
                    "y": "transmission",
                    "yref": "y"
                  },
                  {
                    "font": {
                      "color": "#FFFFFF"
                    },
                    "showarrow": false,
                    "text": "-0.14",
                    "x": "condition",
                    "xref": "x",
                    "y": "transmission",
                    "yref": "y"
                  },
                  {
                    "font": {
                      "color": "#FFFFFF"
                    },
                    "showarrow": false,
                    "text": "0.08",
                    "x": "cylinders",
                    "xref": "x",
                    "y": "transmission",
                    "yref": "y"
                  },
                  {
                    "font": {
                      "color": "#FFFFFF"
                    },
                    "showarrow": false,
                    "text": "0.28",
                    "x": "fuel",
                    "xref": "x",
                    "y": "transmission",
                    "yref": "y"
                  },
                  {
                    "font": {
                      "color": "#FFFFFF"
                    },
                    "showarrow": false,
                    "text": "0.09",
                    "x": "odometer",
                    "xref": "x",
                    "y": "transmission",
                    "yref": "y"
                  },
                  {
                    "font": {
                      "color": "#FFFFFF"
                    },
                    "showarrow": false,
                    "text": "-0.05",
                    "x": "title_status",
                    "xref": "x",
                    "y": "transmission",
                    "yref": "y"
                  },
                  {
                    "font": {
                      "color": "#000000"
                    },
                    "showarrow": false,
                    "text": "1.0",
                    "x": "transmission",
                    "xref": "x",
                    "y": "transmission",
                    "yref": "y"
                  },
                  {
                    "font": {
                      "color": "#FFFFFF"
                    },
                    "showarrow": false,
                    "text": "0.07",
                    "x": "drive",
                    "xref": "x",
                    "y": "transmission",
                    "yref": "y"
                  },
                  {
                    "font": {
                      "color": "#FFFFFF"
                    },
                    "showarrow": false,
                    "text": "-0.43",
                    "x": "type",
                    "xref": "x",
                    "y": "transmission",
                    "yref": "y"
                  },
                  {
                    "font": {
                      "color": "#FFFFFF"
                    },
                    "showarrow": false,
                    "text": "-0.01",
                    "x": "year",
                    "xref": "x",
                    "y": "drive",
                    "yref": "y"
                  },
                  {
                    "font": {
                      "color": "#FFFFFF"
                    },
                    "showarrow": false,
                    "text": "0.12",
                    "x": "condition",
                    "xref": "x",
                    "y": "drive",
                    "yref": "y"
                  },
                  {
                    "font": {
                      "color": "#000000"
                    },
                    "showarrow": false,
                    "text": "0.33",
                    "x": "cylinders",
                    "xref": "x",
                    "y": "drive",
                    "yref": "y"
                  },
                  {
                    "font": {
                      "color": "#FFFFFF"
                    },
                    "showarrow": false,
                    "text": "0.09",
                    "x": "fuel",
                    "xref": "x",
                    "y": "drive",
                    "yref": "y"
                  },
                  {
                    "font": {
                      "color": "#FFFFFF"
                    },
                    "showarrow": false,
                    "text": "0.12",
                    "x": "odometer",
                    "xref": "x",
                    "y": "drive",
                    "yref": "y"
                  },
                  {
                    "font": {
                      "color": "#FFFFFF"
                    },
                    "showarrow": false,
                    "text": "-0.05",
                    "x": "title_status",
                    "xref": "x",
                    "y": "drive",
                    "yref": "y"
                  },
                  {
                    "font": {
                      "color": "#FFFFFF"
                    },
                    "showarrow": false,
                    "text": "0.07",
                    "x": "transmission",
                    "xref": "x",
                    "y": "drive",
                    "yref": "y"
                  },
                  {
                    "font": {
                      "color": "#000000"
                    },
                    "showarrow": false,
                    "text": "1.0",
                    "x": "drive",
                    "xref": "x",
                    "y": "drive",
                    "yref": "y"
                  },
                  {
                    "font": {
                      "color": "#FFFFFF"
                    },
                    "showarrow": false,
                    "text": "0.04",
                    "x": "type",
                    "xref": "x",
                    "y": "drive",
                    "yref": "y"
                  },
                  {
                    "font": {
                      "color": "#FFFFFF"
                    },
                    "showarrow": false,
                    "text": "-0.05",
                    "x": "year",
                    "xref": "x",
                    "y": "type",
                    "yref": "y"
                  },
                  {
                    "font": {
                      "color": "#FFFFFF"
                    },
                    "showarrow": false,
                    "text": "0.28",
                    "x": "condition",
                    "xref": "x",
                    "y": "type",
                    "yref": "y"
                  },
                  {
                    "font": {
                      "color": "#FFFFFF"
                    },
                    "showarrow": false,
                    "text": "0.22",
                    "x": "cylinders",
                    "xref": "x",
                    "y": "type",
                    "yref": "y"
                  },
                  {
                    "font": {
                      "color": "#FFFFFF"
                    },
                    "showarrow": false,
                    "text": "-0.25",
                    "x": "fuel",
                    "xref": "x",
                    "y": "type",
                    "yref": "y"
                  },
                  {
                    "font": {
                      "color": "#FFFFFF"
                    },
                    "showarrow": false,
                    "text": "-0.04",
                    "x": "odometer",
                    "xref": "x",
                    "y": "type",
                    "yref": "y"
                  },
                  {
                    "font": {
                      "color": "#FFFFFF"
                    },
                    "showarrow": false,
                    "text": "-0.06",
                    "x": "title_status",
                    "xref": "x",
                    "y": "type",
                    "yref": "y"
                  },
                  {
                    "font": {
                      "color": "#FFFFFF"
                    },
                    "showarrow": false,
                    "text": "-0.43",
                    "x": "transmission",
                    "xref": "x",
                    "y": "type",
                    "yref": "y"
                  },
                  {
                    "font": {
                      "color": "#FFFFFF"
                    },
                    "showarrow": false,
                    "text": "0.04",
                    "x": "drive",
                    "xref": "x",
                    "y": "type",
                    "yref": "y"
                  },
                  {
                    "font": {
                      "color": "#000000"
                    },
                    "showarrow": false,
                    "text": "1.0",
                    "x": "type",
                    "xref": "x",
                    "y": "type",
                    "yref": "y"
                  }
                ],
                "autosize": true,
                "template": {
                  "data": {
                    "bar": [
                      {
                        "error_x": {
                          "color": "#2a3f5f"
                        },
                        "error_y": {
                          "color": "#2a3f5f"
                        },
                        "marker": {
                          "line": {
                            "color": "#E5ECF6",
                            "width": 0.5
                          },
                          "pattern": {
                            "fillmode": "overlay",
                            "size": 10,
                            "solidity": 0.2
                          }
                        },
                        "type": "bar"
                      }
                    ],
                    "barpolar": [
                      {
                        "marker": {
                          "line": {
                            "color": "#E5ECF6",
                            "width": 0.5
                          },
                          "pattern": {
                            "fillmode": "overlay",
                            "size": 10,
                            "solidity": 0.2
                          }
                        },
                        "type": "barpolar"
                      }
                    ],
                    "carpet": [
                      {
                        "aaxis": {
                          "endlinecolor": "#2a3f5f",
                          "gridcolor": "white",
                          "linecolor": "white",
                          "minorgridcolor": "white",
                          "startlinecolor": "#2a3f5f"
                        },
                        "baxis": {
                          "endlinecolor": "#2a3f5f",
                          "gridcolor": "white",
                          "linecolor": "white",
                          "minorgridcolor": "white",
                          "startlinecolor": "#2a3f5f"
                        },
                        "type": "carpet"
                      }
                    ],
                    "choropleth": [
                      {
                        "colorbar": {
                          "outlinewidth": 0,
                          "ticks": ""
                        },
                        "type": "choropleth"
                      }
                    ],
                    "contour": [
                      {
                        "colorbar": {
                          "outlinewidth": 0,
                          "ticks": ""
                        },
                        "colorscale": [
                          [
                            0,
                            "#0d0887"
                          ],
                          [
                            0.1111111111111111,
                            "#46039f"
                          ],
                          [
                            0.2222222222222222,
                            "#7201a8"
                          ],
                          [
                            0.3333333333333333,
                            "#9c179e"
                          ],
                          [
                            0.4444444444444444,
                            "#bd3786"
                          ],
                          [
                            0.5555555555555556,
                            "#d8576b"
                          ],
                          [
                            0.6666666666666666,
                            "#ed7953"
                          ],
                          [
                            0.7777777777777778,
                            "#fb9f3a"
                          ],
                          [
                            0.8888888888888888,
                            "#fdca26"
                          ],
                          [
                            1,
                            "#f0f921"
                          ]
                        ],
                        "type": "contour"
                      }
                    ],
                    "contourcarpet": [
                      {
                        "colorbar": {
                          "outlinewidth": 0,
                          "ticks": ""
                        },
                        "type": "contourcarpet"
                      }
                    ],
                    "heatmap": [
                      {
                        "colorbar": {
                          "outlinewidth": 0,
                          "ticks": ""
                        },
                        "colorscale": [
                          [
                            0,
                            "#0d0887"
                          ],
                          [
                            0.1111111111111111,
                            "#46039f"
                          ],
                          [
                            0.2222222222222222,
                            "#7201a8"
                          ],
                          [
                            0.3333333333333333,
                            "#9c179e"
                          ],
                          [
                            0.4444444444444444,
                            "#bd3786"
                          ],
                          [
                            0.5555555555555556,
                            "#d8576b"
                          ],
                          [
                            0.6666666666666666,
                            "#ed7953"
                          ],
                          [
                            0.7777777777777778,
                            "#fb9f3a"
                          ],
                          [
                            0.8888888888888888,
                            "#fdca26"
                          ],
                          [
                            1,
                            "#f0f921"
                          ]
                        ],
                        "type": "heatmap"
                      }
                    ],
                    "heatmapgl": [
                      {
                        "colorbar": {
                          "outlinewidth": 0,
                          "ticks": ""
                        },
                        "colorscale": [
                          [
                            0,
                            "#0d0887"
                          ],
                          [
                            0.1111111111111111,
                            "#46039f"
                          ],
                          [
                            0.2222222222222222,
                            "#7201a8"
                          ],
                          [
                            0.3333333333333333,
                            "#9c179e"
                          ],
                          [
                            0.4444444444444444,
                            "#bd3786"
                          ],
                          [
                            0.5555555555555556,
                            "#d8576b"
                          ],
                          [
                            0.6666666666666666,
                            "#ed7953"
                          ],
                          [
                            0.7777777777777778,
                            "#fb9f3a"
                          ],
                          [
                            0.8888888888888888,
                            "#fdca26"
                          ],
                          [
                            1,
                            "#f0f921"
                          ]
                        ],
                        "type": "heatmapgl"
                      }
                    ],
                    "histogram": [
                      {
                        "marker": {
                          "pattern": {
                            "fillmode": "overlay",
                            "size": 10,
                            "solidity": 0.2
                          }
                        },
                        "type": "histogram"
                      }
                    ],
                    "histogram2d": [
                      {
                        "colorbar": {
                          "outlinewidth": 0,
                          "ticks": ""
                        },
                        "colorscale": [
                          [
                            0,
                            "#0d0887"
                          ],
                          [
                            0.1111111111111111,
                            "#46039f"
                          ],
                          [
                            0.2222222222222222,
                            "#7201a8"
                          ],
                          [
                            0.3333333333333333,
                            "#9c179e"
                          ],
                          [
                            0.4444444444444444,
                            "#bd3786"
                          ],
                          [
                            0.5555555555555556,
                            "#d8576b"
                          ],
                          [
                            0.6666666666666666,
                            "#ed7953"
                          ],
                          [
                            0.7777777777777778,
                            "#fb9f3a"
                          ],
                          [
                            0.8888888888888888,
                            "#fdca26"
                          ],
                          [
                            1,
                            "#f0f921"
                          ]
                        ],
                        "type": "histogram2d"
                      }
                    ],
                    "histogram2dcontour": [
                      {
                        "colorbar": {
                          "outlinewidth": 0,
                          "ticks": ""
                        },
                        "colorscale": [
                          [
                            0,
                            "#0d0887"
                          ],
                          [
                            0.1111111111111111,
                            "#46039f"
                          ],
                          [
                            0.2222222222222222,
                            "#7201a8"
                          ],
                          [
                            0.3333333333333333,
                            "#9c179e"
                          ],
                          [
                            0.4444444444444444,
                            "#bd3786"
                          ],
                          [
                            0.5555555555555556,
                            "#d8576b"
                          ],
                          [
                            0.6666666666666666,
                            "#ed7953"
                          ],
                          [
                            0.7777777777777778,
                            "#fb9f3a"
                          ],
                          [
                            0.8888888888888888,
                            "#fdca26"
                          ],
                          [
                            1,
                            "#f0f921"
                          ]
                        ],
                        "type": "histogram2dcontour"
                      }
                    ],
                    "mesh3d": [
                      {
                        "colorbar": {
                          "outlinewidth": 0,
                          "ticks": ""
                        },
                        "type": "mesh3d"
                      }
                    ],
                    "parcoords": [
                      {
                        "line": {
                          "colorbar": {
                            "outlinewidth": 0,
                            "ticks": ""
                          }
                        },
                        "type": "parcoords"
                      }
                    ],
                    "pie": [
                      {
                        "automargin": true,
                        "type": "pie"
                      }
                    ],
                    "scatter": [
                      {
                        "fillpattern": {
                          "fillmode": "overlay",
                          "size": 10,
                          "solidity": 0.2
                        },
                        "type": "scatter"
                      }
                    ],
                    "scatter3d": [
                      {
                        "line": {
                          "colorbar": {
                            "outlinewidth": 0,
                            "ticks": ""
                          }
                        },
                        "marker": {
                          "colorbar": {
                            "outlinewidth": 0,
                            "ticks": ""
                          }
                        },
                        "type": "scatter3d"
                      }
                    ],
                    "scattercarpet": [
                      {
                        "marker": {
                          "colorbar": {
                            "outlinewidth": 0,
                            "ticks": ""
                          }
                        },
                        "type": "scattercarpet"
                      }
                    ],
                    "scattergeo": [
                      {
                        "marker": {
                          "colorbar": {
                            "outlinewidth": 0,
                            "ticks": ""
                          }
                        },
                        "type": "scattergeo"
                      }
                    ],
                    "scattergl": [
                      {
                        "marker": {
                          "colorbar": {
                            "outlinewidth": 0,
                            "ticks": ""
                          }
                        },
                        "type": "scattergl"
                      }
                    ],
                    "scattermapbox": [
                      {
                        "marker": {
                          "colorbar": {
                            "outlinewidth": 0,
                            "ticks": ""
                          }
                        },
                        "type": "scattermapbox"
                      }
                    ],
                    "scatterpolar": [
                      {
                        "marker": {
                          "colorbar": {
                            "outlinewidth": 0,
                            "ticks": ""
                          }
                        },
                        "type": "scatterpolar"
                      }
                    ],
                    "scatterpolargl": [
                      {
                        "marker": {
                          "colorbar": {
                            "outlinewidth": 0,
                            "ticks": ""
                          }
                        },
                        "type": "scatterpolargl"
                      }
                    ],
                    "scatterternary": [
                      {
                        "marker": {
                          "colorbar": {
                            "outlinewidth": 0,
                            "ticks": ""
                          }
                        },
                        "type": "scatterternary"
                      }
                    ],
                    "surface": [
                      {
                        "colorbar": {
                          "outlinewidth": 0,
                          "ticks": ""
                        },
                        "colorscale": [
                          [
                            0,
                            "#0d0887"
                          ],
                          [
                            0.1111111111111111,
                            "#46039f"
                          ],
                          [
                            0.2222222222222222,
                            "#7201a8"
                          ],
                          [
                            0.3333333333333333,
                            "#9c179e"
                          ],
                          [
                            0.4444444444444444,
                            "#bd3786"
                          ],
                          [
                            0.5555555555555556,
                            "#d8576b"
                          ],
                          [
                            0.6666666666666666,
                            "#ed7953"
                          ],
                          [
                            0.7777777777777778,
                            "#fb9f3a"
                          ],
                          [
                            0.8888888888888888,
                            "#fdca26"
                          ],
                          [
                            1,
                            "#f0f921"
                          ]
                        ],
                        "type": "surface"
                      }
                    ],
                    "table": [
                      {
                        "cells": {
                          "fill": {
                            "color": "#EBF0F8"
                          },
                          "line": {
                            "color": "white"
                          }
                        },
                        "header": {
                          "fill": {
                            "color": "#C8D4E3"
                          },
                          "line": {
                            "color": "white"
                          }
                        },
                        "type": "table"
                      }
                    ]
                  },
                  "layout": {
                    "annotationdefaults": {
                      "arrowcolor": "#2a3f5f",
                      "arrowhead": 0,
                      "arrowwidth": 1
                    },
                    "autotypenumbers": "strict",
                    "coloraxis": {
                      "colorbar": {
                        "outlinewidth": 0,
                        "ticks": ""
                      }
                    },
                    "colorscale": {
                      "diverging": [
                        [
                          0,
                          "#8e0152"
                        ],
                        [
                          0.1,
                          "#c51b7d"
                        ],
                        [
                          0.2,
                          "#de77ae"
                        ],
                        [
                          0.3,
                          "#f1b6da"
                        ],
                        [
                          0.4,
                          "#fde0ef"
                        ],
                        [
                          0.5,
                          "#f7f7f7"
                        ],
                        [
                          0.6,
                          "#e6f5d0"
                        ],
                        [
                          0.7,
                          "#b8e186"
                        ],
                        [
                          0.8,
                          "#7fbc41"
                        ],
                        [
                          0.9,
                          "#4d9221"
                        ],
                        [
                          1,
                          "#276419"
                        ]
                      ],
                      "sequential": [
                        [
                          0,
                          "#0d0887"
                        ],
                        [
                          0.1111111111111111,
                          "#46039f"
                        ],
                        [
                          0.2222222222222222,
                          "#7201a8"
                        ],
                        [
                          0.3333333333333333,
                          "#9c179e"
                        ],
                        [
                          0.4444444444444444,
                          "#bd3786"
                        ],
                        [
                          0.5555555555555556,
                          "#d8576b"
                        ],
                        [
                          0.6666666666666666,
                          "#ed7953"
                        ],
                        [
                          0.7777777777777778,
                          "#fb9f3a"
                        ],
                        [
                          0.8888888888888888,
                          "#fdca26"
                        ],
                        [
                          1,
                          "#f0f921"
                        ]
                      ],
                      "sequentialminus": [
                        [
                          0,
                          "#0d0887"
                        ],
                        [
                          0.1111111111111111,
                          "#46039f"
                        ],
                        [
                          0.2222222222222222,
                          "#7201a8"
                        ],
                        [
                          0.3333333333333333,
                          "#9c179e"
                        ],
                        [
                          0.4444444444444444,
                          "#bd3786"
                        ],
                        [
                          0.5555555555555556,
                          "#d8576b"
                        ],
                        [
                          0.6666666666666666,
                          "#ed7953"
                        ],
                        [
                          0.7777777777777778,
                          "#fb9f3a"
                        ],
                        [
                          0.8888888888888888,
                          "#fdca26"
                        ],
                        [
                          1,
                          "#f0f921"
                        ]
                      ]
                    },
                    "colorway": [
                      "#636efa",
                      "#EF553B",
                      "#00cc96",
                      "#ab63fa",
                      "#FFA15A",
                      "#19d3f3",
                      "#FF6692",
                      "#B6E880",
                      "#FF97FF",
                      "#FECB52"
                    ],
                    "font": {
                      "color": "#2a3f5f"
                    },
                    "geo": {
                      "bgcolor": "white",
                      "lakecolor": "white",
                      "landcolor": "#E5ECF6",
                      "showlakes": true,
                      "showland": true,
                      "subunitcolor": "white"
                    },
                    "hoverlabel": {
                      "align": "left"
                    },
                    "hovermode": "closest",
                    "mapbox": {
                      "style": "light"
                    },
                    "paper_bgcolor": "white",
                    "plot_bgcolor": "#E5ECF6",
                    "polar": {
                      "angularaxis": {
                        "gridcolor": "white",
                        "linecolor": "white",
                        "ticks": ""
                      },
                      "bgcolor": "#E5ECF6",
                      "radialaxis": {
                        "gridcolor": "white",
                        "linecolor": "white",
                        "ticks": ""
                      }
                    },
                    "scene": {
                      "xaxis": {
                        "backgroundcolor": "#E5ECF6",
                        "gridcolor": "white",
                        "gridwidth": 2,
                        "linecolor": "white",
                        "showbackground": true,
                        "ticks": "",
                        "zerolinecolor": "white"
                      },
                      "yaxis": {
                        "backgroundcolor": "#E5ECF6",
                        "gridcolor": "white",
                        "gridwidth": 2,
                        "linecolor": "white",
                        "showbackground": true,
                        "ticks": "",
                        "zerolinecolor": "white"
                      },
                      "zaxis": {
                        "backgroundcolor": "#E5ECF6",
                        "gridcolor": "white",
                        "gridwidth": 2,
                        "linecolor": "white",
                        "showbackground": true,
                        "ticks": "",
                        "zerolinecolor": "white"
                      }
                    },
                    "shapedefaults": {
                      "line": {
                        "color": "#2a3f5f"
                      }
                    },
                    "ternary": {
                      "aaxis": {
                        "gridcolor": "white",
                        "linecolor": "white",
                        "ticks": ""
                      },
                      "baxis": {
                        "gridcolor": "white",
                        "linecolor": "white",
                        "ticks": ""
                      },
                      "bgcolor": "#E5ECF6",
                      "caxis": {
                        "gridcolor": "white",
                        "linecolor": "white",
                        "ticks": ""
                      }
                    },
                    "title": {
                      "x": 0.05
                    },
                    "xaxis": {
                      "automargin": true,
                      "gridcolor": "white",
                      "linecolor": "white",
                      "ticks": "",
                      "title": {
                        "standoff": 15
                      },
                      "zerolinecolor": "white",
                      "zerolinewidth": 2
                    },
                    "yaxis": {
                      "automargin": true,
                      "gridcolor": "white",
                      "linecolor": "white",
                      "ticks": "",
                      "title": {
                        "standoff": 15
                      },
                      "zerolinecolor": "white",
                      "zerolinewidth": 2
                    }
                  }
                },
                "xaxis": {
                  "autorange": true,
                  "dtick": 1,
                  "gridcolor": "rgb(0, 0, 0)",
                  "range": [
                    -0.5,
                    8.5
                  ],
                  "side": "top",
                  "ticks": "",
                  "type": "category"
                },
                "yaxis": {
                  "autorange": true,
                  "dtick": 1,
                  "range": [
                    -0.5,
                    8.5
                  ],
                  "ticks": "",
                  "ticksuffix": "  ",
                  "type": "category"
                }
              }
            },
            "image/png": "[encoded data removed]",
            "text/html": [
              "<div>                            <div id=\"2e58a18d-b181-4234-8e3b-75f925c814b2\" class=\"plotly-graph-div\" style=\"height:525px; width:100%;\"></div>            <script type=\"text/javascript\">                require([\"plotly\"], function(Plotly) {                    window.PLOTLYENV=window.PLOTLYENV || {};                                    if (document.getElementById(\"2e58a18d-b181-4234-8e3b-75f925c814b2\")) {                    Plotly.newPlot(                        \"2e58a18d-b181-4234-8e3b-75f925c814b2\",                        [{\"colorscale\":[[0.0,\"#0d0887\"],[0.1111111111111111,\"#46039f\"],[0.2222222222222222,\"#7201a8\"],[0.3333333333333333,\"#9c179e\"],[0.4444444444444444,\"#bd3786\"],[0.5555555555555556,\"#d8576b\"],[0.6666666666666666,\"#ed7953\"],[0.7777777777777778,\"#fb9f3a\"],[0.8888888888888888,\"#fdca26\"],[1.0,\"#f0f921\"]],\"reversescale\":false,\"showscale\":true,\"x\":[\"year\",\"condition\",\"cylinders\",\"fuel\",\"odometer\",\"title_status\",\"transmission\",\"drive\",\"type\"],\"y\":[\"year\",\"condition\",\"cylinders\",\"fuel\",\"odometer\",\"title_status\",\"transmission\",\"drive\",\"type\"],\"z\":[[1.0,0.11000788313962533,-0.05172977677598049,-0.010858322562008598,0.01630674863237507,0.07440451800416878,-0.04776287054580213,-0.009617914217700061,-0.04725284796173822],[0.11000788313962533,1.0,0.3193835259692561,0.07459351505473757,0.07797175600978173,0.24081322466964172,-0.14034023074565144,0.11734220012886613,0.27549251954849624],[-0.05172977677598049,0.3193835259692561,1.0,0.15630656353946304,0.12826708517813915,-0.08201914974539919,0.08082620073859821,0.330971789309317,0.2236483181027857],[-0.010858322562008598,0.07459351505473757,0.15630656353946304,1.0,0.11384218993085711,0.1274811289065457,0.281567991261937,0.08618880342048146,-0.25327988839986726],[0.01630674863237507,0.07797175600978173,0.12826708517813915,0.11384218993085711,1.0,0.016714083047590127,0.09074305595131493,0.11921443708080111,-0.038356753831499044],[0.07440451800416878,0.24081322466964172,-0.08201914974539919,0.1274811289065457,0.016714083047590127,1.0,-0.05104908068563312,-0.04941081554012826,-0.05846851864420187],[-0.04776287054580213,-0.14034023074565144,0.08082620073859821,0.281567991261937,0.09074305595131493,-0.05104908068563312,1.0,0.06532530858789358,-0.4339480202257178],[-0.009617914217700061,0.11734220012886613,0.330971789309317,0.08618880342048146,0.11921443708080111,-0.04941081554012826,0.06532530858789358,1.0,0.04418204880889444],[-0.04725284796173822,0.27549251954849624,0.2236483181027857,-0.25327988839986726,-0.038356753831499044,-0.05846851864420187,-0.4339480202257178,0.04418204880889444,1.0]],\"type\":\"heatmap\"}],                        {\"annotations\":[{\"font\":{\"color\":\"#000000\"},\"showarrow\":false,\"text\":\"1.0\",\"x\":\"year\",\"xref\":\"x\",\"y\":\"year\",\"yref\":\"y\"},{\"font\":{\"color\":\"#FFFFFF\"},\"showarrow\":false,\"text\":\"0.11\",\"x\":\"condition\",\"xref\":\"x\",\"y\":\"year\",\"yref\":\"y\"},{\"font\":{\"color\":\"#FFFFFF\"},\"showarrow\":false,\"text\":\"-0.05\",\"x\":\"cylinders\",\"xref\":\"x\",\"y\":\"year\",\"yref\":\"y\"},{\"font\":{\"color\":\"#FFFFFF\"},\"showarrow\":false,\"text\":\"-0.01\",\"x\":\"fuel\",\"xref\":\"x\",\"y\":\"year\",\"yref\":\"y\"},{\"font\":{\"color\":\"#FFFFFF\"},\"showarrow\":false,\"text\":\"0.02\",\"x\":\"odometer\",\"xref\":\"x\",\"y\":\"year\",\"yref\":\"y\"},{\"font\":{\"color\":\"#FFFFFF\"},\"showarrow\":false,\"text\":\"0.07\",\"x\":\"title_status\",\"xref\":\"x\",\"y\":\"year\",\"yref\":\"y\"},{\"font\":{\"color\":\"#FFFFFF\"},\"showarrow\":false,\"text\":\"-0.05\",\"x\":\"transmission\",\"xref\":\"x\",\"y\":\"year\",\"yref\":\"y\"},{\"font\":{\"color\":\"#FFFFFF\"},\"showarrow\":false,\"text\":\"-0.01\",\"x\":\"drive\",\"xref\":\"x\",\"y\":\"year\",\"yref\":\"y\"},{\"font\":{\"color\":\"#FFFFFF\"},\"showarrow\":false,\"text\":\"-0.05\",\"x\":\"type\",\"xref\":\"x\",\"y\":\"year\",\"yref\":\"y\"},{\"font\":{\"color\":\"#FFFFFF\"},\"showarrow\":false,\"text\":\"0.11\",\"x\":\"year\",\"xref\":\"x\",\"y\":\"condition\",\"yref\":\"y\"},{\"font\":{\"color\":\"#000000\"},\"showarrow\":false,\"text\":\"1.0\",\"x\":\"condition\",\"xref\":\"x\",\"y\":\"condition\",\"yref\":\"y\"},{\"font\":{\"color\":\"#000000\"},\"showarrow\":false,\"text\":\"0.32\",\"x\":\"cylinders\",\"xref\":\"x\",\"y\":\"condition\",\"yref\":\"y\"},{\"font\":{\"color\":\"#FFFFFF\"},\"showarrow\":false,\"text\":\"0.07\",\"x\":\"fuel\",\"xref\":\"x\",\"y\":\"condition\",\"yref\":\"y\"},{\"font\":{\"color\":\"#FFFFFF\"},\"showarrow\":false,\"text\":\"0.08\",\"x\":\"odometer\",\"xref\":\"x\",\"y\":\"condition\",\"yref\":\"y\"},{\"font\":{\"color\":\"#FFFFFF\"},\"showarrow\":false,\"text\":\"0.24\",\"x\":\"title_status\",\"xref\":\"x\",\"y\":\"condition\",\"yref\":\"y\"},{\"font\":{\"color\":\"#FFFFFF\"},\"showarrow\":false,\"text\":\"-0.14\",\"x\":\"transmission\",\"xref\":\"x\",\"y\":\"condition\",\"yref\":\"y\"},{\"font\":{\"color\":\"#FFFFFF\"},\"showarrow\":false,\"text\":\"0.12\",\"x\":\"drive\",\"xref\":\"x\",\"y\":\"condition\",\"yref\":\"y\"},{\"font\":{\"color\":\"#FFFFFF\"},\"showarrow\":false,\"text\":\"0.28\",\"x\":\"type\",\"xref\":\"x\",\"y\":\"condition\",\"yref\":\"y\"},{\"font\":{\"color\":\"#FFFFFF\"},\"showarrow\":false,\"text\":\"-0.05\",\"x\":\"year\",\"xref\":\"x\",\"y\":\"cylinders\",\"yref\":\"y\"},{\"font\":{\"color\":\"#000000\"},\"showarrow\":false,\"text\":\"0.32\",\"x\":\"condition\",\"xref\":\"x\",\"y\":\"cylinders\",\"yref\":\"y\"},{\"font\":{\"color\":\"#000000\"},\"showarrow\":false,\"text\":\"1.0\",\"x\":\"cylinders\",\"xref\":\"x\",\"y\":\"cylinders\",\"yref\":\"y\"},{\"font\":{\"color\":\"#FFFFFF\"},\"showarrow\":false,\"text\":\"0.16\",\"x\":\"fuel\",\"xref\":\"x\",\"y\":\"cylinders\",\"yref\":\"y\"},{\"font\":{\"color\":\"#FFFFFF\"},\"showarrow\":false,\"text\":\"0.13\",\"x\":\"odometer\",\"xref\":\"x\",\"y\":\"cylinders\",\"yref\":\"y\"},{\"font\":{\"color\":\"#FFFFFF\"},\"showarrow\":false,\"text\":\"-0.08\",\"x\":\"title_status\",\"xref\":\"x\",\"y\":\"cylinders\",\"yref\":\"y\"},{\"font\":{\"color\":\"#FFFFFF\"},\"showarrow\":false,\"text\":\"0.08\",\"x\":\"transmission\",\"xref\":\"x\",\"y\":\"cylinders\",\"yref\":\"y\"},{\"font\":{\"color\":\"#000000\"},\"showarrow\":false,\"text\":\"0.33\",\"x\":\"drive\",\"xref\":\"x\",\"y\":\"cylinders\",\"yref\":\"y\"},{\"font\":{\"color\":\"#FFFFFF\"},\"showarrow\":false,\"text\":\"0.22\",\"x\":\"type\",\"xref\":\"x\",\"y\":\"cylinders\",\"yref\":\"y\"},{\"font\":{\"color\":\"#FFFFFF\"},\"showarrow\":false,\"text\":\"-0.01\",\"x\":\"year\",\"xref\":\"x\",\"y\":\"fuel\",\"yref\":\"y\"},{\"font\":{\"color\":\"#FFFFFF\"},\"showarrow\":false,\"text\":\"0.07\",\"x\":\"condition\",\"xref\":\"x\",\"y\":\"fuel\",\"yref\":\"y\"},{\"font\":{\"color\":\"#FFFFFF\"},\"showarrow\":false,\"text\":\"0.16\",\"x\":\"cylinders\",\"xref\":\"x\",\"y\":\"fuel\",\"yref\":\"y\"},{\"font\":{\"color\":\"#000000\"},\"showarrow\":false,\"text\":\"1.0\",\"x\":\"fuel\",\"xref\":\"x\",\"y\":\"fuel\",\"yref\":\"y\"},{\"font\":{\"color\":\"#FFFFFF\"},\"showarrow\":false,\"text\":\"0.11\",\"x\":\"odometer\",\"xref\":\"x\",\"y\":\"fuel\",\"yref\":\"y\"},{\"font\":{\"color\":\"#FFFFFF\"},\"showarrow\":false,\"text\":\"0.13\",\"x\":\"title_status\",\"xref\":\"x\",\"y\":\"fuel\",\"yref\":\"y\"},{\"font\":{\"color\":\"#FFFFFF\"},\"showarrow\":false,\"text\":\"0.28\",\"x\":\"transmission\",\"xref\":\"x\",\"y\":\"fuel\",\"yref\":\"y\"},{\"font\":{\"color\":\"#FFFFFF\"},\"showarrow\":false,\"text\":\"0.09\",\"x\":\"drive\",\"xref\":\"x\",\"y\":\"fuel\",\"yref\":\"y\"},{\"font\":{\"color\":\"#FFFFFF\"},\"showarrow\":false,\"text\":\"-0.25\",\"x\":\"type\",\"xref\":\"x\",\"y\":\"fuel\",\"yref\":\"y\"},{\"font\":{\"color\":\"#FFFFFF\"},\"showarrow\":false,\"text\":\"0.02\",\"x\":\"year\",\"xref\":\"x\",\"y\":\"odometer\",\"yref\":\"y\"},{\"font\":{\"color\":\"#FFFFFF\"},\"showarrow\":false,\"text\":\"0.08\",\"x\":\"condition\",\"xref\":\"x\",\"y\":\"odometer\",\"yref\":\"y\"},{\"font\":{\"color\":\"#FFFFFF\"},\"showarrow\":false,\"text\":\"0.13\",\"x\":\"cylinders\",\"xref\":\"x\",\"y\":\"odometer\",\"yref\":\"y\"},{\"font\":{\"color\":\"#FFFFFF\"},\"showarrow\":false,\"text\":\"0.11\",\"x\":\"fuel\",\"xref\":\"x\",\"y\":\"odometer\",\"yref\":\"y\"},{\"font\":{\"color\":\"#000000\"},\"showarrow\":false,\"text\":\"1.0\",\"x\":\"odometer\",\"xref\":\"x\",\"y\":\"odometer\",\"yref\":\"y\"},{\"font\":{\"color\":\"#FFFFFF\"},\"showarrow\":false,\"text\":\"0.02\",\"x\":\"title_status\",\"xref\":\"x\",\"y\":\"odometer\",\"yref\":\"y\"},{\"font\":{\"color\":\"#FFFFFF\"},\"showarrow\":false,\"text\":\"0.09\",\"x\":\"transmission\",\"xref\":\"x\",\"y\":\"odometer\",\"yref\":\"y\"},{\"font\":{\"color\":\"#FFFFFF\"},\"showarrow\":false,\"text\":\"0.12\",\"x\":\"drive\",\"xref\":\"x\",\"y\":\"odometer\",\"yref\":\"y\"},{\"font\":{\"color\":\"#FFFFFF\"},\"showarrow\":false,\"text\":\"-0.04\",\"x\":\"type\",\"xref\":\"x\",\"y\":\"odometer\",\"yref\":\"y\"},{\"font\":{\"color\":\"#FFFFFF\"},\"showarrow\":false,\"text\":\"0.07\",\"x\":\"year\",\"xref\":\"x\",\"y\":\"title_status\",\"yref\":\"y\"},{\"font\":{\"color\":\"#FFFFFF\"},\"showarrow\":false,\"text\":\"0.24\",\"x\":\"condition\",\"xref\":\"x\",\"y\":\"title_status\",\"yref\":\"y\"},{\"font\":{\"color\":\"#FFFFFF\"},\"showarrow\":false,\"text\":\"-0.08\",\"x\":\"cylinders\",\"xref\":\"x\",\"y\":\"title_status\",\"yref\":\"y\"},{\"font\":{\"color\":\"#FFFFFF\"},\"showarrow\":false,\"text\":\"0.13\",\"x\":\"fuel\",\"xref\":\"x\",\"y\":\"title_status\",\"yref\":\"y\"},{\"font\":{\"color\":\"#FFFFFF\"},\"showarrow\":false,\"text\":\"0.02\",\"x\":\"odometer\",\"xref\":\"x\",\"y\":\"title_status\",\"yref\":\"y\"},{\"font\":{\"color\":\"#000000\"},\"showarrow\":false,\"text\":\"1.0\",\"x\":\"title_status\",\"xref\":\"x\",\"y\":\"title_status\",\"yref\":\"y\"},{\"font\":{\"color\":\"#FFFFFF\"},\"showarrow\":false,\"text\":\"-0.05\",\"x\":\"transmission\",\"xref\":\"x\",\"y\":\"title_status\",\"yref\":\"y\"},{\"font\":{\"color\":\"#FFFFFF\"},\"showarrow\":false,\"text\":\"-0.05\",\"x\":\"drive\",\"xref\":\"x\",\"y\":\"title_status\",\"yref\":\"y\"},{\"font\":{\"color\":\"#FFFFFF\"},\"showarrow\":false,\"text\":\"-0.06\",\"x\":\"type\",\"xref\":\"x\",\"y\":\"title_status\",\"yref\":\"y\"},{\"font\":{\"color\":\"#FFFFFF\"},\"showarrow\":false,\"text\":\"-0.05\",\"x\":\"year\",\"xref\":\"x\",\"y\":\"transmission\",\"yref\":\"y\"},{\"font\":{\"color\":\"#FFFFFF\"},\"showarrow\":false,\"text\":\"-0.14\",\"x\":\"condition\",\"xref\":\"x\",\"y\":\"transmission\",\"yref\":\"y\"},{\"font\":{\"color\":\"#FFFFFF\"},\"showarrow\":false,\"text\":\"0.08\",\"x\":\"cylinders\",\"xref\":\"x\",\"y\":\"transmission\",\"yref\":\"y\"},{\"font\":{\"color\":\"#FFFFFF\"},\"showarrow\":false,\"text\":\"0.28\",\"x\":\"fuel\",\"xref\":\"x\",\"y\":\"transmission\",\"yref\":\"y\"},{\"font\":{\"color\":\"#FFFFFF\"},\"showarrow\":false,\"text\":\"0.09\",\"x\":\"odometer\",\"xref\":\"x\",\"y\":\"transmission\",\"yref\":\"y\"},{\"font\":{\"color\":\"#FFFFFF\"},\"showarrow\":false,\"text\":\"-0.05\",\"x\":\"title_status\",\"xref\":\"x\",\"y\":\"transmission\",\"yref\":\"y\"},{\"font\":{\"color\":\"#000000\"},\"showarrow\":false,\"text\":\"1.0\",\"x\":\"transmission\",\"xref\":\"x\",\"y\":\"transmission\",\"yref\":\"y\"},{\"font\":{\"color\":\"#FFFFFF\"},\"showarrow\":false,\"text\":\"0.07\",\"x\":\"drive\",\"xref\":\"x\",\"y\":\"transmission\",\"yref\":\"y\"},{\"font\":{\"color\":\"#FFFFFF\"},\"showarrow\":false,\"text\":\"-0.43\",\"x\":\"type\",\"xref\":\"x\",\"y\":\"transmission\",\"yref\":\"y\"},{\"font\":{\"color\":\"#FFFFFF\"},\"showarrow\":false,\"text\":\"-0.01\",\"x\":\"year\",\"xref\":\"x\",\"y\":\"drive\",\"yref\":\"y\"},{\"font\":{\"color\":\"#FFFFFF\"},\"showarrow\":false,\"text\":\"0.12\",\"x\":\"condition\",\"xref\":\"x\",\"y\":\"drive\",\"yref\":\"y\"},{\"font\":{\"color\":\"#000000\"},\"showarrow\":false,\"text\":\"0.33\",\"x\":\"cylinders\",\"xref\":\"x\",\"y\":\"drive\",\"yref\":\"y\"},{\"font\":{\"color\":\"#FFFFFF\"},\"showarrow\":false,\"text\":\"0.09\",\"x\":\"fuel\",\"xref\":\"x\",\"y\":\"drive\",\"yref\":\"y\"},{\"font\":{\"color\":\"#FFFFFF\"},\"showarrow\":false,\"text\":\"0.12\",\"x\":\"odometer\",\"xref\":\"x\",\"y\":\"drive\",\"yref\":\"y\"},{\"font\":{\"color\":\"#FFFFFF\"},\"showarrow\":false,\"text\":\"-0.05\",\"x\":\"title_status\",\"xref\":\"x\",\"y\":\"drive\",\"yref\":\"y\"},{\"font\":{\"color\":\"#FFFFFF\"},\"showarrow\":false,\"text\":\"0.07\",\"x\":\"transmission\",\"xref\":\"x\",\"y\":\"drive\",\"yref\":\"y\"},{\"font\":{\"color\":\"#000000\"},\"showarrow\":false,\"text\":\"1.0\",\"x\":\"drive\",\"xref\":\"x\",\"y\":\"drive\",\"yref\":\"y\"},{\"font\":{\"color\":\"#FFFFFF\"},\"showarrow\":false,\"text\":\"0.04\",\"x\":\"type\",\"xref\":\"x\",\"y\":\"drive\",\"yref\":\"y\"},{\"font\":{\"color\":\"#FFFFFF\"},\"showarrow\":false,\"text\":\"-0.05\",\"x\":\"year\",\"xref\":\"x\",\"y\":\"type\",\"yref\":\"y\"},{\"font\":{\"color\":\"#FFFFFF\"},\"showarrow\":false,\"text\":\"0.28\",\"x\":\"condition\",\"xref\":\"x\",\"y\":\"type\",\"yref\":\"y\"},{\"font\":{\"color\":\"#FFFFFF\"},\"showarrow\":false,\"text\":\"0.22\",\"x\":\"cylinders\",\"xref\":\"x\",\"y\":\"type\",\"yref\":\"y\"},{\"font\":{\"color\":\"#FFFFFF\"},\"showarrow\":false,\"text\":\"-0.25\",\"x\":\"fuel\",\"xref\":\"x\",\"y\":\"type\",\"yref\":\"y\"},{\"font\":{\"color\":\"#FFFFFF\"},\"showarrow\":false,\"text\":\"-0.04\",\"x\":\"odometer\",\"xref\":\"x\",\"y\":\"type\",\"yref\":\"y\"},{\"font\":{\"color\":\"#FFFFFF\"},\"showarrow\":false,\"text\":\"-0.06\",\"x\":\"title_status\",\"xref\":\"x\",\"y\":\"type\",\"yref\":\"y\"},{\"font\":{\"color\":\"#FFFFFF\"},\"showarrow\":false,\"text\":\"-0.43\",\"x\":\"transmission\",\"xref\":\"x\",\"y\":\"type\",\"yref\":\"y\"},{\"font\":{\"color\":\"#FFFFFF\"},\"showarrow\":false,\"text\":\"0.04\",\"x\":\"drive\",\"xref\":\"x\",\"y\":\"type\",\"yref\":\"y\"},{\"font\":{\"color\":\"#000000\"},\"showarrow\":false,\"text\":\"1.0\",\"x\":\"type\",\"xref\":\"x\",\"y\":\"type\",\"yref\":\"y\"}],\"xaxis\":{\"dtick\":1,\"gridcolor\":\"rgb(0, 0, 0)\",\"side\":\"top\",\"ticks\":\"\"},\"yaxis\":{\"dtick\":1,\"ticks\":\"\",\"ticksuffix\":\"  \"},\"template\":{\"data\":{\"histogram2dcontour\":[{\"type\":\"histogram2dcontour\",\"colorbar\":{\"outlinewidth\":0,\"ticks\":\"\"},\"colorscale\":[[0.0,\"#0d0887\"],[0.1111111111111111,\"#46039f\"],[0.2222222222222222,\"#7201a8\"],[0.3333333333333333,\"#9c179e\"],[0.4444444444444444,\"#bd3786\"],[0.5555555555555556,\"#d8576b\"],[0.6666666666666666,\"#ed7953\"],[0.7777777777777778,\"#fb9f3a\"],[0.8888888888888888,\"#fdca26\"],[1.0,\"#f0f921\"]]}],\"choropleth\":[{\"type\":\"choropleth\",\"colorbar\":{\"outlinewidth\":0,\"ticks\":\"\"}}],\"histogram2d\":[{\"type\":\"histogram2d\",\"colorbar\":{\"outlinewidth\":0,\"ticks\":\"\"},\"colorscale\":[[0.0,\"#0d0887\"],[0.1111111111111111,\"#46039f\"],[0.2222222222222222,\"#7201a8\"],[0.3333333333333333,\"#9c179e\"],[0.4444444444444444,\"#bd3786\"],[0.5555555555555556,\"#d8576b\"],[0.6666666666666666,\"#ed7953\"],[0.7777777777777778,\"#fb9f3a\"],[0.8888888888888888,\"#fdca26\"],[1.0,\"#f0f921\"]]}],\"heatmap\":[{\"type\":\"heatmap\",\"colorbar\":{\"outlinewidth\":0,\"ticks\":\"\"},\"colorscale\":[[0.0,\"#0d0887\"],[0.1111111111111111,\"#46039f\"],[0.2222222222222222,\"#7201a8\"],[0.3333333333333333,\"#9c179e\"],[0.4444444444444444,\"#bd3786\"],[0.5555555555555556,\"#d8576b\"],[0.6666666666666666,\"#ed7953\"],[0.7777777777777778,\"#fb9f3a\"],[0.8888888888888888,\"#fdca26\"],[1.0,\"#f0f921\"]]}],\"heatmapgl\":[{\"type\":\"heatmapgl\",\"colorbar\":{\"outlinewidth\":0,\"ticks\":\"\"},\"colorscale\":[[0.0,\"#0d0887\"],[0.1111111111111111,\"#46039f\"],[0.2222222222222222,\"#7201a8\"],[0.3333333333333333,\"#9c179e\"],[0.4444444444444444,\"#bd3786\"],[0.5555555555555556,\"#d8576b\"],[0.6666666666666666,\"#ed7953\"],[0.7777777777777778,\"#fb9f3a\"],[0.8888888888888888,\"#fdca26\"],[1.0,\"#f0f921\"]]}],\"contourcarpet\":[{\"type\":\"contourcarpet\",\"colorbar\":{\"outlinewidth\":0,\"ticks\":\"\"}}],\"contour\":[{\"type\":\"contour\",\"colorbar\":{\"outlinewidth\":0,\"ticks\":\"\"},\"colorscale\":[[0.0,\"#0d0887\"],[0.1111111111111111,\"#46039f\"],[0.2222222222222222,\"#7201a8\"],[0.3333333333333333,\"#9c179e\"],[0.4444444444444444,\"#bd3786\"],[0.5555555555555556,\"#d8576b\"],[0.6666666666666666,\"#ed7953\"],[0.7777777777777778,\"#fb9f3a\"],[0.8888888888888888,\"#fdca26\"],[1.0,\"#f0f921\"]]}],\"surface\":[{\"type\":\"surface\",\"colorbar\":{\"outlinewidth\":0,\"ticks\":\"\"},\"colorscale\":[[0.0,\"#0d0887\"],[0.1111111111111111,\"#46039f\"],[0.2222222222222222,\"#7201a8\"],[0.3333333333333333,\"#9c179e\"],[0.4444444444444444,\"#bd3786\"],[0.5555555555555556,\"#d8576b\"],[0.6666666666666666,\"#ed7953\"],[0.7777777777777778,\"#fb9f3a\"],[0.8888888888888888,\"#fdca26\"],[1.0,\"#f0f921\"]]}],\"mesh3d\":[{\"type\":\"mesh3d\",\"colorbar\":{\"outlinewidth\":0,\"ticks\":\"\"}}],\"scatter\":[{\"fillpattern\":{\"fillmode\":\"overlay\",\"size\":10,\"solidity\":0.2},\"type\":\"scatter\"}],\"parcoords\":[{\"type\":\"parcoords\",\"line\":{\"colorbar\":{\"outlinewidth\":0,\"ticks\":\"\"}}}],\"scatterpolargl\":[{\"type\":\"scatterpolargl\",\"marker\":{\"colorbar\":{\"outlinewidth\":0,\"ticks\":\"\"}}}],\"bar\":[{\"error_x\":{\"color\":\"#2a3f5f\"},\"error_y\":{\"color\":\"#2a3f5f\"},\"marker\":{\"line\":{\"color\":\"#E5ECF6\",\"width\":0.5},\"pattern\":{\"fillmode\":\"overlay\",\"size\":10,\"solidity\":0.2}},\"type\":\"bar\"}],\"scattergeo\":[{\"type\":\"scattergeo\",\"marker\":{\"colorbar\":{\"outlinewidth\":0,\"ticks\":\"\"}}}],\"scatterpolar\":[{\"type\":\"scatterpolar\",\"marker\":{\"colorbar\":{\"outlinewidth\":0,\"ticks\":\"\"}}}],\"histogram\":[{\"marker\":{\"pattern\":{\"fillmode\":\"overlay\",\"size\":10,\"solidity\":0.2}},\"type\":\"histogram\"}],\"scattergl\":[{\"type\":\"scattergl\",\"marker\":{\"colorbar\":{\"outlinewidth\":0,\"ticks\":\"\"}}}],\"scatter3d\":[{\"type\":\"scatter3d\",\"line\":{\"colorbar\":{\"outlinewidth\":0,\"ticks\":\"\"}},\"marker\":{\"colorbar\":{\"outlinewidth\":0,\"ticks\":\"\"}}}],\"scattermapbox\":[{\"type\":\"scattermapbox\",\"marker\":{\"colorbar\":{\"outlinewidth\":0,\"ticks\":\"\"}}}],\"scatterternary\":[{\"type\":\"scatterternary\",\"marker\":{\"colorbar\":{\"outlinewidth\":0,\"ticks\":\"\"}}}],\"scattercarpet\":[{\"type\":\"scattercarpet\",\"marker\":{\"colorbar\":{\"outlinewidth\":0,\"ticks\":\"\"}}}],\"carpet\":[{\"aaxis\":{\"endlinecolor\":\"#2a3f5f\",\"gridcolor\":\"white\",\"linecolor\":\"white\",\"minorgridcolor\":\"white\",\"startlinecolor\":\"#2a3f5f\"},\"baxis\":{\"endlinecolor\":\"#2a3f5f\",\"gridcolor\":\"white\",\"linecolor\":\"white\",\"minorgridcolor\":\"white\",\"startlinecolor\":\"#2a3f5f\"},\"type\":\"carpet\"}],\"table\":[{\"cells\":{\"fill\":{\"color\":\"#EBF0F8\"},\"line\":{\"color\":\"white\"}},\"header\":{\"fill\":{\"color\":\"#C8D4E3\"},\"line\":{\"color\":\"white\"}},\"type\":\"table\"}],\"barpolar\":[{\"marker\":{\"line\":{\"color\":\"#E5ECF6\",\"width\":0.5},\"pattern\":{\"fillmode\":\"overlay\",\"size\":10,\"solidity\":0.2}},\"type\":\"barpolar\"}],\"pie\":[{\"automargin\":true,\"type\":\"pie\"}]},\"layout\":{\"autotypenumbers\":\"strict\",\"colorway\":[\"#636efa\",\"#EF553B\",\"#00cc96\",\"#ab63fa\",\"#FFA15A\",\"#19d3f3\",\"#FF6692\",\"#B6E880\",\"#FF97FF\",\"#FECB52\"],\"font\":{\"color\":\"#2a3f5f\"},\"hovermode\":\"closest\",\"hoverlabel\":{\"align\":\"left\"},\"paper_bgcolor\":\"white\",\"plot_bgcolor\":\"#E5ECF6\",\"polar\":{\"bgcolor\":\"#E5ECF6\",\"angularaxis\":{\"gridcolor\":\"white\",\"linecolor\":\"white\",\"ticks\":\"\"},\"radialaxis\":{\"gridcolor\":\"white\",\"linecolor\":\"white\",\"ticks\":\"\"}},\"ternary\":{\"bgcolor\":\"#E5ECF6\",\"aaxis\":{\"gridcolor\":\"white\",\"linecolor\":\"white\",\"ticks\":\"\"},\"baxis\":{\"gridcolor\":\"white\",\"linecolor\":\"white\",\"ticks\":\"\"},\"caxis\":{\"gridcolor\":\"white\",\"linecolor\":\"white\",\"ticks\":\"\"}},\"coloraxis\":{\"colorbar\":{\"outlinewidth\":0,\"ticks\":\"\"}},\"colorscale\":{\"sequential\":[[0.0,\"#0d0887\"],[0.1111111111111111,\"#46039f\"],[0.2222222222222222,\"#7201a8\"],[0.3333333333333333,\"#9c179e\"],[0.4444444444444444,\"#bd3786\"],[0.5555555555555556,\"#d8576b\"],[0.6666666666666666,\"#ed7953\"],[0.7777777777777778,\"#fb9f3a\"],[0.8888888888888888,\"#fdca26\"],[1.0,\"#f0f921\"]],\"sequentialminus\":[[0.0,\"#0d0887\"],[0.1111111111111111,\"#46039f\"],[0.2222222222222222,\"#7201a8\"],[0.3333333333333333,\"#9c179e\"],[0.4444444444444444,\"#bd3786\"],[0.5555555555555556,\"#d8576b\"],[0.6666666666666666,\"#ed7953\"],[0.7777777777777778,\"#fb9f3a\"],[0.8888888888888888,\"#fdca26\"],[1.0,\"#f0f921\"]],\"diverging\":[[0,\"#8e0152\"],[0.1,\"#c51b7d\"],[0.2,\"#de77ae\"],[0.3,\"#f1b6da\"],[0.4,\"#fde0ef\"],[0.5,\"#f7f7f7\"],[0.6,\"#e6f5d0\"],[0.7,\"#b8e186\"],[0.8,\"#7fbc41\"],[0.9,\"#4d9221\"],[1,\"#276419\"]]},\"xaxis\":{\"gridcolor\":\"white\",\"linecolor\":\"white\",\"ticks\":\"\",\"title\":{\"standoff\":15},\"zerolinecolor\":\"white\",\"automargin\":true,\"zerolinewidth\":2},\"yaxis\":{\"gridcolor\":\"white\",\"linecolor\":\"white\",\"ticks\":\"\",\"title\":{\"standoff\":15},\"zerolinecolor\":\"white\",\"automargin\":true,\"zerolinewidth\":2},\"scene\":{\"xaxis\":{\"backgroundcolor\":\"#E5ECF6\",\"gridcolor\":\"white\",\"linecolor\":\"white\",\"showbackground\":true,\"ticks\":\"\",\"zerolinecolor\":\"white\",\"gridwidth\":2},\"yaxis\":{\"backgroundcolor\":\"#E5ECF6\",\"gridcolor\":\"white\",\"linecolor\":\"white\",\"showbackground\":true,\"ticks\":\"\",\"zerolinecolor\":\"white\",\"gridwidth\":2},\"zaxis\":{\"backgroundcolor\":\"#E5ECF6\",\"gridcolor\":\"white\",\"linecolor\":\"white\",\"showbackground\":true,\"ticks\":\"\",\"zerolinecolor\":\"white\",\"gridwidth\":2}},\"shapedefaults\":{\"line\":{\"color\":\"#2a3f5f\"}},\"annotationdefaults\":{\"arrowcolor\":\"#2a3f5f\",\"arrowhead\":0,\"arrowwidth\":1},\"geo\":{\"bgcolor\":\"white\",\"landcolor\":\"#E5ECF6\",\"subunitcolor\":\"white\",\"showland\":true,\"showlakes\":true,\"lakecolor\":\"white\"},\"title\":{\"x\":0.05},\"mapbox\":{\"style\":\"light\"}}}},                        {\"responsive\": true}                    ).then(function(){\n",
              "                            \n",
              "var gd = document.getElementById('2e58a18d-b181-4234-8e3b-75f925c814b2');\n",
              "var x = new MutationObserver(function (mutations, observer) {{\n",
              "        var display = window.getComputedStyle(gd).display;\n",
              "        if (!display || display === 'none') {{\n",
              "            console.log([gd, 'removed!']);\n",
              "            Plotly.purge(gd);\n",
              "            observer.disconnect();\n",
              "        }}\n",
              "}});\n",
              "\n",
              "// Listen for the removal of the full notebook cells\n",
              "var notebookContainer = gd.closest('#notebook-container');\n",
              "if (notebookContainer) {{\n",
              "    x.observe(notebookContainer, {childList: true});\n",
              "}}\n",
              "\n",
              "// Listen for the clearing of the current output cell\n",
              "var outputEl = gd.closest('.output');\n",
              "if (outputEl) {{\n",
              "    x.observe(outputEl, {childList: true});\n",
              "}}\n",
              "\n",
              "                        })                };                });            </script>        </div>"
            ]
          },
          "metadata": {},
          "output_type": "display_data"
        }
      ],
      "source": [
        "import plotly.figure_factory as ff\n",
        "import plotly.graph_objs as go\n",
        "corrs = mydata1.corr()\n",
        "figure = ff.create_annotated_heatmap(\n",
        "    z=corrs.values,\n",
        "    x=list(corrs.columns),\n",
        "    y=list(corrs.index),\n",
        "    annotation_text=corrs.round(2).values,\n",
        "    showscale=True)\n",
        "figure.show()"
      ]
    },
    {
      "cell_type": "code",
      "execution_count": null,
      "id": "b4ceaaef-8e0c-4170-b519-e3357ededc20",
      "metadata": {
        "tags": [],
        "id": "b4ceaaef-8e0c-4170-b519-e3357ededc20",
        "outputId": "ef415b9e-838d-41c0-f450-5b3e3fcd5adc"
      },
      "outputs": [
        {
          "data": {
            "text/plain": [
              "<Axes: >"
            ]
          },
          "execution_count": 434,
          "metadata": {},
          "output_type": "execute_result"
        },
        {
          "data": {
            "image/png": "[encoded data removed]",
            "text/plain": [
              "<Figure size 1500x1000 with 2 Axes>"
            ]
          },
          "metadata": {},
          "output_type": "display_data"
        }
      ],
      "source": [
        "import seaborn as sns\n",
        "import matplotlib.pyplot as plt\n",
        "\n",
        "\n",
        "plt.subplots(figsize=(15,10))\n",
        "map1=sns.heatmap(corrs, annot=True, linewidth=1)#, cmap='coolwarm')\n",
        "map1"
      ]
    },
    {
      "cell_type": "code",
      "execution_count": null,
      "id": "945d1e30-b250-49c6-9165-e17c25624256",
      "metadata": {
        "id": "945d1e30-b250-49c6-9165-e17c25624256",
        "outputId": "fe3a754c-ae51-4c3c-b9c3-3d7f73533ad3"
      },
      "outputs": [
        {
          "data": {
            "text/plain": [
              "array([[ 0.11852556,  0.42558287,  1.28264881, ..., -1.84546191,\n",
              "        -1.20566528,  0.68582796],\n",
              "       [ 0.09947766,  0.42558287,  1.28264881, ..., -1.84546191,\n",
              "        -1.20566528,  0.68582796],\n",
              "       [ 0.1470974 ,  0.42558287,  1.28264881, ..., -1.84546191,\n",
              "        -1.20566528,  0.68582796],\n",
              "       ...,\n",
              "       [ 0.10900161,  0.42558287,  0.04277562, ..., -0.62894121,\n",
              "        -1.20566528, -1.14345311],\n",
              "       [ 0.1470974 ,  1.87643356, -1.19709756, ...,  0.5875795 ,\n",
              "        -1.20566528, -1.14345311],\n",
              "       [ 0.05661988, -0.05803403,  0.66271222, ...,  0.5875795 ,\n",
              "        -0.32239401,  0.0760676 ]])"
            ]
          },
          "execution_count": 435,
          "metadata": {},
          "output_type": "execute_result"
        }
      ],
      "source": [
        "from sklearn.preprocessing import StandardScaler\n",
        "feature_scaler = StandardScaler()\n",
        "X_scaled = feature_scaler.fit_transform(mydata1)\n",
        "Y = mydata['price']\n",
        "X_scaled\n",
        "\n"
      ]
    },
    {
      "cell_type": "code",
      "execution_count": null,
      "id": "fe16e3a6-f94b-4fff-aabc-19955390f736",
      "metadata": {
        "id": "fe16e3a6-f94b-4fff-aabc-19955390f736",
        "outputId": "17d2d078-be3f-47aa-95a4-4b6009d0b944"
      },
      "outputs": [
        {
          "name": "stdout",
          "output_type": "stream",
          "text": [
            "(1400, 9) (1400,)\n",
            "(600, 9) (600,)\n"
          ]
        }
      ],
      "source": [
        "from sklearn.linear_model import LinearRegression\n",
        "from sklearn import metrics as mt\n",
        "from sklearn.model_selection import train_test_split as tt\n",
        "X_train, X_test, y_train, y_test = tt(X_scaled,Y, test_size=0.30, random_state=3)\n",
        "print(X_train.shape, y_train.shape)\n",
        "print(X_test.shape, y_test.shape)"
      ]
    },
    {
      "cell_type": "code",
      "execution_count": null,
      "id": "0be2a581-1c50-4400-8fe6-6047c6e01f17",
      "metadata": {
        "tags": [],
        "id": "0be2a581-1c50-4400-8fe6-6047c6e01f17",
        "outputId": "e4be829e-f11f-4fcb-b1e8-47e1297a2c5d"
      },
      "outputs": [
        {
          "data": {
            "text/plain": [
              "1979864.0456368786"
            ]
          },
          "execution_count": 437,
          "metadata": {},
          "output_type": "execute_result"
        }
      ],
      "source": [
        "import numpy as np\n",
        "error = mt.mean_squared_error(y_test, y_pred)\n",
        "rmse = np.sqrt(error)\n",
        "rmse"
      ]
    },
    {
      "cell_type": "code",
      "execution_count": null,
      "id": "0728016c-a79f-4fcd-a1db-d2dd42718a82",
      "metadata": {
        "tags": [],
        "id": "0728016c-a79f-4fcd-a1db-d2dd42718a82",
        "outputId": "3fd432e9-042c-493b-cd6d-fcc055ad6b51"
      },
      "outputs": [
        {
          "data": {
            "text/plain": [
              "-17475.402351206445"
            ]
          },
          "execution_count": 438,
          "metadata": {},
          "output_type": "execute_result"
        }
      ],
      "source": [
        "reg= LinearRegression()\n",
        "reg.fit(X_train, y_train)\n",
        "y_pred = reg.predict(X_test)\n",
        "#y_pred\n",
        "\n",
        "score=reg.score(X_test,y_test)\n",
        "score"
      ]
    },
    {
      "cell_type": "code",
      "execution_count": null,
      "id": "29639705-2dbe-4660-a9ee-17156267f4da",
      "metadata": {
        "tags": [],
        "id": "29639705-2dbe-4660-a9ee-17156267f4da",
        "outputId": "2d4d25e4-37e2-465a-b6bd-c24156bd04d5"
      },
      "outputs": [
        {
          "data": {
            "text/plain": [
              "-17475.402351206445"
            ]
          },
          "execution_count": 439,
          "metadata": {},
          "output_type": "execute_result"
        }
      ],
      "source": [
        "mt.r2_score(y_test, y_pred)"
      ]
    },
    {
      "cell_type": "code",
      "execution_count": null,
      "id": "ee52ae3c-65c3-47f3-8531-40422fb222ad",
      "metadata": {
        "tags": [],
        "id": "ee52ae3c-65c3-47f3-8531-40422fb222ad",
        "outputId": "aa384814-2159-438c-d13a-4e395e927836"
      },
      "outputs": [
        {
          "data": {
            "text/plain": [
              "-17475.401918656262"
            ]
          },
          "execution_count": 440,
          "metadata": {},
          "output_type": "execute_result"
        }
      ],
      "source": [
        "from sklearn.linear_model import Lasso\n",
        "lasso = Lasso(alpha=0.01, max_iter=10000)\n",
        "lasso.fit(X_train, y_train)\n",
        "lasso_predict = lasso.predict(X_test)\n",
        "lasso.score(X_test, y_test)"
      ]
    },
    {
      "cell_type": "code",
      "execution_count": null,
      "id": "9b7dd8a0-7208-4aa5-9777-d8afc4c37b5e",
      "metadata": {
        "tags": [],
        "id": "9b7dd8a0-7208-4aa5-9777-d8afc4c37b5e",
        "outputId": "bbd27c95-2f36-4b80-96c3-369f93db270e"
      },
      "outputs": [
        {
          "name": "stdout",
          "output_type": "stream",
          "text": [
            "{'eta0': 0.1, 'max_iter': 10000}\n"
          ]
        }
      ],
      "source": [
        "from sklearn.model_selection import GridSearchCV\n",
        "from sklearn.linear_model import SGDRegressor\n",
        "sgdr = SGDRegressor(random_state = 1)\n",
        "grid_param = {'eta0': [.0001, .001, .01, .1, 1], 'max_iter':[10000, 20000, 30000, 40000]}\n",
        "\n",
        "gd_sr = GridSearchCV(estimator=sgdr, param_grid=grid_param, scoring='r2', cv=5)\n",
        "\n",
        "gd_sr.fit(X_scaled, Y)\n",
        "\n",
        "best_parameters = gd_sr.best_params_\n",
        "print(best_parameters)"
      ]
    },
    {
      "cell_type": "code",
      "execution_count": null,
      "id": "da322086-dae1-4613-97be-23f3e9ef5f10",
      "metadata": {
        "tags": [],
        "id": "da322086-dae1-4613-97be-23f3e9ef5f10",
        "outputId": "cf90de58-fe70-4605-976e-c7f663aa0127"
      },
      "outputs": [
        {
          "name": "stdout",
          "output_type": "stream",
          "text": [
            "Intercept [868915.40504597]\n",
            "       Features  Coefficients\n",
            "4         price  7.824480e+05\n",
            "5          year  2.301030e+05\n",
            "3    region_url  8.470874e+03\n",
            "0            id -1.735018e+05\n",
            "2        region -7.280827e+05\n",
            "1           url -7.571462e+05\n",
            "6  manufacturer -7.825464e+05\n",
            "7         model -9.621481e+05\n",
            "8     condition -1.034123e+06\n"
          ]
        }
      ],
      "source": [
        "sgdr = SGDRegressor(eta0=.01, max_iter=10000, penalty=None, random_state=1)\n",
        "sgdr.fit(X_scaled,Y)\n",
        "print('Intercept', sgdr.intercept_)\n",
        "print(pd.DataFrame(zip(mydata.columns, sgdr.coef_), columns=['Features','Coefficients']).sort_values(by=['Coefficients'],ascending=False))"
      ]
    },
    {
      "cell_type": "code",
      "execution_count": null,
      "id": "4a8d86a5-04cf-4cec-9f37-3c9862c708bb",
      "metadata": {
        "tags": [],
        "id": "4a8d86a5-04cf-4cec-9f37-3c9862c708bb",
        "outputId": "32d024da-533a-4eed-ed8a-42a2a8dd3532"
      },
      "outputs": [
        {
          "data": {
            "text/plain": [
              "0.0006270475809638798"
            ]
          },
          "execution_count": 445,
          "metadata": {},
          "output_type": "execute_result"
        }
      ],
      "source": [
        "sgdr.score(X_scaled, Y)"
      ]
    },
    {
      "cell_type": "code",
      "execution_count": null,
      "id": "4013f7d0-acc6-4134-a91f-314061876111",
      "metadata": {
        "tags": [],
        "id": "4013f7d0-acc6-4134-a91f-314061876111"
      },
      "outputs": [],
      "source": [
        "del mydata"
      ]
    },
    {
      "cell_type": "code",
      "execution_count": null,
      "id": "1b1e262c-8e7b-4395-8f42-2bfc08d2e09a",
      "metadata": {
        "tags": [],
        "id": "1b1e262c-8e7b-4395-8f42-2bfc08d2e09a"
      },
      "outputs": [],
      "source": [
        "del mydata1"
      ]
    },
    {
      "cell_type": "code",
      "execution_count": null,
      "id": "b3c10505-1487-4632-8f35-01e5100185a1",
      "metadata": {
        "id": "b3c10505-1487-4632-8f35-01e5100185a1",
        "outputId": "1901890b-6a21-43ad-85ec-09342c6be36d"
      },
      "outputs": [
        {
          "name": "stderr",
          "output_type": "stream",
          "text": [
            "C:\\Users\\Athul\\AppData\\Local\\Temp\\ipykernel_19404\\1185559434.py:3: DtypeWarning:\n",
            "\n",
            "Columns (1,2,3,6,7,8,9,10,12,13,14,15,16,17,18,19,20,22,25) have mixed types. Specify dtype option on import or set low_memory=False.\n",
            "\n"
          ]
        },
        {
          "name": "stdout",
          "output_type": "stream",
          "text": [
            "<class 'pandas.core.frame.DataFrame'>\n",
            "RangeIndex: 304771 entries, 0 to 304770\n",
            "Data columns (total 26 columns):\n",
            " #   Column        Non-Null Count  Dtype  \n",
            "---  ------        --------------  -----  \n",
            " 0   id            4208 non-null   float64\n",
            " 1   url           4208 non-null   object \n",
            " 2   region        4208 non-null   object \n",
            " 3   region_url    4208 non-null   object \n",
            " 4   price         4208 non-null   float64\n",
            " 5   year          4156 non-null   float64\n",
            " 6   manufacturer  3960 non-null   object \n",
            " 7   model         4176 non-null   object \n",
            " 8   condition     2381 non-null   object \n",
            " 9   cylinders     2658 non-null   object \n",
            " 10  fuel          4140 non-null   object \n",
            " 11  odometer      4196 non-null   float64\n",
            " 12  title_status  4075 non-null   object \n",
            " 13  transmission  4205 non-null   object \n",
            " 14  VIN           2625 non-null   object \n",
            " 15  drive         2781 non-null   object \n",
            " 16  size          1120 non-null   object \n",
            " 17  type          3091 non-null   object \n",
            " 18  paint_color   3296 non-null   object \n",
            " 19  image_url     4208 non-null   object \n",
            " 20  description   4208 non-null   object \n",
            " 21  county        0 non-null      float64\n",
            " 22  state         4208 non-null   object \n",
            " 23  lat           4171 non-null   float64\n",
            " 24  long          4171 non-null   float64\n",
            " 25  posting_date  4208 non-null   object \n",
            "dtypes: float64(7), object(19)\n",
            "memory usage: 60.5+ MB\n"
          ]
        }
      ],
      "source": [
        "import pandas as pd\n",
        "import matplotlib.pyplot as plt\n",
        "mydata = pd.read_csv('vehicles.csv')\n",
        "mydata.head(10)\n",
        "mydata.info()"
      ]
    },
    {
      "cell_type": "code",
      "execution_count": null,
      "id": "7a12e772-3cba-45ca-9e04-17e20cb3e154",
      "metadata": {
        "tags": [],
        "id": "7a12e772-3cba-45ca-9e04-17e20cb3e154"
      },
      "outputs": [],
      "source": [
        "mydata = mydata.iloc[:2000,:]"
      ]
    },
    {
      "cell_type": "code",
      "execution_count": null,
      "id": "0d872765-fb30-4918-a838-bc2a845862db",
      "metadata": {
        "tags": [],
        "id": "0d872765-fb30-4918-a838-bc2a845862db"
      },
      "outputs": [],
      "source": [
        "mydata.fillna('NaN', inplace=True)"
      ]
    },
    {
      "cell_type": "code",
      "execution_count": null,
      "id": "65942b8a-ad64-41a5-b70b-ea89522e5ac0",
      "metadata": {
        "tags": [],
        "id": "65942b8a-ad64-41a5-b70b-ea89522e5ac0",
        "outputId": "21c53032-6ce9-4b04-d00a-f36c6c0ea5c3"
      },
      "outputs": [
        {
          "data": {
            "image/png": "[encoded data removed]",
            "text/plain": [
              "<Figure size 640x480 with 1 Axes>"
            ]
          },
          "metadata": {},
          "output_type": "display_data"
        }
      ],
      "source": [
        "plt.scatter(mydata['condition'], mydata['type'])\n",
        "plt.xlabel('condition')\n",
        "plt.ylabel('type')\n",
        "plt.show()"
      ]
    },
    {
      "cell_type": "code",
      "execution_count": null,
      "id": "24a18926-28fc-4d3e-8b9f-69913413b9e9",
      "metadata": {
        "tags": [],
        "id": "24a18926-28fc-4d3e-8b9f-69913413b9e9",
        "outputId": "f3e705cb-dd1f-4f4d-f622-f9fecb188c93"
      },
      "outputs": [
        {
          "data": {
            "image/png": "[encoded data removed]",
            "text/plain": [
              "<Figure size 640x480 with 1 Axes>"
            ]
          },
          "metadata": {},
          "output_type": "display_data"
        }
      ],
      "source": [
        "plt.bar(mydata['fuel'], mydata['manufacturer'])\n",
        "plt.xlabel('fuel')\n",
        "plt.ylabel('manufacturer')\n",
        "plt.show()"
      ]
    },
    {
      "cell_type": "code",
      "execution_count": null,
      "id": "97bf9815-564b-4c7a-a9ff-9a6a439f30f3",
      "metadata": {
        "tags": [],
        "id": "97bf9815-564b-4c7a-a9ff-9a6a439f30f3",
        "outputId": "e38a6b7b-3b9f-4847-abb9-75a15bfb4010"
      },
      "outputs": [
        {
          "data": {
            "image/png": "[encoded data removed]",
            "text/plain": [
              "<Figure size 640x480 with 1 Axes>"
            ]
          },
          "metadata": {},
          "output_type": "display_data"
        }
      ],
      "source": [
        "plt.scatter(mydata['cylinders'], mydata['transmission'])\n",
        "plt.xlabel('cylinder')\n",
        "plt.ylabel('transmission')\n",
        "plt.show()"
      ]
    },
    {
      "cell_type": "code",
      "execution_count": null,
      "id": "11d35eb7-fc78-441d-a795-f7a42af415e6",
      "metadata": {
        "tags": [],
        "id": "11d35eb7-fc78-441d-a795-f7a42af415e6",
        "outputId": "3386fc0c-90c3-49cb-9f43-1951d8f3b0f7"
      },
      "outputs": [
        {
          "data": {
            "image/png": "[encoded data removed]",
            "text/plain": [
              "<Figure size 640x480 with 1 Axes>"
            ]
          },
          "metadata": {},
          "output_type": "display_data"
        }
      ],
      "source": [
        "plt.barh(mydata['paint_color'], mydata['title_status'])\n",
        "plt.xlabel('title_status')\n",
        "plt.ylabel('paint_color')\n",
        "plt.show()"
      ]
    },
    {
      "cell_type": "code",
      "execution_count": null,
      "id": "15702183-646d-4e62-994b-c3a03e33f96f",
      "metadata": {
        "tags": [],
        "id": "15702183-646d-4e62-994b-c3a03e33f96f",
        "outputId": "f9dbad32-6f46-49ca-a810-cf1fd550bfba"
      },
      "outputs": [
        {
          "data": {
            "image/png": "[encoded data removed]",
            "text/plain": [
              "<Figure size 640x480 with 1 Axes>"
            ]
          },
          "metadata": {},
          "output_type": "display_data"
        }
      ],
      "source": [
        "propTypeMean = mydata.groupby(['fuel'])['price'].mean().plot(kind='pie', y='Average price')"
      ]
    },
    {
      "cell_type": "code",
      "execution_count": null,
      "id": "03429b71-7600-40a3-bbc8-a5ae6559b10e",
      "metadata": {
        "id": "03429b71-7600-40a3-bbc8-a5ae6559b10e"
      },
      "outputs": [],
      "source": []
    }
  ],
  "metadata": {
    "kernelspec": {
      "display_name": "Python 3 (ipykernel)",
      "language": "python",
      "name": "python3"
    },
    "language_info": {
      "codemirror_mode": {
        "name": "ipython",
        "version": 3
      },
      "file_extension": ".py",
      "mimetype": "text/x-python",
      "name": "python",
      "nbconvert_exporter": "python",
      "pygments_lexer": "ipython3",
      "version": "3.11.2"
    },
    "colab": {
      "provenance": [],
      "include_colab_link": true
    }
  },
  "nbformat": 4,
  "nbformat_minor": 5
}